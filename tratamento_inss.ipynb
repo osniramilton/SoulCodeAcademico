{
  "nbformat": 4,
  "nbformat_minor": 0,
  "metadata": {
    "colab": {
      "provenance": [],
      "collapsed_sections": [
        "dTcGvxYIeKKL"
      ],
      "toc_visible": true,
      "include_colab_link": true
    },
    "kernelspec": {
      "name": "python3",
      "display_name": "Python 3"
    },
    "language_info": {
      "name": "python"
    }
  },
  "cells": [
    {
      "cell_type": "markdown",
      "metadata": {
        "id": "view-in-github",
        "colab_type": "text"
      },
      "source": [
        "<a href=\"https://colab.research.google.com/github/osniramilton/SoulCodeAcademico/blob/soulcode/tratamento_inss.ipynb\" target=\"_parent\"><img src=\"https://colab.research.google.com/assets/colab-badge.svg\" alt=\"Open In Colab\"/></a>"
      ]
    },
    {
      "cell_type": "markdown",
      "source": [
        "# Infra"
      ],
      "metadata": {
        "id": "H4IAmKKzF_Ie"
      }
    },
    {
      "cell_type": "markdown",
      "source": [
        "## Instalação e importação das bibliotecas necessárias"
      ],
      "metadata": {
        "id": "8n0-XNokBvNY"
      }
    },
    {
      "cell_type": "code",
      "execution_count": null,
      "metadata": {
        "colab": {
          "base_uri": "https://localhost:8080/"
        },
        "id": "hi7q5zBfRcuA",
        "outputId": "b4451b46-1015-41f4-b71f-bca14d7283fe"
      },
      "outputs": [
        {
          "output_type": "stream",
          "name": "stdout",
          "text": [
            "Looking in indexes: https://pypi.org/simple, https://us-python.pkg.dev/colab-wheels/public/simple/\n",
            "Collecting pyspark\n",
            "  Downloading pyspark-3.3.1.tar.gz (281.4 MB)\n",
            "\u001b[K     |████████████████████████████████| 281.4 MB 58 kB/s \n",
            "\u001b[?25hCollecting py4j==0.10.9.5\n",
            "  Downloading py4j-0.10.9.5-py2.py3-none-any.whl (199 kB)\n",
            "\u001b[K     |████████████████████████████████| 199 kB 89.2 MB/s \n",
            "\u001b[?25hBuilding wheels for collected packages: pyspark\n",
            "  Building wheel for pyspark (setup.py) ... \u001b[?25l\u001b[?25hdone\n",
            "  Created wheel for pyspark: filename=pyspark-3.3.1-py2.py3-none-any.whl size=281845512 sha256=5246815b9bbad1773833c8b104f15bf85874a195e5a69fe7c1c2c37b11f2371b\n",
            "  Stored in directory: /root/.cache/pip/wheels/43/dc/11/ec201cd671da62fa9c5cc77078235e40722170ceba231d7598\n",
            "Successfully built pyspark\n",
            "Installing collected packages: py4j, pyspark\n",
            "Successfully installed py4j-0.10.9.5 pyspark-3.3.1\n"
          ]
        }
      ],
      "source": [
        "# Instalação do PYSPARK\n",
        "!pip install pyspark"
      ]
    },
    {
      "cell_type": "code",
      "source": [
        "# INSTALAÇÃO DA BIBLIOTECA GOOGLE CLOUD STORAGE SYSTEM\n",
        "# (para fazer o upload dos datafiles no bucket da GCP, e também para acessá-los posteriormente)\n",
        "!pip install gcsfs"
      ],
      "metadata": {
        "colab": {
          "base_uri": "https://localhost:8080/"
        },
        "id": "UKl5flh_To1B",
        "outputId": "28e6e1bd-9fa8-4784-ad25-2be2475bfb0b"
      },
      "execution_count": null,
      "outputs": [
        {
          "output_type": "stream",
          "name": "stdout",
          "text": [
            "Looking in indexes: https://pypi.org/simple, https://us-python.pkg.dev/colab-wheels/public/simple/\n",
            "Collecting gcsfs\n",
            "  Downloading gcsfs-2022.11.0-py2.py3-none-any.whl (26 kB)\n",
            "Requirement already satisfied: google-auth-oauthlib in /usr/local/lib/python3.8/dist-packages (from gcsfs) (0.4.6)\n",
            "Requirement already satisfied: requests in /usr/local/lib/python3.8/dist-packages (from gcsfs) (2.23.0)\n",
            "Requirement already satisfied: google-cloud-storage in /usr/local/lib/python3.8/dist-packages (from gcsfs) (2.5.0)\n",
            "Requirement already satisfied: aiohttp!=4.0.0a0,!=4.0.0a1 in /usr/local/lib/python3.8/dist-packages (from gcsfs) (3.8.3)\n",
            "Requirement already satisfied: google-auth>=1.2 in /usr/local/lib/python3.8/dist-packages (from gcsfs) (2.15.0)\n",
            "Requirement already satisfied: decorator>4.1.2 in /usr/local/lib/python3.8/dist-packages (from gcsfs) (4.4.2)\n",
            "Requirement already satisfied: fsspec==2022.11.0 in /usr/local/lib/python3.8/dist-packages (from gcsfs) (2022.11.0)\n",
            "Requirement already satisfied: yarl<2.0,>=1.0 in /usr/local/lib/python3.8/dist-packages (from aiohttp!=4.0.0a0,!=4.0.0a1->gcsfs) (1.8.2)\n",
            "Requirement already satisfied: multidict<7.0,>=4.5 in /usr/local/lib/python3.8/dist-packages (from aiohttp!=4.0.0a0,!=4.0.0a1->gcsfs) (6.0.3)\n",
            "Requirement already satisfied: async-timeout<5.0,>=4.0.0a3 in /usr/local/lib/python3.8/dist-packages (from aiohttp!=4.0.0a0,!=4.0.0a1->gcsfs) (4.0.2)\n",
            "Requirement already satisfied: attrs>=17.3.0 in /usr/local/lib/python3.8/dist-packages (from aiohttp!=4.0.0a0,!=4.0.0a1->gcsfs) (22.1.0)\n",
            "Requirement already satisfied: charset-normalizer<3.0,>=2.0 in /usr/local/lib/python3.8/dist-packages (from aiohttp!=4.0.0a0,!=4.0.0a1->gcsfs) (2.1.1)\n",
            "Requirement already satisfied: aiosignal>=1.1.2 in /usr/local/lib/python3.8/dist-packages (from aiohttp!=4.0.0a0,!=4.0.0a1->gcsfs) (1.3.1)\n",
            "Requirement already satisfied: frozenlist>=1.1.1 in /usr/local/lib/python3.8/dist-packages (from aiohttp!=4.0.0a0,!=4.0.0a1->gcsfs) (1.3.3)\n",
            "Requirement already satisfied: rsa<5,>=3.1.4 in /usr/local/lib/python3.8/dist-packages (from google-auth>=1.2->gcsfs) (4.9)\n",
            "Requirement already satisfied: pyasn1-modules>=0.2.1 in /usr/local/lib/python3.8/dist-packages (from google-auth>=1.2->gcsfs) (0.2.8)\n",
            "Requirement already satisfied: cachetools<6.0,>=2.0.0 in /usr/local/lib/python3.8/dist-packages (from google-auth>=1.2->gcsfs) (5.2.0)\n",
            "Requirement already satisfied: six>=1.9.0 in /usr/local/lib/python3.8/dist-packages (from google-auth>=1.2->gcsfs) (1.15.0)\n",
            "Requirement already satisfied: pyasn1<0.5.0,>=0.4.6 in /usr/local/lib/python3.8/dist-packages (from pyasn1-modules>=0.2.1->google-auth>=1.2->gcsfs) (0.4.8)\n",
            "Requirement already satisfied: idna>=2.0 in /usr/local/lib/python3.8/dist-packages (from yarl<2.0,>=1.0->aiohttp!=4.0.0a0,!=4.0.0a1->gcsfs) (2.10)\n",
            "Requirement already satisfied: requests-oauthlib>=0.7.0 in /usr/local/lib/python3.8/dist-packages (from google-auth-oauthlib->gcsfs) (1.3.1)\n",
            "Requirement already satisfied: oauthlib>=3.0.0 in /usr/local/lib/python3.8/dist-packages (from requests-oauthlib>=0.7.0->google-auth-oauthlib->gcsfs) (3.2.2)\n",
            "Requirement already satisfied: chardet<4,>=3.0.2 in /usr/local/lib/python3.8/dist-packages (from requests->gcsfs) (3.0.4)\n",
            "Requirement already satisfied: urllib3!=1.25.0,!=1.25.1,<1.26,>=1.21.1 in /usr/local/lib/python3.8/dist-packages (from requests->gcsfs) (1.24.3)\n",
            "Requirement already satisfied: certifi>=2017.4.17 in /usr/local/lib/python3.8/dist-packages (from requests->gcsfs) (2022.12.7)\n",
            "Requirement already satisfied: google-cloud-core<3.0dev,>=2.3.0 in /usr/local/lib/python3.8/dist-packages (from google-cloud-storage->gcsfs) (2.3.2)\n",
            "Requirement already satisfied: google-api-core!=2.0.*,!=2.1.*,!=2.2.*,!=2.3.0,<3.0.0dev,>=1.31.5 in /usr/local/lib/python3.8/dist-packages (from google-cloud-storage->gcsfs) (2.8.2)\n",
            "Requirement already satisfied: google-resumable-media>=2.3.2 in /usr/local/lib/python3.8/dist-packages (from google-cloud-storage->gcsfs) (2.4.0)\n",
            "Requirement already satisfied: protobuf<5.0.0dev,>=3.15.0 in /usr/local/lib/python3.8/dist-packages (from google-api-core!=2.0.*,!=2.1.*,!=2.2.*,!=2.3.0,<3.0.0dev,>=1.31.5->google-cloud-storage->gcsfs) (3.19.6)\n",
            "Requirement already satisfied: googleapis-common-protos<2.0dev,>=1.56.2 in /usr/local/lib/python3.8/dist-packages (from google-api-core!=2.0.*,!=2.1.*,!=2.2.*,!=2.3.0,<3.0.0dev,>=1.31.5->google-cloud-storage->gcsfs) (1.57.0)\n",
            "Requirement already satisfied: google-crc32c<2.0dev,>=1.0 in /usr/local/lib/python3.8/dist-packages (from google-resumable-media>=2.3.2->google-cloud-storage->gcsfs) (1.5.0)\n",
            "Installing collected packages: gcsfs\n",
            "Successfully installed gcsfs-2022.11.0\n"
          ]
        }
      ]
    },
    {
      "cell_type": "code",
      "source": [
        "# IMPORTAR AS BIBLIOTECAS NECESSÁRIAS\n",
        "\n",
        "# para acessar a GCP\n",
        "from google.cloud import storage\n",
        "import os\n",
        "\n",
        "# para o mongoDB\n",
        "import pymongo\n",
        "from pymongo import MongoClient\n",
        "\n",
        "# pyspark e pandas\n",
        "from pyspark.sql import SparkSession\n",
        "import pandas as pd\n",
        "\n",
        "# importar funções úteis\n",
        "import pyspark.sql.functions as F\n",
        "from pyspark.sql.functions import regexp_replace, when, count, isnull"
      ],
      "metadata": {
        "id": "obVpgWXSU99T"
      },
      "execution_count": null,
      "outputs": []
    },
    {
      "cell_type": "code",
      "source": [
        "# CONFIGURAÇÃO DA CHAVE DE SEGURANÇA\n",
        "serviceAccount = '/content/aulas-bc26-jose-j-d865a94dcb2f.json'\n",
        "os.environ['GOOGLE_APPLICATION_CREDENTIALS'] = serviceAccount"
      ],
      "metadata": {
        "id": "5XOJApaKV3y6"
      },
      "execution_count": null,
      "outputs": []
    },
    {
      "cell_type": "markdown",
      "source": [
        "## Upload das bases de dados originais"
      ],
      "metadata": {
        "id": "71_uSH7oeFUc"
      }
    },
    {
      "cell_type": "markdown",
      "source": [
        "### Upload para a GCP"
      ],
      "metadata": {
        "id": "dTcGvxYIeKKL"
      }
    },
    {
      "cell_type": "code",
      "source": [
        "# FAZER O ACESSO A BUCKET\n",
        "client = storage.Client()\n",
        "\n",
        "# CRIAR UMA VARIÁVEL PARA RECEBER O NOME DA BUCKET\n",
        "bucket = client.get_bucket('bc_26_jose_datasets')\n",
        "\n",
        "# FAZER UPLOAD DO CSV, DISPONIBILIZADO PARA A ANÁLISE, PARA A BUCKET DO GOOGLE CLOUD\n",
        "# blob = bucket.blob('D.SDA.PDA.005.CAT.202201_orig.csv')\n",
        "# blob.upload_from_filename('D.SDA.PDA.005.CAT.202201_orig.csv')\n",
        "\n",
        "'''\n",
        "os três uploads ficaram separados como comentários para evitar que sejam executados novamente e \n",
        "se repita o upload\n",
        "'''\n"
      ],
      "metadata": {
        "id": "QYffSEpoYduf"
      },
      "execution_count": null,
      "outputs": []
    },
    {
      "cell_type": "code",
      "source": [
        "# blob = bucket.blob('D.SDA.PDA.005.CAT.202204_orig.csv')\n",
        "# blob.upload_from_filename('D.SDA.PDA.005.CAT.202204_orig.csv')"
      ],
      "metadata": {
        "id": "OasqAmykhrC5"
      },
      "execution_count": null,
      "outputs": []
    },
    {
      "cell_type": "code",
      "source": [
        "# blob = bucket.blob('D.SDA.PDA.005.CAT.202210_orig.csv')\n",
        "# blob.upload_from_filename('D.SDA.PDA.005.CAT.202210_orig.csv')"
      ],
      "metadata": {
        "id": "RQ142hnUhq8Z"
      },
      "execution_count": null,
      "outputs": []
    },
    {
      "cell_type": "markdown",
      "source": [
        "### Criando os DataFrames a partir dos datasets na bucket do GCP "
      ],
      "metadata": {
        "id": "GptOGckLhWeb"
      }
    },
    {
      "cell_type": "code",
      "source": [
        "# FAZER O ACESSO A BUCKET\n",
        "client = storage.Client()\n",
        "\n",
        "# CRIAR UMA VARIÁVEL PARA RECEBER O NOME DA BUCKET \n",
        "# (coloquei o código aqui novamente caso não executemos mais a célula do upload)\n",
        "bucket = client.get_bucket('bc_26_jose_datasets')\n",
        "\n",
        "# Para acessar o arquivo que está na bucket\n",
        "bucket.blob('D.SDA.PDA.005.CAT.202201_orig.csv')\n",
        "\n",
        "# CRIAR UMA VARIÁVEL PARA RECEBER O CAMINHO DO ARQUIVO\n",
        "path = 'gs://bc_26_jose_datasets/D.SDA.PDA.005.CAT.202201_orig.csv'"
      ],
      "metadata": {
        "id": "Ck8mitfEhrb9"
      },
      "execution_count": null,
      "outputs": []
    },
    {
      "cell_type": "code",
      "source": [
        "df1 = pd.read_csv(path, sep=\";\", encoding='ISO-8859-1')"
      ],
      "metadata": {
        "id": "z4SeV39ViQQW"
      },
      "execution_count": null,
      "outputs": []
    },
    {
      "cell_type": "code",
      "source": [
        "df1"
      ],
      "metadata": {
        "id": "EkEiyCHkiZNe",
        "colab": {
          "base_uri": "https://localhost:8080/",
          "height": 1000
        },
        "outputId": "6f153d0e-3d9e-4554-88ae-6e5bdc764eb2"
      },
      "execution_count": null,
      "outputs": [
        {
          "output_type": "execute_result",
          "data": {
            "text/plain": [
              "                           Agente  Causador  Acidente Data Acidente  \\\n",
              "0       {ñ class}                                           2022/01   \n",
              "1       Motocicleta, Motoneta                               2022/02   \n",
              "2       Motocicleta, Motoneta                               2022/02   \n",
              "3       Aprision. Em, Sobre ou Entre Dois ou Mai            2022/02   \n",
              "4       Impacto de Pes. Contra Objeto em Movimento          2022/01   \n",
              "...                                               ...           ...   \n",
              "152135  {ñ class}                                           2022/04   \n",
              "152136  {ñ class}                                           2022/04   \n",
              "152137  {ñ class}                                           2022/05   \n",
              "152138  {ñ class}                                           2022/05   \n",
              "152139  {ñ class}                                           2022/06   \n",
              "\n",
              "                                                  CBO  \\\n",
              "0       515105-Agente Comunitário de Saúde              \n",
              "1       519110-Motociclista no Transporte de Document   \n",
              "2       519110-Motociclista no Transporte de Document   \n",
              "3       514205-Coletor Lixo                             \n",
              "4       {ñ class}                                       \n",
              "...                                               ...   \n",
              "152135  000000-Não Informado                            \n",
              "152136  000000-Não Informado                            \n",
              "152137  000000-Não Informado                            \n",
              "152138  000000-Não Informado                            \n",
              "152139  000000-Não Informado                            \n",
              "\n",
              "                                               CID-10  CNAE2.0 Empregador  \\\n",
              "0       B34.2 Infecc p/Coronavirus Ne                                8630   \n",
              "1       S52.5 Frat da Extremidade Distal do Radio                    4930   \n",
              "2       S52.5 Frat da Extremidade Distal do Radio                    4930   \n",
              "3       S60.0 Contusao de Dedos s/Lesao da Unha                      3811   \n",
              "4       S90.0 Contusao do Tornozelo                                  4639   \n",
              "...                                               ...                 ...   \n",
              "152135  S82.6 Frat do Maleolo Lateral                                   0   \n",
              "152136  S82.1 Frat da Extremidade Proximal da Tibia                     0   \n",
              "152137  S62.6 Frat de Outr Dedos                                        0   \n",
              "152138  S82.6 Frat do Maleolo Lateral                                   0   \n",
              "152139  K42   Hernia Umbilical                                          0   \n",
              "\n",
              "                                 CNAE2.0 Empregador.1         Emitente CAT  \\\n",
              "0       Atividades de Atencao Ambulatorial Executadas  Empregador            \n",
              "1       Transporte Rodoviario de Carga                 Segurado/Dependente   \n",
              "2       Transporte Rodoviario de Carga                 Segurado/Dependente   \n",
              "3       Coleta de Residuos Nao-Perigosos               Empregador            \n",
              "4       Comercio Atacadista de Produtos Alimenticios   Empregador            \n",
              "...                                               ...                  ...   \n",
              "152135  {ñ class}                                      {ñ class}             \n",
              "152136  {ñ class}                                      {ñ class}             \n",
              "152137  {ñ class}                                      {ñ class}             \n",
              "152138  {ñ class}                                      {ñ class}             \n",
              "152139  {ñ class}                                      {ñ class}             \n",
              "\n",
              "                                 Espécie do benefício  \\\n",
              "0       Pa                                              \n",
              "1       Pa                                              \n",
              "2       Pa                                              \n",
              "3       Pa                                              \n",
              "4       Pa                                              \n",
              "...                                               ...   \n",
              "152135  Auxílio Doenca por Acidente do Trabalho         \n",
              "152136  Auxílio Doenca por Acidente do Trabalho         \n",
              "152137  Auxílio Doenca por Acidente do Trabalho         \n",
              "152138  Auxílio Doenca por Acidente do Trabalho         \n",
              "152139  Auxílio Doenca por Acidente do Trabalho         \n",
              "\n",
              "                                    Filiação Segurado Indica Óbito Acidente  \\\n",
              "0       Empregado                                                       Não   \n",
              "1       Empregado                                                       Não   \n",
              "2       Empregado                                                       Não   \n",
              "3       Empregado                                                       Não   \n",
              "4       Empregado                                                       Não   \n",
              "...                                               ...                   ...   \n",
              "152135  {ñ class}                                                       {ñ    \n",
              "152136  {ñ class}                                                       {ñ    \n",
              "152137  {ñ class}                                                       {ñ    \n",
              "152138  {ñ class}                                                       {ñ    \n",
              "152139  {ñ class}                                                       {ñ    \n",
              "\n",
              "        ...           Sexo Tipo do Acidente UF  Munic.  Acidente  \\\n",
              "0       ...  Feminino              Doença       Maranhão           \n",
              "1       ...  Masculino             Trajeto      Maranhão           \n",
              "2       ...  Masculino             Trajeto      Maranhão           \n",
              "3       ...  Masculino             Típico       {ñ class}          \n",
              "4       ...  Masculino             Típico       Maranhão           \n",
              "...     ...            ...              ...                  ...   \n",
              "152135  ...  Masculino             Ignorado     Sergipe            \n",
              "152136  ...  Masculino             Ignorado     Sergipe            \n",
              "152137  ...  Masculino             Ignorado     Sergipe            \n",
              "152138  ...  Masculino             Ignorado     Sergipe            \n",
              "152139  ...  Masculino             Ignorado     Sergipe            \n",
              "\n",
              "       UF Munic. Empregador Data Acidente.1 Data Despacho Benefício  \\\n",
              "0       São Paulo                   2022/01                 0000/00   \n",
              "1       São Paulo                   2022/02                 0000/00   \n",
              "2       São Paulo                   2022/02                 0000/00   \n",
              "3       Goiás                       2022/02                 0000/00   \n",
              "4       São Paulo                   2022/01                 0000/00   \n",
              "...                     ...             ...                     ...   \n",
              "152135  Zerado                      2022/04                 2022/06   \n",
              "152136  Zerado                      2022/04                 2022/06   \n",
              "152137  Zerado                      2022/05                 2022/06   \n",
              "152138  Zerado                      2022/05                 2022/06   \n",
              "152139  Zerado                      2022/06                 2022/06   \n",
              "\n",
              "       Data Acidente.2 Data Nascimento Data Emissão CAT CNPJ/CEI Empregador  \n",
              "0           20/01/2022      02/08/1970       01/03/2022  57.571.275.002.570  \n",
              "1           25/02/2022      16/12/1990       01/03/2022  19.578.086.000.162  \n",
              "2           25/02/2022      16/12/1990       01/03/2022  19.578.086.000.162  \n",
              "3           24/02/2022      19/09/1986       01/03/2022  00.000.000.000.000  \n",
              "4           28/01/2022      25/07/1995       01/03/2022  00.000.000.000.000  \n",
              "...                ...             ...              ...                 ...  \n",
              "152135      12/04/2022      08/11/1965       00/00/0000  00.000.000.000.000  \n",
              "152136      30/04/2022      21/11/1985       00/00/0000  00.000.000.000.000  \n",
              "152137      05/05/2022      27/01/1992       00/00/0000  00.000.000.000.000  \n",
              "152138      15/05/2022      14/01/1975       00/00/0000  00.000.000.000.000  \n",
              "152139      07/06/2022      24/07/1971       00/00/0000  00.000.000.000.000  \n",
              "\n",
              "[152140 rows x 24 columns]"
            ],
            "text/html": [
              "\n",
              "  <div id=\"df-70640464-8530-4d52-89fb-7cbb71beeed8\">\n",
              "    <div class=\"colab-df-container\">\n",
              "      <div>\n",
              "<style scoped>\n",
              "    .dataframe tbody tr th:only-of-type {\n",
              "        vertical-align: middle;\n",
              "    }\n",
              "\n",
              "    .dataframe tbody tr th {\n",
              "        vertical-align: top;\n",
              "    }\n",
              "\n",
              "    .dataframe thead th {\n",
              "        text-align: right;\n",
              "    }\n",
              "</style>\n",
              "<table border=\"1\" class=\"dataframe\">\n",
              "  <thead>\n",
              "    <tr style=\"text-align: right;\">\n",
              "      <th></th>\n",
              "      <th>Agente  Causador  Acidente</th>\n",
              "      <th>Data Acidente</th>\n",
              "      <th>CBO</th>\n",
              "      <th>CID-10</th>\n",
              "      <th>CNAE2.0 Empregador</th>\n",
              "      <th>CNAE2.0 Empregador.1</th>\n",
              "      <th>Emitente CAT</th>\n",
              "      <th>Espécie do benefício</th>\n",
              "      <th>Filiação Segurado</th>\n",
              "      <th>Indica Óbito Acidente</th>\n",
              "      <th>...</th>\n",
              "      <th>Sexo</th>\n",
              "      <th>Tipo do Acidente</th>\n",
              "      <th>UF  Munic.  Acidente</th>\n",
              "      <th>UF Munic. Empregador</th>\n",
              "      <th>Data Acidente.1</th>\n",
              "      <th>Data Despacho Benefício</th>\n",
              "      <th>Data Acidente.2</th>\n",
              "      <th>Data Nascimento</th>\n",
              "      <th>Data Emissão CAT</th>\n",
              "      <th>CNPJ/CEI Empregador</th>\n",
              "    </tr>\n",
              "  </thead>\n",
              "  <tbody>\n",
              "    <tr>\n",
              "      <th>0</th>\n",
              "      <td>{ñ class}</td>\n",
              "      <td>2022/01</td>\n",
              "      <td>515105-Agente Comunitário de Saúde</td>\n",
              "      <td>B34.2 Infecc p/Coronavirus Ne</td>\n",
              "      <td>8630</td>\n",
              "      <td>Atividades de Atencao Ambulatorial Executadas</td>\n",
              "      <td>Empregador</td>\n",
              "      <td>Pa</td>\n",
              "      <td>Empregado</td>\n",
              "      <td>Não</td>\n",
              "      <td>...</td>\n",
              "      <td>Feminino</td>\n",
              "      <td>Doença</td>\n",
              "      <td>Maranhão</td>\n",
              "      <td>São Paulo</td>\n",
              "      <td>2022/01</td>\n",
              "      <td>0000/00</td>\n",
              "      <td>20/01/2022</td>\n",
              "      <td>02/08/1970</td>\n",
              "      <td>01/03/2022</td>\n",
              "      <td>57.571.275.002.570</td>\n",
              "    </tr>\n",
              "    <tr>\n",
              "      <th>1</th>\n",
              "      <td>Motocicleta, Motoneta</td>\n",
              "      <td>2022/02</td>\n",
              "      <td>519110-Motociclista no Transporte de Document</td>\n",
              "      <td>S52.5 Frat da Extremidade Distal do Radio</td>\n",
              "      <td>4930</td>\n",
              "      <td>Transporte Rodoviario de Carga</td>\n",
              "      <td>Segurado/Dependente</td>\n",
              "      <td>Pa</td>\n",
              "      <td>Empregado</td>\n",
              "      <td>Não</td>\n",
              "      <td>...</td>\n",
              "      <td>Masculino</td>\n",
              "      <td>Trajeto</td>\n",
              "      <td>Maranhão</td>\n",
              "      <td>São Paulo</td>\n",
              "      <td>2022/02</td>\n",
              "      <td>0000/00</td>\n",
              "      <td>25/02/2022</td>\n",
              "      <td>16/12/1990</td>\n",
              "      <td>01/03/2022</td>\n",
              "      <td>19.578.086.000.162</td>\n",
              "    </tr>\n",
              "    <tr>\n",
              "      <th>2</th>\n",
              "      <td>Motocicleta, Motoneta</td>\n",
              "      <td>2022/02</td>\n",
              "      <td>519110-Motociclista no Transporte de Document</td>\n",
              "      <td>S52.5 Frat da Extremidade Distal do Radio</td>\n",
              "      <td>4930</td>\n",
              "      <td>Transporte Rodoviario de Carga</td>\n",
              "      <td>Segurado/Dependente</td>\n",
              "      <td>Pa</td>\n",
              "      <td>Empregado</td>\n",
              "      <td>Não</td>\n",
              "      <td>...</td>\n",
              "      <td>Masculino</td>\n",
              "      <td>Trajeto</td>\n",
              "      <td>Maranhão</td>\n",
              "      <td>São Paulo</td>\n",
              "      <td>2022/02</td>\n",
              "      <td>0000/00</td>\n",
              "      <td>25/02/2022</td>\n",
              "      <td>16/12/1990</td>\n",
              "      <td>01/03/2022</td>\n",
              "      <td>19.578.086.000.162</td>\n",
              "    </tr>\n",
              "    <tr>\n",
              "      <th>3</th>\n",
              "      <td>Aprision. Em, Sobre ou Entre Dois ou Mai</td>\n",
              "      <td>2022/02</td>\n",
              "      <td>514205-Coletor Lixo</td>\n",
              "      <td>S60.0 Contusao de Dedos s/Lesao da Unha</td>\n",
              "      <td>3811</td>\n",
              "      <td>Coleta de Residuos Nao-Perigosos</td>\n",
              "      <td>Empregador</td>\n",
              "      <td>Pa</td>\n",
              "      <td>Empregado</td>\n",
              "      <td>Não</td>\n",
              "      <td>...</td>\n",
              "      <td>Masculino</td>\n",
              "      <td>Típico</td>\n",
              "      <td>{ñ class}</td>\n",
              "      <td>Goiás</td>\n",
              "      <td>2022/02</td>\n",
              "      <td>0000/00</td>\n",
              "      <td>24/02/2022</td>\n",
              "      <td>19/09/1986</td>\n",
              "      <td>01/03/2022</td>\n",
              "      <td>00.000.000.000.000</td>\n",
              "    </tr>\n",
              "    <tr>\n",
              "      <th>4</th>\n",
              "      <td>Impacto de Pes. Contra Objeto em Movimento</td>\n",
              "      <td>2022/01</td>\n",
              "      <td>{ñ class}</td>\n",
              "      <td>S90.0 Contusao do Tornozelo</td>\n",
              "      <td>4639</td>\n",
              "      <td>Comercio Atacadista de Produtos Alimenticios</td>\n",
              "      <td>Empregador</td>\n",
              "      <td>Pa</td>\n",
              "      <td>Empregado</td>\n",
              "      <td>Não</td>\n",
              "      <td>...</td>\n",
              "      <td>Masculino</td>\n",
              "      <td>Típico</td>\n",
              "      <td>Maranhão</td>\n",
              "      <td>São Paulo</td>\n",
              "      <td>2022/01</td>\n",
              "      <td>0000/00</td>\n",
              "      <td>28/01/2022</td>\n",
              "      <td>25/07/1995</td>\n",
              "      <td>01/03/2022</td>\n",
              "      <td>00.000.000.000.000</td>\n",
              "    </tr>\n",
              "    <tr>\n",
              "      <th>...</th>\n",
              "      <td>...</td>\n",
              "      <td>...</td>\n",
              "      <td>...</td>\n",
              "      <td>...</td>\n",
              "      <td>...</td>\n",
              "      <td>...</td>\n",
              "      <td>...</td>\n",
              "      <td>...</td>\n",
              "      <td>...</td>\n",
              "      <td>...</td>\n",
              "      <td>...</td>\n",
              "      <td>...</td>\n",
              "      <td>...</td>\n",
              "      <td>...</td>\n",
              "      <td>...</td>\n",
              "      <td>...</td>\n",
              "      <td>...</td>\n",
              "      <td>...</td>\n",
              "      <td>...</td>\n",
              "      <td>...</td>\n",
              "      <td>...</td>\n",
              "    </tr>\n",
              "    <tr>\n",
              "      <th>152135</th>\n",
              "      <td>{ñ class}</td>\n",
              "      <td>2022/04</td>\n",
              "      <td>000000-Não Informado</td>\n",
              "      <td>S82.6 Frat do Maleolo Lateral</td>\n",
              "      <td>0</td>\n",
              "      <td>{ñ class}</td>\n",
              "      <td>{ñ class}</td>\n",
              "      <td>Auxílio Doenca por Acidente do Trabalho</td>\n",
              "      <td>{ñ class}</td>\n",
              "      <td>{ñ</td>\n",
              "      <td>...</td>\n",
              "      <td>Masculino</td>\n",
              "      <td>Ignorado</td>\n",
              "      <td>Sergipe</td>\n",
              "      <td>Zerado</td>\n",
              "      <td>2022/04</td>\n",
              "      <td>2022/06</td>\n",
              "      <td>12/04/2022</td>\n",
              "      <td>08/11/1965</td>\n",
              "      <td>00/00/0000</td>\n",
              "      <td>00.000.000.000.000</td>\n",
              "    </tr>\n",
              "    <tr>\n",
              "      <th>152136</th>\n",
              "      <td>{ñ class}</td>\n",
              "      <td>2022/04</td>\n",
              "      <td>000000-Não Informado</td>\n",
              "      <td>S82.1 Frat da Extremidade Proximal da Tibia</td>\n",
              "      <td>0</td>\n",
              "      <td>{ñ class}</td>\n",
              "      <td>{ñ class}</td>\n",
              "      <td>Auxílio Doenca por Acidente do Trabalho</td>\n",
              "      <td>{ñ class}</td>\n",
              "      <td>{ñ</td>\n",
              "      <td>...</td>\n",
              "      <td>Masculino</td>\n",
              "      <td>Ignorado</td>\n",
              "      <td>Sergipe</td>\n",
              "      <td>Zerado</td>\n",
              "      <td>2022/04</td>\n",
              "      <td>2022/06</td>\n",
              "      <td>30/04/2022</td>\n",
              "      <td>21/11/1985</td>\n",
              "      <td>00/00/0000</td>\n",
              "      <td>00.000.000.000.000</td>\n",
              "    </tr>\n",
              "    <tr>\n",
              "      <th>152137</th>\n",
              "      <td>{ñ class}</td>\n",
              "      <td>2022/05</td>\n",
              "      <td>000000-Não Informado</td>\n",
              "      <td>S62.6 Frat de Outr Dedos</td>\n",
              "      <td>0</td>\n",
              "      <td>{ñ class}</td>\n",
              "      <td>{ñ class}</td>\n",
              "      <td>Auxílio Doenca por Acidente do Trabalho</td>\n",
              "      <td>{ñ class}</td>\n",
              "      <td>{ñ</td>\n",
              "      <td>...</td>\n",
              "      <td>Masculino</td>\n",
              "      <td>Ignorado</td>\n",
              "      <td>Sergipe</td>\n",
              "      <td>Zerado</td>\n",
              "      <td>2022/05</td>\n",
              "      <td>2022/06</td>\n",
              "      <td>05/05/2022</td>\n",
              "      <td>27/01/1992</td>\n",
              "      <td>00/00/0000</td>\n",
              "      <td>00.000.000.000.000</td>\n",
              "    </tr>\n",
              "    <tr>\n",
              "      <th>152138</th>\n",
              "      <td>{ñ class}</td>\n",
              "      <td>2022/05</td>\n",
              "      <td>000000-Não Informado</td>\n",
              "      <td>S82.6 Frat do Maleolo Lateral</td>\n",
              "      <td>0</td>\n",
              "      <td>{ñ class}</td>\n",
              "      <td>{ñ class}</td>\n",
              "      <td>Auxílio Doenca por Acidente do Trabalho</td>\n",
              "      <td>{ñ class}</td>\n",
              "      <td>{ñ</td>\n",
              "      <td>...</td>\n",
              "      <td>Masculino</td>\n",
              "      <td>Ignorado</td>\n",
              "      <td>Sergipe</td>\n",
              "      <td>Zerado</td>\n",
              "      <td>2022/05</td>\n",
              "      <td>2022/06</td>\n",
              "      <td>15/05/2022</td>\n",
              "      <td>14/01/1975</td>\n",
              "      <td>00/00/0000</td>\n",
              "      <td>00.000.000.000.000</td>\n",
              "    </tr>\n",
              "    <tr>\n",
              "      <th>152139</th>\n",
              "      <td>{ñ class}</td>\n",
              "      <td>2022/06</td>\n",
              "      <td>000000-Não Informado</td>\n",
              "      <td>K42   Hernia Umbilical</td>\n",
              "      <td>0</td>\n",
              "      <td>{ñ class}</td>\n",
              "      <td>{ñ class}</td>\n",
              "      <td>Auxílio Doenca por Acidente do Trabalho</td>\n",
              "      <td>{ñ class}</td>\n",
              "      <td>{ñ</td>\n",
              "      <td>...</td>\n",
              "      <td>Masculino</td>\n",
              "      <td>Ignorado</td>\n",
              "      <td>Sergipe</td>\n",
              "      <td>Zerado</td>\n",
              "      <td>2022/06</td>\n",
              "      <td>2022/06</td>\n",
              "      <td>07/06/2022</td>\n",
              "      <td>24/07/1971</td>\n",
              "      <td>00/00/0000</td>\n",
              "      <td>00.000.000.000.000</td>\n",
              "    </tr>\n",
              "  </tbody>\n",
              "</table>\n",
              "<p>152140 rows × 24 columns</p>\n",
              "</div>\n",
              "      <button class=\"colab-df-convert\" onclick=\"convertToInteractive('df-70640464-8530-4d52-89fb-7cbb71beeed8')\"\n",
              "              title=\"Convert this dataframe to an interactive table.\"\n",
              "              style=\"display:none;\">\n",
              "        \n",
              "  <svg xmlns=\"http://www.w3.org/2000/svg\" height=\"24px\"viewBox=\"0 0 24 24\"\n",
              "       width=\"24px\">\n",
              "    <path d=\"M0 0h24v24H0V0z\" fill=\"none\"/>\n",
              "    <path d=\"M18.56 5.44l.94 2.06.94-2.06 2.06-.94-2.06-.94-.94-2.06-.94 2.06-2.06.94zm-11 1L8.5 8.5l.94-2.06 2.06-.94-2.06-.94L8.5 2.5l-.94 2.06-2.06.94zm10 10l.94 2.06.94-2.06 2.06-.94-2.06-.94-.94-2.06-.94 2.06-2.06.94z\"/><path d=\"M17.41 7.96l-1.37-1.37c-.4-.4-.92-.59-1.43-.59-.52 0-1.04.2-1.43.59L10.3 9.45l-7.72 7.72c-.78.78-.78 2.05 0 2.83L4 21.41c.39.39.9.59 1.41.59.51 0 1.02-.2 1.41-.59l7.78-7.78 2.81-2.81c.8-.78.8-2.07 0-2.86zM5.41 20L4 18.59l7.72-7.72 1.47 1.35L5.41 20z\"/>\n",
              "  </svg>\n",
              "      </button>\n",
              "      \n",
              "  <style>\n",
              "    .colab-df-container {\n",
              "      display:flex;\n",
              "      flex-wrap:wrap;\n",
              "      gap: 12px;\n",
              "    }\n",
              "\n",
              "    .colab-df-convert {\n",
              "      background-color: #E8F0FE;\n",
              "      border: none;\n",
              "      border-radius: 50%;\n",
              "      cursor: pointer;\n",
              "      display: none;\n",
              "      fill: #1967D2;\n",
              "      height: 32px;\n",
              "      padding: 0 0 0 0;\n",
              "      width: 32px;\n",
              "    }\n",
              "\n",
              "    .colab-df-convert:hover {\n",
              "      background-color: #E2EBFA;\n",
              "      box-shadow: 0px 1px 2px rgba(60, 64, 67, 0.3), 0px 1px 3px 1px rgba(60, 64, 67, 0.15);\n",
              "      fill: #174EA6;\n",
              "    }\n",
              "\n",
              "    [theme=dark] .colab-df-convert {\n",
              "      background-color: #3B4455;\n",
              "      fill: #D2E3FC;\n",
              "    }\n",
              "\n",
              "    [theme=dark] .colab-df-convert:hover {\n",
              "      background-color: #434B5C;\n",
              "      box-shadow: 0px 1px 3px 1px rgba(0, 0, 0, 0.15);\n",
              "      filter: drop-shadow(0px 1px 2px rgba(0, 0, 0, 0.3));\n",
              "      fill: #FFFFFF;\n",
              "    }\n",
              "  </style>\n",
              "\n",
              "      <script>\n",
              "        const buttonEl =\n",
              "          document.querySelector('#df-70640464-8530-4d52-89fb-7cbb71beeed8 button.colab-df-convert');\n",
              "        buttonEl.style.display =\n",
              "          google.colab.kernel.accessAllowed ? 'block' : 'none';\n",
              "\n",
              "        async function convertToInteractive(key) {\n",
              "          const element = document.querySelector('#df-70640464-8530-4d52-89fb-7cbb71beeed8');\n",
              "          const dataTable =\n",
              "            await google.colab.kernel.invokeFunction('convertToInteractive',\n",
              "                                                     [key], {});\n",
              "          if (!dataTable) return;\n",
              "\n",
              "          const docLinkHtml = 'Like what you see? Visit the ' +\n",
              "            '<a target=\"_blank\" href=https://colab.research.google.com/notebooks/data_table.ipynb>data table notebook</a>'\n",
              "            + ' to learn more about interactive tables.';\n",
              "          element.innerHTML = '';\n",
              "          dataTable['output_type'] = 'display_data';\n",
              "          await google.colab.output.renderOutput(dataTable, element);\n",
              "          const docLink = document.createElement('div');\n",
              "          docLink.innerHTML = docLinkHtml;\n",
              "          element.appendChild(docLink);\n",
              "        }\n",
              "      </script>\n",
              "    </div>\n",
              "  </div>\n",
              "  "
            ]
          },
          "metadata": {},
          "execution_count": 12
        }
      ]
    },
    {
      "cell_type": "code",
      "source": [
        "# Para acessar o segundo arquivo\n",
        "bucket.blob('D.SDA.PDA.005.CAT.202204_orig.csv')\n",
        "path2 = 'gs://bc_26_jose_datasets/D.SDA.PDA.005.CAT.202204_orig.csv'"
      ],
      "metadata": {
        "id": "DUTbrrZ4j6Fz"
      },
      "execution_count": null,
      "outputs": []
    },
    {
      "cell_type": "code",
      "source": [
        "df2 = pd.read_csv(path2, sep=\";\", encoding='ISO-8859-1')"
      ],
      "metadata": {
        "id": "lYGeIKd9k9ls"
      },
      "execution_count": null,
      "outputs": []
    },
    {
      "cell_type": "code",
      "source": [
        "df2"
      ],
      "metadata": {
        "colab": {
          "base_uri": "https://localhost:8080/",
          "height": 1000
        },
        "id": "d1_2toPglCHp",
        "outputId": "a9b1646d-1454-4a74-fdcc-1e3068c198c7"
      },
      "execution_count": null,
      "outputs": [
        {
          "output_type": "execute_result",
          "data": {
            "text/plain": [
              "                          Agente  Causador  Acidente Data Acidente  \\\n",
              "0      {ñ class}                                           2022/05   \n",
              "1      Rua e Estrada - Superficie Utilizada para Sus       2022/05   \n",
              "2      {ñ class}                                           2022/05   \n",
              "3      Revestimento Ceramico (Azulejo, Mosaico, Etc.       2022/05   \n",
              "4      Calcada ou Caminho para Pedestre - Superficie       2022/05   \n",
              "...                                              ...           ...   \n",
              "89597  {ñ class}                                           2022/04   \n",
              "89598  {ñ class}                                           2022/04   \n",
              "89599  {ñ class}                                           2022/05   \n",
              "89600  {ñ class}                                           2022/05   \n",
              "89601  {ñ class}                                           2022/06   \n",
              "\n",
              "                                                 CBO  \\\n",
              "0      322205-Tec. de Enfermagem                       \n",
              "1      992225-Auxiliar Geral de Conservação de Vias    \n",
              "2      {ñ class}                                       \n",
              "3      783225-Ajudante de Motorista                    \n",
              "4      322205-Tec. de Enfermagem                       \n",
              "...                                              ...   \n",
              "89597  000000-Não Informado                            \n",
              "89598  000000-Não Informado                            \n",
              "89599  000000-Não Informado                            \n",
              "89600  000000-Não Informado                            \n",
              "89601  000000-Não Informado                            \n",
              "\n",
              "                                              CID-10  CNAE2.0 Empregador  \\\n",
              "0      Y28.2 Escolas Outr Instit Areas Admin Publica                8630   \n",
              "1      S93.4 Entorse e Distensao do Tornozelo                       8630   \n",
              "2      B34.2 Infecc p/Coronavirus Ne                                8513   \n",
              "3      S90.3 Contusao de Outr Partes e Partes Ne Do                 4744   \n",
              "4      S51.0 Ferim do Cotovelo                                      8610   \n",
              "...                                              ...                 ...   \n",
              "89597  S82.6 Frat do Maleolo Lateral                                   0   \n",
              "89598  S82.1 Frat da Extremidade Proximal da Tibia                     0   \n",
              "89599  S62.6 Frat de Outr Dedos                                        0   \n",
              "89600  S82.6 Frat do Maleolo Lateral                                   0   \n",
              "89601  K42   Hernia Umbilical                                          0   \n",
              "\n",
              "                                CNAE2.0 Empregador.1         Emitente CAT  \\\n",
              "0      Atividades de Atencao Ambulatorial Executadas  Empregador            \n",
              "1      Atividades de Atencao Ambulatorial Executadas  Empregador            \n",
              "2      Ensino Fundamental                             Empregador            \n",
              "3      Comercio Varejista de Ferragens, Madeira e Ma  Empregador            \n",
              "4      Atividades de Atendimento Hospitalar           Empregador            \n",
              "...                                              ...                  ...   \n",
              "89597  {ñ class}                                      {ñ class}             \n",
              "89598  {ñ class}                                      {ñ class}             \n",
              "89599  {ñ class}                                      {ñ class}             \n",
              "89600  {ñ class}                                      {ñ class}             \n",
              "89601  {ñ class}                                      {ñ class}             \n",
              "\n",
              "                                Espécie do benefício  \\\n",
              "0      Pa                                              \n",
              "1      Pa                                              \n",
              "2      Pa                                              \n",
              "3      Pa                                              \n",
              "4      Pa                                              \n",
              "...                                              ...   \n",
              "89597  Auxílio Doenca por Acidente do Trabalho         \n",
              "89598  Auxílio Doenca por Acidente do Trabalho         \n",
              "89599  Auxílio Doenca por Acidente do Trabalho         \n",
              "89600  Auxílio Doenca por Acidente do Trabalho         \n",
              "89601  Auxílio Doenca por Acidente do Trabalho         \n",
              "\n",
              "                                   Filiação Segurado Indica Óbito Acidente  \\\n",
              "0      Empregado                                                       Não   \n",
              "1      Empregado                                                       Não   \n",
              "2      Empregado                                                       Não   \n",
              "3      Empregado                                                       Não   \n",
              "4      Empregado                                                       Não   \n",
              "...                                              ...                   ...   \n",
              "89597  {ñ class}                                                       {ñ    \n",
              "89598  {ñ class}                                                       {ñ    \n",
              "89599  {ñ class}                                                       {ñ    \n",
              "89600  {ñ class}                                                       {ñ    \n",
              "89601  {ñ class}                                                       {ñ    \n",
              "\n",
              "       ...           Sexo Tipo do Acidente UF  Munic.  Acidente  \\\n",
              "0      ...  Masculino             Típico       Maranhão           \n",
              "1      ...  Feminino              Trajeto      Maranhão           \n",
              "2      ...  Feminino              Doença       Maranhão           \n",
              "3      ...  Masculino             Típico       Maranhão           \n",
              "4      ...  Feminino              Trajeto      Maranhão           \n",
              "...    ...            ...              ...                  ...   \n",
              "89597  ...  Masculino             Ignorado     Sergipe            \n",
              "89598  ...  Masculino             Ignorado     Sergipe            \n",
              "89599  ...  Masculino             Ignorado     Sergipe            \n",
              "89600  ...  Masculino             Ignorado     Sergipe            \n",
              "89601  ...  Masculino             Ignorado     Sergipe            \n",
              "\n",
              "      UF Munic. Empregador Data Acidente.1 Data Despacho Benefício  \\\n",
              "0      São Paulo                   2022/05                 0000/00   \n",
              "1      São Paulo                   2022/05                 0000/00   \n",
              "2      São Paulo                   2022/05                 0000/00   \n",
              "3      São Paulo                   2022/05                 0000/00   \n",
              "4      São Paulo                   2022/05                 0000/00   \n",
              "...                    ...             ...                     ...   \n",
              "89597  Zerado                      2022/04                 2022/06   \n",
              "89598  Zerado                      2022/04                 2022/06   \n",
              "89599  Zerado                      2022/05                 2022/06   \n",
              "89600  Zerado                      2022/05                 2022/06   \n",
              "89601  Zerado                      2022/06                 2022/06   \n",
              "\n",
              "      Data Acidente.2 Data Nascimento Data Emissão CAT CNPJ/CEI Empregador  \n",
              "0          26/05/2022      13/11/1989       01/06/2022  57.571.275.002.570  \n",
              "1          26/05/2022      19/04/1990       01/06/2022  57.571.275.002.570  \n",
              "2          29/05/2022      13/09/1960       01/06/2022  47.715.347.000.184  \n",
              "3          31/05/2022      17/07/1994       01/06/2022  38.300.481.000.123  \n",
              "4          30/05/2022      30/01/1992       01/06/2022  46.020.301.000.269  \n",
              "...               ...             ...              ...                 ...  \n",
              "89597      12/04/2022      08/11/1965       00/00/0000  00.000.000.000.000  \n",
              "89598      30/04/2022      21/11/1985       00/00/0000  00.000.000.000.000  \n",
              "89599      05/05/2022      27/01/1992       00/00/0000  00.000.000.000.000  \n",
              "89600      15/05/2022      14/01/1975       00/00/0000  00.000.000.000.000  \n",
              "89601      07/06/2022      24/07/1971       00/00/0000  00.000.000.000.000  \n",
              "\n",
              "[89602 rows x 24 columns]"
            ],
            "text/html": [
              "\n",
              "  <div id=\"df-0e954a5a-1ac5-4108-8052-c712f5e2ad65\">\n",
              "    <div class=\"colab-df-container\">\n",
              "      <div>\n",
              "<style scoped>\n",
              "    .dataframe tbody tr th:only-of-type {\n",
              "        vertical-align: middle;\n",
              "    }\n",
              "\n",
              "    .dataframe tbody tr th {\n",
              "        vertical-align: top;\n",
              "    }\n",
              "\n",
              "    .dataframe thead th {\n",
              "        text-align: right;\n",
              "    }\n",
              "</style>\n",
              "<table border=\"1\" class=\"dataframe\">\n",
              "  <thead>\n",
              "    <tr style=\"text-align: right;\">\n",
              "      <th></th>\n",
              "      <th>Agente  Causador  Acidente</th>\n",
              "      <th>Data Acidente</th>\n",
              "      <th>CBO</th>\n",
              "      <th>CID-10</th>\n",
              "      <th>CNAE2.0 Empregador</th>\n",
              "      <th>CNAE2.0 Empregador.1</th>\n",
              "      <th>Emitente CAT</th>\n",
              "      <th>Espécie do benefício</th>\n",
              "      <th>Filiação Segurado</th>\n",
              "      <th>Indica Óbito Acidente</th>\n",
              "      <th>...</th>\n",
              "      <th>Sexo</th>\n",
              "      <th>Tipo do Acidente</th>\n",
              "      <th>UF  Munic.  Acidente</th>\n",
              "      <th>UF Munic. Empregador</th>\n",
              "      <th>Data Acidente.1</th>\n",
              "      <th>Data Despacho Benefício</th>\n",
              "      <th>Data Acidente.2</th>\n",
              "      <th>Data Nascimento</th>\n",
              "      <th>Data Emissão CAT</th>\n",
              "      <th>CNPJ/CEI Empregador</th>\n",
              "    </tr>\n",
              "  </thead>\n",
              "  <tbody>\n",
              "    <tr>\n",
              "      <th>0</th>\n",
              "      <td>{ñ class}</td>\n",
              "      <td>2022/05</td>\n",
              "      <td>322205-Tec. de Enfermagem</td>\n",
              "      <td>Y28.2 Escolas Outr Instit Areas Admin Publica</td>\n",
              "      <td>8630</td>\n",
              "      <td>Atividades de Atencao Ambulatorial Executadas</td>\n",
              "      <td>Empregador</td>\n",
              "      <td>Pa</td>\n",
              "      <td>Empregado</td>\n",
              "      <td>Não</td>\n",
              "      <td>...</td>\n",
              "      <td>Masculino</td>\n",
              "      <td>Típico</td>\n",
              "      <td>Maranhão</td>\n",
              "      <td>São Paulo</td>\n",
              "      <td>2022/05</td>\n",
              "      <td>0000/00</td>\n",
              "      <td>26/05/2022</td>\n",
              "      <td>13/11/1989</td>\n",
              "      <td>01/06/2022</td>\n",
              "      <td>57.571.275.002.570</td>\n",
              "    </tr>\n",
              "    <tr>\n",
              "      <th>1</th>\n",
              "      <td>Rua e Estrada - Superficie Utilizada para Sus</td>\n",
              "      <td>2022/05</td>\n",
              "      <td>992225-Auxiliar Geral de Conservação de Vias</td>\n",
              "      <td>S93.4 Entorse e Distensao do Tornozelo</td>\n",
              "      <td>8630</td>\n",
              "      <td>Atividades de Atencao Ambulatorial Executadas</td>\n",
              "      <td>Empregador</td>\n",
              "      <td>Pa</td>\n",
              "      <td>Empregado</td>\n",
              "      <td>Não</td>\n",
              "      <td>...</td>\n",
              "      <td>Feminino</td>\n",
              "      <td>Trajeto</td>\n",
              "      <td>Maranhão</td>\n",
              "      <td>São Paulo</td>\n",
              "      <td>2022/05</td>\n",
              "      <td>0000/00</td>\n",
              "      <td>26/05/2022</td>\n",
              "      <td>19/04/1990</td>\n",
              "      <td>01/06/2022</td>\n",
              "      <td>57.571.275.002.570</td>\n",
              "    </tr>\n",
              "    <tr>\n",
              "      <th>2</th>\n",
              "      <td>{ñ class}</td>\n",
              "      <td>2022/05</td>\n",
              "      <td>{ñ class}</td>\n",
              "      <td>B34.2 Infecc p/Coronavirus Ne</td>\n",
              "      <td>8513</td>\n",
              "      <td>Ensino Fundamental</td>\n",
              "      <td>Empregador</td>\n",
              "      <td>Pa</td>\n",
              "      <td>Empregado</td>\n",
              "      <td>Não</td>\n",
              "      <td>...</td>\n",
              "      <td>Feminino</td>\n",
              "      <td>Doença</td>\n",
              "      <td>Maranhão</td>\n",
              "      <td>São Paulo</td>\n",
              "      <td>2022/05</td>\n",
              "      <td>0000/00</td>\n",
              "      <td>29/05/2022</td>\n",
              "      <td>13/09/1960</td>\n",
              "      <td>01/06/2022</td>\n",
              "      <td>47.715.347.000.184</td>\n",
              "    </tr>\n",
              "    <tr>\n",
              "      <th>3</th>\n",
              "      <td>Revestimento Ceramico (Azulejo, Mosaico, Etc.</td>\n",
              "      <td>2022/05</td>\n",
              "      <td>783225-Ajudante de Motorista</td>\n",
              "      <td>S90.3 Contusao de Outr Partes e Partes Ne Do</td>\n",
              "      <td>4744</td>\n",
              "      <td>Comercio Varejista de Ferragens, Madeira e Ma</td>\n",
              "      <td>Empregador</td>\n",
              "      <td>Pa</td>\n",
              "      <td>Empregado</td>\n",
              "      <td>Não</td>\n",
              "      <td>...</td>\n",
              "      <td>Masculino</td>\n",
              "      <td>Típico</td>\n",
              "      <td>Maranhão</td>\n",
              "      <td>São Paulo</td>\n",
              "      <td>2022/05</td>\n",
              "      <td>0000/00</td>\n",
              "      <td>31/05/2022</td>\n",
              "      <td>17/07/1994</td>\n",
              "      <td>01/06/2022</td>\n",
              "      <td>38.300.481.000.123</td>\n",
              "    </tr>\n",
              "    <tr>\n",
              "      <th>4</th>\n",
              "      <td>Calcada ou Caminho para Pedestre - Superficie</td>\n",
              "      <td>2022/05</td>\n",
              "      <td>322205-Tec. de Enfermagem</td>\n",
              "      <td>S51.0 Ferim do Cotovelo</td>\n",
              "      <td>8610</td>\n",
              "      <td>Atividades de Atendimento Hospitalar</td>\n",
              "      <td>Empregador</td>\n",
              "      <td>Pa</td>\n",
              "      <td>Empregado</td>\n",
              "      <td>Não</td>\n",
              "      <td>...</td>\n",
              "      <td>Feminino</td>\n",
              "      <td>Trajeto</td>\n",
              "      <td>Maranhão</td>\n",
              "      <td>São Paulo</td>\n",
              "      <td>2022/05</td>\n",
              "      <td>0000/00</td>\n",
              "      <td>30/05/2022</td>\n",
              "      <td>30/01/1992</td>\n",
              "      <td>01/06/2022</td>\n",
              "      <td>46.020.301.000.269</td>\n",
              "    </tr>\n",
              "    <tr>\n",
              "      <th>...</th>\n",
              "      <td>...</td>\n",
              "      <td>...</td>\n",
              "      <td>...</td>\n",
              "      <td>...</td>\n",
              "      <td>...</td>\n",
              "      <td>...</td>\n",
              "      <td>...</td>\n",
              "      <td>...</td>\n",
              "      <td>...</td>\n",
              "      <td>...</td>\n",
              "      <td>...</td>\n",
              "      <td>...</td>\n",
              "      <td>...</td>\n",
              "      <td>...</td>\n",
              "      <td>...</td>\n",
              "      <td>...</td>\n",
              "      <td>...</td>\n",
              "      <td>...</td>\n",
              "      <td>...</td>\n",
              "      <td>...</td>\n",
              "      <td>...</td>\n",
              "    </tr>\n",
              "    <tr>\n",
              "      <th>89597</th>\n",
              "      <td>{ñ class}</td>\n",
              "      <td>2022/04</td>\n",
              "      <td>000000-Não Informado</td>\n",
              "      <td>S82.6 Frat do Maleolo Lateral</td>\n",
              "      <td>0</td>\n",
              "      <td>{ñ class}</td>\n",
              "      <td>{ñ class}</td>\n",
              "      <td>Auxílio Doenca por Acidente do Trabalho</td>\n",
              "      <td>{ñ class}</td>\n",
              "      <td>{ñ</td>\n",
              "      <td>...</td>\n",
              "      <td>Masculino</td>\n",
              "      <td>Ignorado</td>\n",
              "      <td>Sergipe</td>\n",
              "      <td>Zerado</td>\n",
              "      <td>2022/04</td>\n",
              "      <td>2022/06</td>\n",
              "      <td>12/04/2022</td>\n",
              "      <td>08/11/1965</td>\n",
              "      <td>00/00/0000</td>\n",
              "      <td>00.000.000.000.000</td>\n",
              "    </tr>\n",
              "    <tr>\n",
              "      <th>89598</th>\n",
              "      <td>{ñ class}</td>\n",
              "      <td>2022/04</td>\n",
              "      <td>000000-Não Informado</td>\n",
              "      <td>S82.1 Frat da Extremidade Proximal da Tibia</td>\n",
              "      <td>0</td>\n",
              "      <td>{ñ class}</td>\n",
              "      <td>{ñ class}</td>\n",
              "      <td>Auxílio Doenca por Acidente do Trabalho</td>\n",
              "      <td>{ñ class}</td>\n",
              "      <td>{ñ</td>\n",
              "      <td>...</td>\n",
              "      <td>Masculino</td>\n",
              "      <td>Ignorado</td>\n",
              "      <td>Sergipe</td>\n",
              "      <td>Zerado</td>\n",
              "      <td>2022/04</td>\n",
              "      <td>2022/06</td>\n",
              "      <td>30/04/2022</td>\n",
              "      <td>21/11/1985</td>\n",
              "      <td>00/00/0000</td>\n",
              "      <td>00.000.000.000.000</td>\n",
              "    </tr>\n",
              "    <tr>\n",
              "      <th>89599</th>\n",
              "      <td>{ñ class}</td>\n",
              "      <td>2022/05</td>\n",
              "      <td>000000-Não Informado</td>\n",
              "      <td>S62.6 Frat de Outr Dedos</td>\n",
              "      <td>0</td>\n",
              "      <td>{ñ class}</td>\n",
              "      <td>{ñ class}</td>\n",
              "      <td>Auxílio Doenca por Acidente do Trabalho</td>\n",
              "      <td>{ñ class}</td>\n",
              "      <td>{ñ</td>\n",
              "      <td>...</td>\n",
              "      <td>Masculino</td>\n",
              "      <td>Ignorado</td>\n",
              "      <td>Sergipe</td>\n",
              "      <td>Zerado</td>\n",
              "      <td>2022/05</td>\n",
              "      <td>2022/06</td>\n",
              "      <td>05/05/2022</td>\n",
              "      <td>27/01/1992</td>\n",
              "      <td>00/00/0000</td>\n",
              "      <td>00.000.000.000.000</td>\n",
              "    </tr>\n",
              "    <tr>\n",
              "      <th>89600</th>\n",
              "      <td>{ñ class}</td>\n",
              "      <td>2022/05</td>\n",
              "      <td>000000-Não Informado</td>\n",
              "      <td>S82.6 Frat do Maleolo Lateral</td>\n",
              "      <td>0</td>\n",
              "      <td>{ñ class}</td>\n",
              "      <td>{ñ class}</td>\n",
              "      <td>Auxílio Doenca por Acidente do Trabalho</td>\n",
              "      <td>{ñ class}</td>\n",
              "      <td>{ñ</td>\n",
              "      <td>...</td>\n",
              "      <td>Masculino</td>\n",
              "      <td>Ignorado</td>\n",
              "      <td>Sergipe</td>\n",
              "      <td>Zerado</td>\n",
              "      <td>2022/05</td>\n",
              "      <td>2022/06</td>\n",
              "      <td>15/05/2022</td>\n",
              "      <td>14/01/1975</td>\n",
              "      <td>00/00/0000</td>\n",
              "      <td>00.000.000.000.000</td>\n",
              "    </tr>\n",
              "    <tr>\n",
              "      <th>89601</th>\n",
              "      <td>{ñ class}</td>\n",
              "      <td>2022/06</td>\n",
              "      <td>000000-Não Informado</td>\n",
              "      <td>K42   Hernia Umbilical</td>\n",
              "      <td>0</td>\n",
              "      <td>{ñ class}</td>\n",
              "      <td>{ñ class}</td>\n",
              "      <td>Auxílio Doenca por Acidente do Trabalho</td>\n",
              "      <td>{ñ class}</td>\n",
              "      <td>{ñ</td>\n",
              "      <td>...</td>\n",
              "      <td>Masculino</td>\n",
              "      <td>Ignorado</td>\n",
              "      <td>Sergipe</td>\n",
              "      <td>Zerado</td>\n",
              "      <td>2022/06</td>\n",
              "      <td>2022/06</td>\n",
              "      <td>07/06/2022</td>\n",
              "      <td>24/07/1971</td>\n",
              "      <td>00/00/0000</td>\n",
              "      <td>00.000.000.000.000</td>\n",
              "    </tr>\n",
              "  </tbody>\n",
              "</table>\n",
              "<p>89602 rows × 24 columns</p>\n",
              "</div>\n",
              "      <button class=\"colab-df-convert\" onclick=\"convertToInteractive('df-0e954a5a-1ac5-4108-8052-c712f5e2ad65')\"\n",
              "              title=\"Convert this dataframe to an interactive table.\"\n",
              "              style=\"display:none;\">\n",
              "        \n",
              "  <svg xmlns=\"http://www.w3.org/2000/svg\" height=\"24px\"viewBox=\"0 0 24 24\"\n",
              "       width=\"24px\">\n",
              "    <path d=\"M0 0h24v24H0V0z\" fill=\"none\"/>\n",
              "    <path d=\"M18.56 5.44l.94 2.06.94-2.06 2.06-.94-2.06-.94-.94-2.06-.94 2.06-2.06.94zm-11 1L8.5 8.5l.94-2.06 2.06-.94-2.06-.94L8.5 2.5l-.94 2.06-2.06.94zm10 10l.94 2.06.94-2.06 2.06-.94-2.06-.94-.94-2.06-.94 2.06-2.06.94z\"/><path d=\"M17.41 7.96l-1.37-1.37c-.4-.4-.92-.59-1.43-.59-.52 0-1.04.2-1.43.59L10.3 9.45l-7.72 7.72c-.78.78-.78 2.05 0 2.83L4 21.41c.39.39.9.59 1.41.59.51 0 1.02-.2 1.41-.59l7.78-7.78 2.81-2.81c.8-.78.8-2.07 0-2.86zM5.41 20L4 18.59l7.72-7.72 1.47 1.35L5.41 20z\"/>\n",
              "  </svg>\n",
              "      </button>\n",
              "      \n",
              "  <style>\n",
              "    .colab-df-container {\n",
              "      display:flex;\n",
              "      flex-wrap:wrap;\n",
              "      gap: 12px;\n",
              "    }\n",
              "\n",
              "    .colab-df-convert {\n",
              "      background-color: #E8F0FE;\n",
              "      border: none;\n",
              "      border-radius: 50%;\n",
              "      cursor: pointer;\n",
              "      display: none;\n",
              "      fill: #1967D2;\n",
              "      height: 32px;\n",
              "      padding: 0 0 0 0;\n",
              "      width: 32px;\n",
              "    }\n",
              "\n",
              "    .colab-df-convert:hover {\n",
              "      background-color: #E2EBFA;\n",
              "      box-shadow: 0px 1px 2px rgba(60, 64, 67, 0.3), 0px 1px 3px 1px rgba(60, 64, 67, 0.15);\n",
              "      fill: #174EA6;\n",
              "    }\n",
              "\n",
              "    [theme=dark] .colab-df-convert {\n",
              "      background-color: #3B4455;\n",
              "      fill: #D2E3FC;\n",
              "    }\n",
              "\n",
              "    [theme=dark] .colab-df-convert:hover {\n",
              "      background-color: #434B5C;\n",
              "      box-shadow: 0px 1px 3px 1px rgba(0, 0, 0, 0.15);\n",
              "      filter: drop-shadow(0px 1px 2px rgba(0, 0, 0, 0.3));\n",
              "      fill: #FFFFFF;\n",
              "    }\n",
              "  </style>\n",
              "\n",
              "      <script>\n",
              "        const buttonEl =\n",
              "          document.querySelector('#df-0e954a5a-1ac5-4108-8052-c712f5e2ad65 button.colab-df-convert');\n",
              "        buttonEl.style.display =\n",
              "          google.colab.kernel.accessAllowed ? 'block' : 'none';\n",
              "\n",
              "        async function convertToInteractive(key) {\n",
              "          const element = document.querySelector('#df-0e954a5a-1ac5-4108-8052-c712f5e2ad65');\n",
              "          const dataTable =\n",
              "            await google.colab.kernel.invokeFunction('convertToInteractive',\n",
              "                                                     [key], {});\n",
              "          if (!dataTable) return;\n",
              "\n",
              "          const docLinkHtml = 'Like what you see? Visit the ' +\n",
              "            '<a target=\"_blank\" href=https://colab.research.google.com/notebooks/data_table.ipynb>data table notebook</a>'\n",
              "            + ' to learn more about interactive tables.';\n",
              "          element.innerHTML = '';\n",
              "          dataTable['output_type'] = 'display_data';\n",
              "          await google.colab.output.renderOutput(dataTable, element);\n",
              "          const docLink = document.createElement('div');\n",
              "          docLink.innerHTML = docLinkHtml;\n",
              "          element.appendChild(docLink);\n",
              "        }\n",
              "      </script>\n",
              "    </div>\n",
              "  </div>\n",
              "  "
            ]
          },
          "metadata": {},
          "execution_count": 13
        }
      ]
    },
    {
      "cell_type": "code",
      "source": [
        "# Para acessar o terceiro\n",
        "bucket.blob('D.SDA.PDA.005.CAT.202210_orig.csv')\n",
        "path3 = 'gs://bc_26_jose_datasets/D.SDA.PDA.005.CAT.202210_orig.csv'"
      ],
      "metadata": {
        "id": "BUj0eB1FlIJ1"
      },
      "execution_count": null,
      "outputs": []
    },
    {
      "cell_type": "code",
      "source": [
        "df3 = pd.read_csv(path3, sep=\";\", encoding='ISO-8859-1')"
      ],
      "metadata": {
        "id": "1P7ji9NtlrRs"
      },
      "execution_count": null,
      "outputs": []
    },
    {
      "cell_type": "code",
      "source": [
        "df3"
      ],
      "metadata": {
        "id": "5K3V_rQUlvhE",
        "colab": {
          "base_uri": "https://localhost:8080/",
          "height": 1000
        },
        "outputId": "33d41425-80bd-415d-dde8-930cfabd978d"
      },
      "execution_count": null,
      "outputs": [
        {
          "output_type": "execute_result",
          "data": {
            "text/plain": [
              "                          Agente  Causador  Acidente Data Acidente  \\\n",
              "0      Faca, Facao- Ferramenta Manual sem Forca Motr       2022/10   \n",
              "1      Aprision. Em, Sob ou Entre, Nic                     2022/10   \n",
              "2      Andaime, Plataforma - Edificio ou Estrutura         2022/10   \n",
              "3      Veiculo Rodoviario Motorizado                       2022/10   \n",
              "4      Impacto de Pes. Contra Objeto em Movimento          2022/10   \n",
              "...                                              ...           ...   \n",
              "15654  Piso de Edificio - Superficie Utilizada Para        2022/09   \n",
              "15655  Escada Permanente Cujos Degraus Permitem Apoi       2022/10   \n",
              "15656  Andaime, Plataforma - Edificio ou Estrutura         2022/09   \n",
              "15657  Martelo, Malho, Marreta- Ferramenta Manual Se       2022/10   \n",
              "15658  Impacto de Pes. Contra Objeto Parado                2022/10   \n",
              "\n",
              "                                                 CBO  \\\n",
              "0      848515-Desossador                               \n",
              "1      324115-Tec. em Radiologia e Imagenologia        \n",
              "2      715210-Pedreiro                                 \n",
              "3      784205-Alimentador de Linha de Prod.            \n",
              "4      717020-Servente de Obras                        \n",
              "...                                              ...   \n",
              "15654  {ñ class}                                       \n",
              "15655  232130-Prof. Física no Ensino Médio             \n",
              "15656  517330-Vigilante                                \n",
              "15657  724315-Soldador                                 \n",
              "15658  721215-Oper. Máquinas-Ferramenta Convencionai   \n",
              "\n",
              "                                              CID-10  CNAE2.0 Empregador  \\\n",
              "0      S51.0 Ferim do Cotovelo                                      1011   \n",
              "1      S60.0 Contusao de Dedos s/Lesao da Unha                      8610   \n",
              "2      S62.8 Frat de Outr Partes e de Partes Ne Punh                4120   \n",
              "3      T02.2 Frat Envolv Regioes Mult de Um Membro S                4211   \n",
              "4      S62.5 Frat do Polegar                                        4110   \n",
              "...                                              ...                 ...   \n",
              "15654  S62   Frat ao Nivel do Punho e da Mao                        2330   \n",
              "15655  S82   Frat da Perna Incl Tornozelo                           8520   \n",
              "15656  S82.7 Frat Mult da Perna                                     8112   \n",
              "15657  S62.6 Frat de Outr Dedos                                     7112   \n",
              "15658  S62.3 Frat de Outr Ossos do Metacarpo                        2815   \n",
              "\n",
              "                                CNAE2.0 Empregador.1         Emitente CAT  \\\n",
              "0      Abate de Reses, Exceto Suinos                  Empregador            \n",
              "1      Atividades de Atendimento Hospitalar           Empregador            \n",
              "2      Construcao de Edificios                        Empregador            \n",
              "3      Construcao de Rodovias e Ferrovias             Empregador            \n",
              "4      Incorporacao de Empreendimentos Imobiliarios   Empregador            \n",
              "...                                              ...                  ...   \n",
              "15654  Fabricacao de Artefatos de Concreto, Cimento,  {ñ class}             \n",
              "15655  Ensino Medio                                   Autoridade Pública    \n",
              "15656  Condominios Prediais                           Segurado/Dependente   \n",
              "15657  Servicos de Engenharia                         Empregador            \n",
              "15658  Fabricacao de Equipamentos de Transmissao par  Segurado/Dependente   \n",
              "\n",
              "                                Espécie do benefício  \\\n",
              "0      Pa                                              \n",
              "1      Pa                                              \n",
              "2      Pa                                              \n",
              "3      Pa                                              \n",
              "4      Pa                                              \n",
              "...                                              ...   \n",
              "15654  Auxílio Doenca por Acidente do Trabalho         \n",
              "15655  Auxílio Doenca por Acidente do Trabalho         \n",
              "15656  Auxílio Doenca por Acidente do Trabalho         \n",
              "15657  Auxílio Doenca por Acidente do Trabalho         \n",
              "15658  Auxílio Doenca por Acidente do Trabalho         \n",
              "\n",
              "                                   Filiação Segurado Indica Óbito Acidente  \\\n",
              "0      Empregado                                                       Não   \n",
              "1      Empregado                                                       Não   \n",
              "2      Empregado                                                       Não   \n",
              "3      Empregado                                                       Sim   \n",
              "4      Empregado                                                       Não   \n",
              "...                                              ...                   ...   \n",
              "15654  Empregado                                                       Não   \n",
              "15655  Empregado                                                       Não   \n",
              "15656  Empregado                                                       Não   \n",
              "15657  Empregado                                                       Não   \n",
              "15658  Empregado                                                       Não   \n",
              "\n",
              "       ...           Sexo Tipo do Acidente UF  Munic.  Acidente  \\\n",
              "0      ...  Masculino             Típico       {ñ class}          \n",
              "1      ...  Masculino             Típico       Maranhão           \n",
              "2      ...  Masculino             Típico       {ñ class}          \n",
              "3      ...  Masculino             Típico       Rondônia           \n",
              "4      ...  Masculino             Típico       {ñ class}          \n",
              "...    ...            ...              ...                  ...   \n",
              "15654  ...  Masculino             Típico       Roraima            \n",
              "15655  ...  Feminino              Típico       Roraima            \n",
              "15656  ...  Masculino             Típico       {ñ class}          \n",
              "15657  ...  Masculino             Típico       Roraima            \n",
              "15658  ...  Masculino             Típico       Maranhão           \n",
              "\n",
              "      UF Munic. Empregador Data Acidente.1 Data Despacho Benefício  \\\n",
              "0      Goiás                       2022/10                 0000/00   \n",
              "1      São Paulo                   2022/10                 0000/00   \n",
              "2      Santa Catarina              2022/10                 0000/00   \n",
              "3      Minas Gerais                2022/10                 0000/00   \n",
              "4      Bahia                       2022/10                 0000/00   \n",
              "...                    ...             ...                     ...   \n",
              "15654  Paraná                      2022/09                 2022/10   \n",
              "15655  Paraná                      2022/10                 2022/11   \n",
              "15656  Santa Catarina              2022/09                 2022/10   \n",
              "15657  Paraná                      2022/10                 2022/10   \n",
              "15658  São Paulo                   2022/10                 2022/10   \n",
              "\n",
              "      Data Acidente.2 Data Nascimento Data Emissão CAT CNPJ/CEI Empregador  \n",
              "0          05/10/2022      05/11/1988       06/10/2022  00.000.000.000.000  \n",
              "1          04/10/2022      02/02/1989       06/10/2022  00.000.000.000.000  \n",
              "2          05/10/2022      07/02/1981       06/10/2022  00.000.000.000.000  \n",
              "3          05/10/2022      27/09/1958       06/10/2022  00.000.000.000.000  \n",
              "4          05/10/2022      09/08/1976       06/10/2022  00.000.000.000.000  \n",
              "...               ...             ...              ...                 ...  \n",
              "15654      29/09/2022      18/09/1993       10/10/2022  21.161.901.000.135  \n",
              "15655      06/10/2022      24/11/1986       07/10/2022  76.416.965.000.121  \n",
              "15656      20/09/2022      02/03/1986       10/10/2022  32.994.401.000.109  \n",
              "15657      05/10/2022      08/04/1984       06/10/2022  34.197.591.000.150  \n",
              "15658      03/10/2022      15/07/1993       18/10/2022  54.614.813.000.109  \n",
              "\n",
              "[15659 rows x 24 columns]"
            ],
            "text/html": [
              "\n",
              "  <div id=\"df-c2fe1ed2-9a6d-42a1-9c14-acfe5690d5d5\">\n",
              "    <div class=\"colab-df-container\">\n",
              "      <div>\n",
              "<style scoped>\n",
              "    .dataframe tbody tr th:only-of-type {\n",
              "        vertical-align: middle;\n",
              "    }\n",
              "\n",
              "    .dataframe tbody tr th {\n",
              "        vertical-align: top;\n",
              "    }\n",
              "\n",
              "    .dataframe thead th {\n",
              "        text-align: right;\n",
              "    }\n",
              "</style>\n",
              "<table border=\"1\" class=\"dataframe\">\n",
              "  <thead>\n",
              "    <tr style=\"text-align: right;\">\n",
              "      <th></th>\n",
              "      <th>Agente  Causador  Acidente</th>\n",
              "      <th>Data Acidente</th>\n",
              "      <th>CBO</th>\n",
              "      <th>CID-10</th>\n",
              "      <th>CNAE2.0 Empregador</th>\n",
              "      <th>CNAE2.0 Empregador.1</th>\n",
              "      <th>Emitente CAT</th>\n",
              "      <th>Espécie do benefício</th>\n",
              "      <th>Filiação Segurado</th>\n",
              "      <th>Indica Óbito Acidente</th>\n",
              "      <th>...</th>\n",
              "      <th>Sexo</th>\n",
              "      <th>Tipo do Acidente</th>\n",
              "      <th>UF  Munic.  Acidente</th>\n",
              "      <th>UF Munic. Empregador</th>\n",
              "      <th>Data Acidente.1</th>\n",
              "      <th>Data Despacho Benefício</th>\n",
              "      <th>Data Acidente.2</th>\n",
              "      <th>Data Nascimento</th>\n",
              "      <th>Data Emissão CAT</th>\n",
              "      <th>CNPJ/CEI Empregador</th>\n",
              "    </tr>\n",
              "  </thead>\n",
              "  <tbody>\n",
              "    <tr>\n",
              "      <th>0</th>\n",
              "      <td>Faca, Facao- Ferramenta Manual sem Forca Motr</td>\n",
              "      <td>2022/10</td>\n",
              "      <td>848515-Desossador</td>\n",
              "      <td>S51.0 Ferim do Cotovelo</td>\n",
              "      <td>1011</td>\n",
              "      <td>Abate de Reses, Exceto Suinos</td>\n",
              "      <td>Empregador</td>\n",
              "      <td>Pa</td>\n",
              "      <td>Empregado</td>\n",
              "      <td>Não</td>\n",
              "      <td>...</td>\n",
              "      <td>Masculino</td>\n",
              "      <td>Típico</td>\n",
              "      <td>{ñ class}</td>\n",
              "      <td>Goiás</td>\n",
              "      <td>2022/10</td>\n",
              "      <td>0000/00</td>\n",
              "      <td>05/10/2022</td>\n",
              "      <td>05/11/1988</td>\n",
              "      <td>06/10/2022</td>\n",
              "      <td>00.000.000.000.000</td>\n",
              "    </tr>\n",
              "    <tr>\n",
              "      <th>1</th>\n",
              "      <td>Aprision. Em, Sob ou Entre, Nic</td>\n",
              "      <td>2022/10</td>\n",
              "      <td>324115-Tec. em Radiologia e Imagenologia</td>\n",
              "      <td>S60.0 Contusao de Dedos s/Lesao da Unha</td>\n",
              "      <td>8610</td>\n",
              "      <td>Atividades de Atendimento Hospitalar</td>\n",
              "      <td>Empregador</td>\n",
              "      <td>Pa</td>\n",
              "      <td>Empregado</td>\n",
              "      <td>Não</td>\n",
              "      <td>...</td>\n",
              "      <td>Masculino</td>\n",
              "      <td>Típico</td>\n",
              "      <td>Maranhão</td>\n",
              "      <td>São Paulo</td>\n",
              "      <td>2022/10</td>\n",
              "      <td>0000/00</td>\n",
              "      <td>04/10/2022</td>\n",
              "      <td>02/02/1989</td>\n",
              "      <td>06/10/2022</td>\n",
              "      <td>00.000.000.000.000</td>\n",
              "    </tr>\n",
              "    <tr>\n",
              "      <th>2</th>\n",
              "      <td>Andaime, Plataforma - Edificio ou Estrutura</td>\n",
              "      <td>2022/10</td>\n",
              "      <td>715210-Pedreiro</td>\n",
              "      <td>S62.8 Frat de Outr Partes e de Partes Ne Punh</td>\n",
              "      <td>4120</td>\n",
              "      <td>Construcao de Edificios</td>\n",
              "      <td>Empregador</td>\n",
              "      <td>Pa</td>\n",
              "      <td>Empregado</td>\n",
              "      <td>Não</td>\n",
              "      <td>...</td>\n",
              "      <td>Masculino</td>\n",
              "      <td>Típico</td>\n",
              "      <td>{ñ class}</td>\n",
              "      <td>Santa Catarina</td>\n",
              "      <td>2022/10</td>\n",
              "      <td>0000/00</td>\n",
              "      <td>05/10/2022</td>\n",
              "      <td>07/02/1981</td>\n",
              "      <td>06/10/2022</td>\n",
              "      <td>00.000.000.000.000</td>\n",
              "    </tr>\n",
              "    <tr>\n",
              "      <th>3</th>\n",
              "      <td>Veiculo Rodoviario Motorizado</td>\n",
              "      <td>2022/10</td>\n",
              "      <td>784205-Alimentador de Linha de Prod.</td>\n",
              "      <td>T02.2 Frat Envolv Regioes Mult de Um Membro S</td>\n",
              "      <td>4211</td>\n",
              "      <td>Construcao de Rodovias e Ferrovias</td>\n",
              "      <td>Empregador</td>\n",
              "      <td>Pa</td>\n",
              "      <td>Empregado</td>\n",
              "      <td>Sim</td>\n",
              "      <td>...</td>\n",
              "      <td>Masculino</td>\n",
              "      <td>Típico</td>\n",
              "      <td>Rondônia</td>\n",
              "      <td>Minas Gerais</td>\n",
              "      <td>2022/10</td>\n",
              "      <td>0000/00</td>\n",
              "      <td>05/10/2022</td>\n",
              "      <td>27/09/1958</td>\n",
              "      <td>06/10/2022</td>\n",
              "      <td>00.000.000.000.000</td>\n",
              "    </tr>\n",
              "    <tr>\n",
              "      <th>4</th>\n",
              "      <td>Impacto de Pes. Contra Objeto em Movimento</td>\n",
              "      <td>2022/10</td>\n",
              "      <td>717020-Servente de Obras</td>\n",
              "      <td>S62.5 Frat do Polegar</td>\n",
              "      <td>4110</td>\n",
              "      <td>Incorporacao de Empreendimentos Imobiliarios</td>\n",
              "      <td>Empregador</td>\n",
              "      <td>Pa</td>\n",
              "      <td>Empregado</td>\n",
              "      <td>Não</td>\n",
              "      <td>...</td>\n",
              "      <td>Masculino</td>\n",
              "      <td>Típico</td>\n",
              "      <td>{ñ class}</td>\n",
              "      <td>Bahia</td>\n",
              "      <td>2022/10</td>\n",
              "      <td>0000/00</td>\n",
              "      <td>05/10/2022</td>\n",
              "      <td>09/08/1976</td>\n",
              "      <td>06/10/2022</td>\n",
              "      <td>00.000.000.000.000</td>\n",
              "    </tr>\n",
              "    <tr>\n",
              "      <th>...</th>\n",
              "      <td>...</td>\n",
              "      <td>...</td>\n",
              "      <td>...</td>\n",
              "      <td>...</td>\n",
              "      <td>...</td>\n",
              "      <td>...</td>\n",
              "      <td>...</td>\n",
              "      <td>...</td>\n",
              "      <td>...</td>\n",
              "      <td>...</td>\n",
              "      <td>...</td>\n",
              "      <td>...</td>\n",
              "      <td>...</td>\n",
              "      <td>...</td>\n",
              "      <td>...</td>\n",
              "      <td>...</td>\n",
              "      <td>...</td>\n",
              "      <td>...</td>\n",
              "      <td>...</td>\n",
              "      <td>...</td>\n",
              "      <td>...</td>\n",
              "    </tr>\n",
              "    <tr>\n",
              "      <th>15654</th>\n",
              "      <td>Piso de Edificio - Superficie Utilizada Para</td>\n",
              "      <td>2022/09</td>\n",
              "      <td>{ñ class}</td>\n",
              "      <td>S62   Frat ao Nivel do Punho e da Mao</td>\n",
              "      <td>2330</td>\n",
              "      <td>Fabricacao de Artefatos de Concreto, Cimento,</td>\n",
              "      <td>{ñ class}</td>\n",
              "      <td>Auxílio Doenca por Acidente do Trabalho</td>\n",
              "      <td>Empregado</td>\n",
              "      <td>Não</td>\n",
              "      <td>...</td>\n",
              "      <td>Masculino</td>\n",
              "      <td>Típico</td>\n",
              "      <td>Roraima</td>\n",
              "      <td>Paraná</td>\n",
              "      <td>2022/09</td>\n",
              "      <td>2022/10</td>\n",
              "      <td>29/09/2022</td>\n",
              "      <td>18/09/1993</td>\n",
              "      <td>10/10/2022</td>\n",
              "      <td>21.161.901.000.135</td>\n",
              "    </tr>\n",
              "    <tr>\n",
              "      <th>15655</th>\n",
              "      <td>Escada Permanente Cujos Degraus Permitem Apoi</td>\n",
              "      <td>2022/10</td>\n",
              "      <td>232130-Prof. Física no Ensino Médio</td>\n",
              "      <td>S82   Frat da Perna Incl Tornozelo</td>\n",
              "      <td>8520</td>\n",
              "      <td>Ensino Medio</td>\n",
              "      <td>Autoridade Pública</td>\n",
              "      <td>Auxílio Doenca por Acidente do Trabalho</td>\n",
              "      <td>Empregado</td>\n",
              "      <td>Não</td>\n",
              "      <td>...</td>\n",
              "      <td>Feminino</td>\n",
              "      <td>Típico</td>\n",
              "      <td>Roraima</td>\n",
              "      <td>Paraná</td>\n",
              "      <td>2022/10</td>\n",
              "      <td>2022/11</td>\n",
              "      <td>06/10/2022</td>\n",
              "      <td>24/11/1986</td>\n",
              "      <td>07/10/2022</td>\n",
              "      <td>76.416.965.000.121</td>\n",
              "    </tr>\n",
              "    <tr>\n",
              "      <th>15656</th>\n",
              "      <td>Andaime, Plataforma - Edificio ou Estrutura</td>\n",
              "      <td>2022/09</td>\n",
              "      <td>517330-Vigilante</td>\n",
              "      <td>S82.7 Frat Mult da Perna</td>\n",
              "      <td>8112</td>\n",
              "      <td>Condominios Prediais</td>\n",
              "      <td>Segurado/Dependente</td>\n",
              "      <td>Auxílio Doenca por Acidente do Trabalho</td>\n",
              "      <td>Empregado</td>\n",
              "      <td>Não</td>\n",
              "      <td>...</td>\n",
              "      <td>Masculino</td>\n",
              "      <td>Típico</td>\n",
              "      <td>{ñ class}</td>\n",
              "      <td>Santa Catarina</td>\n",
              "      <td>2022/09</td>\n",
              "      <td>2022/10</td>\n",
              "      <td>20/09/2022</td>\n",
              "      <td>02/03/1986</td>\n",
              "      <td>10/10/2022</td>\n",
              "      <td>32.994.401.000.109</td>\n",
              "    </tr>\n",
              "    <tr>\n",
              "      <th>15657</th>\n",
              "      <td>Martelo, Malho, Marreta- Ferramenta Manual Se</td>\n",
              "      <td>2022/10</td>\n",
              "      <td>724315-Soldador</td>\n",
              "      <td>S62.6 Frat de Outr Dedos</td>\n",
              "      <td>7112</td>\n",
              "      <td>Servicos de Engenharia</td>\n",
              "      <td>Empregador</td>\n",
              "      <td>Auxílio Doenca por Acidente do Trabalho</td>\n",
              "      <td>Empregado</td>\n",
              "      <td>Não</td>\n",
              "      <td>...</td>\n",
              "      <td>Masculino</td>\n",
              "      <td>Típico</td>\n",
              "      <td>Roraima</td>\n",
              "      <td>Paraná</td>\n",
              "      <td>2022/10</td>\n",
              "      <td>2022/10</td>\n",
              "      <td>05/10/2022</td>\n",
              "      <td>08/04/1984</td>\n",
              "      <td>06/10/2022</td>\n",
              "      <td>34.197.591.000.150</td>\n",
              "    </tr>\n",
              "    <tr>\n",
              "      <th>15658</th>\n",
              "      <td>Impacto de Pes. Contra Objeto Parado</td>\n",
              "      <td>2022/10</td>\n",
              "      <td>721215-Oper. Máquinas-Ferramenta Convencionai</td>\n",
              "      <td>S62.3 Frat de Outr Ossos do Metacarpo</td>\n",
              "      <td>2815</td>\n",
              "      <td>Fabricacao de Equipamentos de Transmissao par</td>\n",
              "      <td>Segurado/Dependente</td>\n",
              "      <td>Auxílio Doenca por Acidente do Trabalho</td>\n",
              "      <td>Empregado</td>\n",
              "      <td>Não</td>\n",
              "      <td>...</td>\n",
              "      <td>Masculino</td>\n",
              "      <td>Típico</td>\n",
              "      <td>Maranhão</td>\n",
              "      <td>São Paulo</td>\n",
              "      <td>2022/10</td>\n",
              "      <td>2022/10</td>\n",
              "      <td>03/10/2022</td>\n",
              "      <td>15/07/1993</td>\n",
              "      <td>18/10/2022</td>\n",
              "      <td>54.614.813.000.109</td>\n",
              "    </tr>\n",
              "  </tbody>\n",
              "</table>\n",
              "<p>15659 rows × 24 columns</p>\n",
              "</div>\n",
              "      <button class=\"colab-df-convert\" onclick=\"convertToInteractive('df-c2fe1ed2-9a6d-42a1-9c14-acfe5690d5d5')\"\n",
              "              title=\"Convert this dataframe to an interactive table.\"\n",
              "              style=\"display:none;\">\n",
              "        \n",
              "  <svg xmlns=\"http://www.w3.org/2000/svg\" height=\"24px\"viewBox=\"0 0 24 24\"\n",
              "       width=\"24px\">\n",
              "    <path d=\"M0 0h24v24H0V0z\" fill=\"none\"/>\n",
              "    <path d=\"M18.56 5.44l.94 2.06.94-2.06 2.06-.94-2.06-.94-.94-2.06-.94 2.06-2.06.94zm-11 1L8.5 8.5l.94-2.06 2.06-.94-2.06-.94L8.5 2.5l-.94 2.06-2.06.94zm10 10l.94 2.06.94-2.06 2.06-.94-2.06-.94-.94-2.06-.94 2.06-2.06.94z\"/><path d=\"M17.41 7.96l-1.37-1.37c-.4-.4-.92-.59-1.43-.59-.52 0-1.04.2-1.43.59L10.3 9.45l-7.72 7.72c-.78.78-.78 2.05 0 2.83L4 21.41c.39.39.9.59 1.41.59.51 0 1.02-.2 1.41-.59l7.78-7.78 2.81-2.81c.8-.78.8-2.07 0-2.86zM5.41 20L4 18.59l7.72-7.72 1.47 1.35L5.41 20z\"/>\n",
              "  </svg>\n",
              "      </button>\n",
              "      \n",
              "  <style>\n",
              "    .colab-df-container {\n",
              "      display:flex;\n",
              "      flex-wrap:wrap;\n",
              "      gap: 12px;\n",
              "    }\n",
              "\n",
              "    .colab-df-convert {\n",
              "      background-color: #E8F0FE;\n",
              "      border: none;\n",
              "      border-radius: 50%;\n",
              "      cursor: pointer;\n",
              "      display: none;\n",
              "      fill: #1967D2;\n",
              "      height: 32px;\n",
              "      padding: 0 0 0 0;\n",
              "      width: 32px;\n",
              "    }\n",
              "\n",
              "    .colab-df-convert:hover {\n",
              "      background-color: #E2EBFA;\n",
              "      box-shadow: 0px 1px 2px rgba(60, 64, 67, 0.3), 0px 1px 3px 1px rgba(60, 64, 67, 0.15);\n",
              "      fill: #174EA6;\n",
              "    }\n",
              "\n",
              "    [theme=dark] .colab-df-convert {\n",
              "      background-color: #3B4455;\n",
              "      fill: #D2E3FC;\n",
              "    }\n",
              "\n",
              "    [theme=dark] .colab-df-convert:hover {\n",
              "      background-color: #434B5C;\n",
              "      box-shadow: 0px 1px 3px 1px rgba(0, 0, 0, 0.15);\n",
              "      filter: drop-shadow(0px 1px 2px rgba(0, 0, 0, 0.3));\n",
              "      fill: #FFFFFF;\n",
              "    }\n",
              "  </style>\n",
              "\n",
              "      <script>\n",
              "        const buttonEl =\n",
              "          document.querySelector('#df-c2fe1ed2-9a6d-42a1-9c14-acfe5690d5d5 button.colab-df-convert');\n",
              "        buttonEl.style.display =\n",
              "          google.colab.kernel.accessAllowed ? 'block' : 'none';\n",
              "\n",
              "        async function convertToInteractive(key) {\n",
              "          const element = document.querySelector('#df-c2fe1ed2-9a6d-42a1-9c14-acfe5690d5d5');\n",
              "          const dataTable =\n",
              "            await google.colab.kernel.invokeFunction('convertToInteractive',\n",
              "                                                     [key], {});\n",
              "          if (!dataTable) return;\n",
              "\n",
              "          const docLinkHtml = 'Like what you see? Visit the ' +\n",
              "            '<a target=\"_blank\" href=https://colab.research.google.com/notebooks/data_table.ipynb>data table notebook</a>'\n",
              "            + ' to learn more about interactive tables.';\n",
              "          element.innerHTML = '';\n",
              "          dataTable['output_type'] = 'display_data';\n",
              "          await google.colab.output.renderOutput(dataTable, element);\n",
              "          const docLink = document.createElement('div');\n",
              "          docLink.innerHTML = docLinkHtml;\n",
              "          element.appendChild(docLink);\n",
              "        }\n",
              "      </script>\n",
              "    </div>\n",
              "  </div>\n",
              "  "
            ]
          },
          "metadata": {},
          "execution_count": 13
        }
      ]
    },
    {
      "cell_type": "markdown",
      "source": [
        "### Upload para o MongoDB"
      ],
      "metadata": {
        "id": "vKVvC7SgeSPC"
      }
    },
    {
      "cell_type": "code",
      "execution_count": null,
      "metadata": {
        "id": "NdXRQmeScwnS"
      },
      "outputs": [],
      "source": [
        "# conector do Mongo Atlas\n",
        "# from pymongo import MongoClient\n",
        "uri = \"mongodb+srv://jose-soulcode.hzghbxc.mongodb.net/?authSource=%24external&authMechanism=MONGODB-X509&retryWrites=true&w=majority\"\n",
        "client = MongoClient(uri,\n",
        "                     tls=True,\n",
        "                     tlsCertificateKeyFile='/content/X509-cert-5657352609111553935.pem')\n",
        "\n",
        "db = client['inss_orig_1-3']\n",
        "colecao = db['orig1']"
      ]
    },
    {
      "cell_type": "code",
      "source": [
        "#verificando a conexão por meio da quantidade de documentos da coleção\n",
        "doc_count = colecao.count_documents({})\n",
        "print(doc_count)"
      ],
      "metadata": {
        "colab": {
          "base_uri": "https://localhost:8080/"
        },
        "id": "GEaSEo60AyC8",
        "outputId": "826891fc-280c-405e-a95c-bbfbb902b7a6"
      },
      "execution_count": null,
      "outputs": [
        {
          "output_type": "stream",
          "name": "stdout",
          "text": [
            "0\n"
          ]
        }
      ]
    },
    {
      "cell_type": "markdown",
      "source": [
        "A DF inicialmente não entra no MongoDB, possívelmente porque possui divesas \"{}\" (chaves) e \")\" (parênteses) abertos ou avulsos, junto de informações em suas colunas"
      ],
      "metadata": {
        "id": "MGE5lHddxgug"
      }
    },
    {
      "cell_type": "code",
      "source": [
        "# replace para remover do df1 todas \"{\", \"}\" e \")\"\n",
        "df1.replace(['{', '}', '\\)'],'',regex=True,inplace=True)"
      ],
      "metadata": {
        "id": "L7UQVoSjA-lC"
      },
      "execution_count": null,
      "outputs": []
    },
    {
      "cell_type": "code",
      "source": [
        "# Inserindo o primeiro DF para coleção selecionada no mongo\n",
        "df1_dict = df1.to_dict(\"records\")\n",
        "colecao.insert_many(df1_dict)"
      ],
      "metadata": {
        "colab": {
          "base_uri": "https://localhost:8080/"
        },
        "id": "4SF4g-fhd5DL",
        "outputId": "8a3c6c35-efc7-4207-9c70-ad715c9f9ff7"
      },
      "execution_count": null,
      "outputs": [
        {
          "output_type": "execute_result",
          "data": {
            "text/plain": [
              "<pymongo.results.InsertManyResult at 0x7fc8c295bfd0>"
            ]
          },
          "metadata": {},
          "execution_count": 93
        }
      ]
    },
    {
      "cell_type": "code",
      "source": [
        "# conferindo que entraram todas as linhas\n",
        "doc_count = colecao.count_documents({})\n",
        "linhas_df1 = df1.shape[0]\n",
        "if doc_count == linhas_df1:\n",
        "  print(f'o documento foi inserido com êxito, contendo {doc_count} entradas')\n",
        "else:\n",
        "  print(f'nem todas as linhas do Dataframe foram carregadas, apenas {doc_count}')"
      ],
      "metadata": {
        "colab": {
          "base_uri": "https://localhost:8080/"
        },
        "id": "MM7el0JXevxb",
        "outputId": "0294e521-d993-43ba-ce46-6e87bf295b7b"
      },
      "execution_count": null,
      "outputs": [
        {
          "output_type": "stream",
          "name": "stdout",
          "text": [
            "o documento foi inserido com êxito, contendo 152140 entradas\n"
          ]
        }
      ]
    },
    {
      "cell_type": "code",
      "source": [
        "# Selecionando uma segunda coleção para colocar o segundo DF original no mongo\n",
        "db2 = client['inss_orig_2-3']\n",
        "colecao2 = db2['orig2']"
      ],
      "metadata": {
        "id": "jvJ5q3GQfKf7"
      },
      "execution_count": null,
      "outputs": []
    },
    {
      "cell_type": "code",
      "source": [
        "# o df2 teve o mesmo problema que o primeiro, então é possível remover as chaves da mesma forma\n",
        "# replace para remover do df2 todas \"{\" e \"}\"\n",
        "df2.replace(['{', '}'],'',regex=True,inplace=True)"
      ],
      "metadata": {
        "id": "cknzSyUb55zj"
      },
      "execution_count": null,
      "outputs": []
    },
    {
      "cell_type": "code",
      "source": [
        "# Inserindo o segundo DF\n",
        "df2_dict = df2.to_dict(\"records\")\n",
        "colecao2.insert_many(df2_dict)"
      ],
      "metadata": {
        "colab": {
          "base_uri": "https://localhost:8080/"
        },
        "id": "m8ML2zw4fKOL",
        "outputId": "4a29333e-9d3a-4fc9-a40c-f754bf32657f"
      },
      "execution_count": null,
      "outputs": [
        {
          "output_type": "execute_result",
          "data": {
            "text/plain": [
              "<pymongo.results.InsertManyResult at 0x7fc8c8acdc70>"
            ]
          },
          "metadata": {},
          "execution_count": 52
        }
      ]
    },
    {
      "cell_type": "code",
      "source": [
        "# conferindo que entrou\n",
        "doc_count = colecao2.count_documents({})\n",
        "linhas_df2 = df2.shape[0]\n",
        "if doc_count == linhas_df2:\n",
        "  print(f'o documento foi inserido com êxito, contendo {doc_count} entradas')\n",
        "else:\n",
        "  print(f'nem todas as linhas do Dataframe foram carregadas, apenas {doc_count}')"
      ],
      "metadata": {
        "colab": {
          "base_uri": "https://localhost:8080/"
        },
        "id": "I5w629d17Trs",
        "outputId": "1159f798-1602-4887-9661-7fb8e49950d2"
      },
      "execution_count": null,
      "outputs": [
        {
          "output_type": "stream",
          "name": "stdout",
          "text": [
            "o documento foi inserido com êxito, contendo 89602 entradas\n"
          ]
        }
      ]
    },
    {
      "cell_type": "code",
      "source": [
        "# os mesmos passos com a terceira base de dados\n",
        "db3 = client['inss_orig_3-3']\n",
        "colecao3 = db3['orig3']"
      ],
      "metadata": {
        "id": "c-apElisfx3L"
      },
      "execution_count": null,
      "outputs": []
    },
    {
      "cell_type": "code",
      "source": [
        "df3_dict = df3.to_dict(\"records\")\n",
        "colecao3.insert_many(df3_dict)"
      ],
      "metadata": {
        "colab": {
          "base_uri": "https://localhost:8080/"
        },
        "id": "O5CYy4u0fxbb",
        "outputId": "38587cdc-add2-4178-b4e8-f50b67b068e7"
      },
      "execution_count": null,
      "outputs": [
        {
          "output_type": "execute_result",
          "data": {
            "text/plain": [
              "<pymongo.results.InsertManyResult at 0x7fc8b71111f0>"
            ]
          },
          "metadata": {},
          "execution_count": 96
        }
      ]
    },
    {
      "cell_type": "code",
      "source": [
        "# conferindo que entrou\n",
        "doc_count = colecao3.count_documents({})\n",
        "linhas_df3 = df3.shape[0]\n",
        "if doc_count == linhas_df3:\n",
        "  print(f'o documento foi inserido com êxito, contendo {doc_count} entradas')\n",
        "else:\n",
        "  print(f'nem todas as linhas do Dataframe foram carregadas, apenas {doc_count}')"
      ],
      "metadata": {
        "id": "ntzDOlWB9atJ"
      },
      "execution_count": null,
      "outputs": []
    },
    {
      "cell_type": "markdown",
      "source": [
        "# Transformação Pandas"
      ],
      "metadata": {
        "id": "TypE-3DHF0_k"
      }
    },
    {
      "cell_type": "markdown",
      "source": [
        "Como os DataFrames já foram criados nos passos anteriores, agora será feito o tratamento inicial daqueles 3 DFs, para posteriormente uni-los em um DF_final, que será tratado com auxílio do PySpark"
      ],
      "metadata": {
        "id": "VQhG48BQGQQa"
      }
    },
    {
      "cell_type": "code",
      "source": [
        "# para possibilitar a vizualização de todas as colunas dos DataFrames\n",
        "pd.set_option('display.max_columns',100)"
      ],
      "metadata": {
        "id": "DPvYbNg2Omtp"
      },
      "execution_count": null,
      "outputs": []
    },
    {
      "cell_type": "markdown",
      "source": [
        "## Juntando os dataframes"
      ],
      "metadata": {
        "id": "VR-2OAKDQaHO"
      }
    },
    {
      "cell_type": "code",
      "source": [
        "# dado que os dataframes são sequenciais, trazendo os mesmos dados em diferentes períodos,\n",
        "# podem ser concatenados, e já tratados em conjunto\n",
        "# (o ignore_index serve para não haja conflitos entre o index deles, ja que todos possuem um index proprio)\n",
        "df_final = pd.concat([df1, df2, df3], ignore_index=True)"
      ],
      "metadata": {
        "id": "1vqyjWo9O9To"
      },
      "execution_count": null,
      "outputs": []
    },
    {
      "cell_type": "code",
      "source": [
        "# conferindo o merge (resultado esperado: True)\n",
        "df_final.shape[0] == df1.shape[0] + df2.shape[0] + df3.shape[0]"
      ],
      "metadata": {
        "colab": {
          "base_uri": "https://localhost:8080/"
        },
        "id": "3iBmTjFIP_g3",
        "outputId": "5d44e399-d7e3-49b8-8765-b1fca2940aca"
      },
      "execution_count": null,
      "outputs": [
        {
          "output_type": "execute_result",
          "data": {
            "text/plain": [
              "True"
            ]
          },
          "metadata": {},
          "execution_count": 22
        }
      ]
    },
    {
      "cell_type": "code",
      "source": [
        "# podemos verificar se há algum valor nulo\n",
        "df_final.isnull().sum()"
      ],
      "metadata": {
        "colab": {
          "base_uri": "https://localhost:8080/"
        },
        "id": "oqzit6wnP9az",
        "outputId": "cd69b277-60d5-4604-cca1-8d24a775ae15"
      },
      "execution_count": null,
      "outputs": [
        {
          "output_type": "execute_result",
          "data": {
            "text/plain": [
              "Agente  Causador  Acidente     0\n",
              "Data Acidente                  0\n",
              "CBO                            0\n",
              "CID-10                         0\n",
              "CNAE2.0 Empregador             0\n",
              "CNAE2.0 Empregador.1           0\n",
              "Emitente CAT                   0\n",
              "Espécie do benefício           0\n",
              "Filiação Segurado              0\n",
              "Indica Óbito Acidente          0\n",
              "Munic Empr                     0\n",
              "Natureza da Lesão              0\n",
              "Origem de Cadastramento CAT    0\n",
              "Parte Corpo Atingida           0\n",
              "Sexo                           0\n",
              "Tipo do Acidente               0\n",
              "UF  Munic.  Acidente           0\n",
              "UF Munic. Empregador           0\n",
              "Data Acidente.1                0\n",
              "Data Despacho Benefício        0\n",
              "Data Acidente.2                0\n",
              "Data Nascimento                0\n",
              "Data Emissão CAT               0\n",
              "CNPJ/CEI Empregador            0\n",
              "dtype: int64"
            ]
          },
          "metadata": {},
          "execution_count": 23
        }
      ]
    },
    {
      "cell_type": "code",
      "source": [
        "df_final"
      ],
      "metadata": {
        "id": "YV4gmN_sTg7D",
        "colab": {
          "base_uri": "https://localhost:8080/",
          "height": 1000
        },
        "outputId": "0b146efd-44e4-49d3-b9c8-37dde1aeb773"
      },
      "execution_count": null,
      "outputs": [
        {
          "output_type": "execute_result",
          "data": {
            "text/plain": [
              "                           Agente  Causador  Acidente Data Acidente  \\\n",
              "0         ñ class                                           2022/01   \n",
              "1       Motocicleta, Motoneta                               2022/02   \n",
              "2       Motocicleta, Motoneta                               2022/02   \n",
              "3       Aprision. Em, Sobre ou Entre Dois ou Mai            2022/02   \n",
              "4       Impacto de Pes. Contra Objeto em Movimento          2022/01   \n",
              "...                                               ...           ...   \n",
              "257396  Piso de Edificio - Superficie Utilizada Para        2022/09   \n",
              "257397  Escada Permanente Cujos Degraus Permitem Apoi       2022/10   \n",
              "257398  Andaime, Plataforma - Edificio ou Estrutura         2022/09   \n",
              "257399  Martelo, Malho, Marreta- Ferramenta Manual Se       2022/10   \n",
              "257400  Impacto de Pes. Contra Objeto Parado                2022/10   \n",
              "\n",
              "                                                  CBO  \\\n",
              "0       515105-Agente Comunitário de Saúde              \n",
              "1       519110-Motociclista no Transporte de Document   \n",
              "2       519110-Motociclista no Transporte de Document   \n",
              "3       514205-Coletor Lixo                             \n",
              "4         ñ class                                       \n",
              "...                                               ...   \n",
              "257396  {ñ class}                                       \n",
              "257397  232130-Prof. Física no Ensino Médio             \n",
              "257398  517330-Vigilante                                \n",
              "257399  724315-Soldador                                 \n",
              "257400  721215-Oper. Máquinas-Ferramenta Convencionai   \n",
              "\n",
              "                                               CID-10  CNAE2.0 Empregador  \\\n",
              "0       B34.2 Infecc p/Coronavirus Ne                                8630   \n",
              "1       S52.5 Frat da Extremidade Distal do Radio                    4930   \n",
              "2       S52.5 Frat da Extremidade Distal do Radio                    4930   \n",
              "3       S60.0 Contusao de Dedos s/Lesao da Unha                      3811   \n",
              "4       S90.0 Contusao do Tornozelo                                  4639   \n",
              "...                                               ...                 ...   \n",
              "257396  S62   Frat ao Nivel do Punho e da Mao                        2330   \n",
              "257397  S82   Frat da Perna Incl Tornozelo                           8520   \n",
              "257398  S82.7 Frat Mult da Perna                                     8112   \n",
              "257399  S62.6 Frat de Outr Dedos                                     7112   \n",
              "257400  S62.3 Frat de Outr Ossos do Metacarpo                        2815   \n",
              "\n",
              "                                 CNAE2.0 Empregador.1         Emitente CAT  \\\n",
              "0       Atividades de Atencao Ambulatorial Executadas  Empregador            \n",
              "1       Transporte Rodoviario de Carga                 Segurado/Dependente   \n",
              "2       Transporte Rodoviario de Carga                 Segurado/Dependente   \n",
              "3       Coleta de Residuos Nao-Perigosos               Empregador            \n",
              "4       Comercio Atacadista de Produtos Alimenticios   Empregador            \n",
              "...                                               ...                  ...   \n",
              "257396  Fabricacao de Artefatos de Concreto, Cimento,  {ñ class}             \n",
              "257397  Ensino Medio                                   Autoridade Pública    \n",
              "257398  Condominios Prediais                           Segurado/Dependente   \n",
              "257399  Servicos de Engenharia                         Empregador            \n",
              "257400  Fabricacao de Equipamentos de Transmissao par  Segurado/Dependente   \n",
              "\n",
              "                                 Espécie do benefício  \\\n",
              "0       Pa                                              \n",
              "1       Pa                                              \n",
              "2       Pa                                              \n",
              "3       Pa                                              \n",
              "4       Pa                                              \n",
              "...                                               ...   \n",
              "257396  Auxílio Doenca por Acidente do Trabalho         \n",
              "257397  Auxílio Doenca por Acidente do Trabalho         \n",
              "257398  Auxílio Doenca por Acidente do Trabalho         \n",
              "257399  Auxílio Doenca por Acidente do Trabalho         \n",
              "257400  Auxílio Doenca por Acidente do Trabalho         \n",
              "\n",
              "                                    Filiação Segurado Indica Óbito Acidente  \\\n",
              "0       Empregado                                                       Não   \n",
              "1       Empregado                                                       Não   \n",
              "2       Empregado                                                       Não   \n",
              "3       Empregado                                                       Não   \n",
              "4       Empregado                                                       Não   \n",
              "...                                               ...                   ...   \n",
              "257396  Empregado                                                       Não   \n",
              "257397  Empregado                                                       Não   \n",
              "257398  Empregado                                                       Não   \n",
              "257399  Empregado                                                       Não   \n",
              "257400  Empregado                                                       Não   \n",
              "\n",
              "                                       Munic Empr  \\\n",
              "0       354780-Santo André-Sp                       \n",
              "1       355030-São Paulo                            \n",
              "2       355030-São Paulo                            \n",
              "3       520110-Anápolis                             \n",
              "4       330100-Campos dos Goytacazes                \n",
              "...                                           ...   \n",
              "257396  410960-Guaratuba                            \n",
              "257397  410690-Curitiba                             \n",
              "257398  420460-Criciúma                             \n",
              "257399  411000-Iguaraçu                             \n",
              "257400  353130-Monte Alto                           \n",
              "\n",
              "                                    Natureza da Lesão  \\\n",
              "0       Doenca Contagiosa ou Infecciosa (Tuberculos     \n",
              "1       Fratura                                         \n",
              "2       Fratura                                         \n",
              "3       Luxacao                                         \n",
              "4       Luxacao                                         \n",
              "...                                               ...   \n",
              "257396  Lesao Imediata                                  \n",
              "257397  Fratura                                         \n",
              "257398  Fratura                                         \n",
              "257399  Fratura                                         \n",
              "257400  Fratura                                         \n",
              "\n",
              "       Origem de Cadastramento CAT  \\\n",
              "0                         Internet   \n",
              "1                         Internet   \n",
              "2                         Internet   \n",
              "3                         Internet   \n",
              "4                         Internet   \n",
              "...                            ...   \n",
              "257396                    Internet   \n",
              "257397                    Internet   \n",
              "257398                    Internet   \n",
              "257399                    Internet   \n",
              "257400                    Internet   \n",
              "\n",
              "                                 Parte Corpo Atingida           Sexo  \\\n",
              "0       Aparelho Respiratorio                          Feminino        \n",
              "1        Braco (Entre O Punho a O Ombro                Masculino       \n",
              "2        Braco (Entre O Punho a O Ombro                Masculino       \n",
              "3       Punho                                          Masculino       \n",
              "4        Perna (Entre O Tornozelo e a Pelvis           Masculino       \n",
              "...                                               ...            ...   \n",
              "257396  Mao (Exceto Punho ou Dedos)                    Masculino       \n",
              "257397  Perna (Do Tornozelo, Exclusive, ao Joelho, Ex  Feminino        \n",
              "257398  Membros Inferiores, Partes Multiplas (Qualque  Masculino       \n",
              "257399  Dedo                                           Masculino       \n",
              "257400  Dedo                                           Masculino       \n",
              "\n",
              "       Tipo do Acidente UF  Munic.  Acidente UF Munic. Empregador  \\\n",
              "0              Doença       Maranhão          São Paulo             \n",
              "1              Trajeto      Maranhão          São Paulo             \n",
              "2              Trajeto      Maranhão          São Paulo             \n",
              "3              Típico         ñ class         Goiás                 \n",
              "4              Típico       Maranhão          São Paulo             \n",
              "...                 ...                  ...                  ...   \n",
              "257396         Típico       Roraima           Paraná                \n",
              "257397         Típico       Roraima           Paraná                \n",
              "257398         Típico       {ñ class}         Santa Catarina        \n",
              "257399         Típico       Roraima           Paraná                \n",
              "257400         Típico       Maranhão          São Paulo             \n",
              "\n",
              "       Data Acidente.1 Data Despacho Benefício Data Acidente.2  \\\n",
              "0              2022/01                 0000/00      20/01/2022   \n",
              "1              2022/02                 0000/00      25/02/2022   \n",
              "2              2022/02                 0000/00      25/02/2022   \n",
              "3              2022/02                 0000/00      24/02/2022   \n",
              "4              2022/01                 0000/00      28/01/2022   \n",
              "...                ...                     ...             ...   \n",
              "257396         2022/09                 2022/10      29/09/2022   \n",
              "257397         2022/10                 2022/11      06/10/2022   \n",
              "257398         2022/09                 2022/10      20/09/2022   \n",
              "257399         2022/10                 2022/10      05/10/2022   \n",
              "257400         2022/10                 2022/10      03/10/2022   \n",
              "\n",
              "       Data Nascimento Data Emissão CAT CNPJ/CEI Empregador  \n",
              "0           02/08/1970       01/03/2022  57.571.275.002.570  \n",
              "1           16/12/1990       01/03/2022  19.578.086.000.162  \n",
              "2           16/12/1990       01/03/2022  19.578.086.000.162  \n",
              "3           19/09/1986       01/03/2022  00.000.000.000.000  \n",
              "4           25/07/1995       01/03/2022  00.000.000.000.000  \n",
              "...                ...              ...                 ...  \n",
              "257396      18/09/1993       10/10/2022  21.161.901.000.135  \n",
              "257397      24/11/1986       07/10/2022  76.416.965.000.121  \n",
              "257398      02/03/1986       10/10/2022  32.994.401.000.109  \n",
              "257399      08/04/1984       06/10/2022  34.197.591.000.150  \n",
              "257400      15/07/1993       18/10/2022  54.614.813.000.109  \n",
              "\n",
              "[257401 rows x 24 columns]"
            ],
            "text/html": [
              "\n",
              "  <div id=\"df-27b81fd9-f5da-4030-a78d-b820848db161\">\n",
              "    <div class=\"colab-df-container\">\n",
              "      <div>\n",
              "<style scoped>\n",
              "    .dataframe tbody tr th:only-of-type {\n",
              "        vertical-align: middle;\n",
              "    }\n",
              "\n",
              "    .dataframe tbody tr th {\n",
              "        vertical-align: top;\n",
              "    }\n",
              "\n",
              "    .dataframe thead th {\n",
              "        text-align: right;\n",
              "    }\n",
              "</style>\n",
              "<table border=\"1\" class=\"dataframe\">\n",
              "  <thead>\n",
              "    <tr style=\"text-align: right;\">\n",
              "      <th></th>\n",
              "      <th>Agente  Causador  Acidente</th>\n",
              "      <th>Data Acidente</th>\n",
              "      <th>CBO</th>\n",
              "      <th>CID-10</th>\n",
              "      <th>CNAE2.0 Empregador</th>\n",
              "      <th>CNAE2.0 Empregador.1</th>\n",
              "      <th>Emitente CAT</th>\n",
              "      <th>Espécie do benefício</th>\n",
              "      <th>Filiação Segurado</th>\n",
              "      <th>Indica Óbito Acidente</th>\n",
              "      <th>Munic Empr</th>\n",
              "      <th>Natureza da Lesão</th>\n",
              "      <th>Origem de Cadastramento CAT</th>\n",
              "      <th>Parte Corpo Atingida</th>\n",
              "      <th>Sexo</th>\n",
              "      <th>Tipo do Acidente</th>\n",
              "      <th>UF  Munic.  Acidente</th>\n",
              "      <th>UF Munic. Empregador</th>\n",
              "      <th>Data Acidente.1</th>\n",
              "      <th>Data Despacho Benefício</th>\n",
              "      <th>Data Acidente.2</th>\n",
              "      <th>Data Nascimento</th>\n",
              "      <th>Data Emissão CAT</th>\n",
              "      <th>CNPJ/CEI Empregador</th>\n",
              "    </tr>\n",
              "  </thead>\n",
              "  <tbody>\n",
              "    <tr>\n",
              "      <th>0</th>\n",
              "      <td>ñ class</td>\n",
              "      <td>2022/01</td>\n",
              "      <td>515105-Agente Comunitário de Saúde</td>\n",
              "      <td>B34.2 Infecc p/Coronavirus Ne</td>\n",
              "      <td>8630</td>\n",
              "      <td>Atividades de Atencao Ambulatorial Executadas</td>\n",
              "      <td>Empregador</td>\n",
              "      <td>Pa</td>\n",
              "      <td>Empregado</td>\n",
              "      <td>Não</td>\n",
              "      <td>354780-Santo André-Sp</td>\n",
              "      <td>Doenca Contagiosa ou Infecciosa (Tuberculos</td>\n",
              "      <td>Internet</td>\n",
              "      <td>Aparelho Respiratorio</td>\n",
              "      <td>Feminino</td>\n",
              "      <td>Doença</td>\n",
              "      <td>Maranhão</td>\n",
              "      <td>São Paulo</td>\n",
              "      <td>2022/01</td>\n",
              "      <td>0000/00</td>\n",
              "      <td>20/01/2022</td>\n",
              "      <td>02/08/1970</td>\n",
              "      <td>01/03/2022</td>\n",
              "      <td>57.571.275.002.570</td>\n",
              "    </tr>\n",
              "    <tr>\n",
              "      <th>1</th>\n",
              "      <td>Motocicleta, Motoneta</td>\n",
              "      <td>2022/02</td>\n",
              "      <td>519110-Motociclista no Transporte de Document</td>\n",
              "      <td>S52.5 Frat da Extremidade Distal do Radio</td>\n",
              "      <td>4930</td>\n",
              "      <td>Transporte Rodoviario de Carga</td>\n",
              "      <td>Segurado/Dependente</td>\n",
              "      <td>Pa</td>\n",
              "      <td>Empregado</td>\n",
              "      <td>Não</td>\n",
              "      <td>355030-São Paulo</td>\n",
              "      <td>Fratura</td>\n",
              "      <td>Internet</td>\n",
              "      <td>Braco (Entre O Punho a O Ombro</td>\n",
              "      <td>Masculino</td>\n",
              "      <td>Trajeto</td>\n",
              "      <td>Maranhão</td>\n",
              "      <td>São Paulo</td>\n",
              "      <td>2022/02</td>\n",
              "      <td>0000/00</td>\n",
              "      <td>25/02/2022</td>\n",
              "      <td>16/12/1990</td>\n",
              "      <td>01/03/2022</td>\n",
              "      <td>19.578.086.000.162</td>\n",
              "    </tr>\n",
              "    <tr>\n",
              "      <th>2</th>\n",
              "      <td>Motocicleta, Motoneta</td>\n",
              "      <td>2022/02</td>\n",
              "      <td>519110-Motociclista no Transporte de Document</td>\n",
              "      <td>S52.5 Frat da Extremidade Distal do Radio</td>\n",
              "      <td>4930</td>\n",
              "      <td>Transporte Rodoviario de Carga</td>\n",
              "      <td>Segurado/Dependente</td>\n",
              "      <td>Pa</td>\n",
              "      <td>Empregado</td>\n",
              "      <td>Não</td>\n",
              "      <td>355030-São Paulo</td>\n",
              "      <td>Fratura</td>\n",
              "      <td>Internet</td>\n",
              "      <td>Braco (Entre O Punho a O Ombro</td>\n",
              "      <td>Masculino</td>\n",
              "      <td>Trajeto</td>\n",
              "      <td>Maranhão</td>\n",
              "      <td>São Paulo</td>\n",
              "      <td>2022/02</td>\n",
              "      <td>0000/00</td>\n",
              "      <td>25/02/2022</td>\n",
              "      <td>16/12/1990</td>\n",
              "      <td>01/03/2022</td>\n",
              "      <td>19.578.086.000.162</td>\n",
              "    </tr>\n",
              "    <tr>\n",
              "      <th>3</th>\n",
              "      <td>Aprision. Em, Sobre ou Entre Dois ou Mai</td>\n",
              "      <td>2022/02</td>\n",
              "      <td>514205-Coletor Lixo</td>\n",
              "      <td>S60.0 Contusao de Dedos s/Lesao da Unha</td>\n",
              "      <td>3811</td>\n",
              "      <td>Coleta de Residuos Nao-Perigosos</td>\n",
              "      <td>Empregador</td>\n",
              "      <td>Pa</td>\n",
              "      <td>Empregado</td>\n",
              "      <td>Não</td>\n",
              "      <td>520110-Anápolis</td>\n",
              "      <td>Luxacao</td>\n",
              "      <td>Internet</td>\n",
              "      <td>Punho</td>\n",
              "      <td>Masculino</td>\n",
              "      <td>Típico</td>\n",
              "      <td>ñ class</td>\n",
              "      <td>Goiás</td>\n",
              "      <td>2022/02</td>\n",
              "      <td>0000/00</td>\n",
              "      <td>24/02/2022</td>\n",
              "      <td>19/09/1986</td>\n",
              "      <td>01/03/2022</td>\n",
              "      <td>00.000.000.000.000</td>\n",
              "    </tr>\n",
              "    <tr>\n",
              "      <th>4</th>\n",
              "      <td>Impacto de Pes. Contra Objeto em Movimento</td>\n",
              "      <td>2022/01</td>\n",
              "      <td>ñ class</td>\n",
              "      <td>S90.0 Contusao do Tornozelo</td>\n",
              "      <td>4639</td>\n",
              "      <td>Comercio Atacadista de Produtos Alimenticios</td>\n",
              "      <td>Empregador</td>\n",
              "      <td>Pa</td>\n",
              "      <td>Empregado</td>\n",
              "      <td>Não</td>\n",
              "      <td>330100-Campos dos Goytacazes</td>\n",
              "      <td>Luxacao</td>\n",
              "      <td>Internet</td>\n",
              "      <td>Perna (Entre O Tornozelo e a Pelvis</td>\n",
              "      <td>Masculino</td>\n",
              "      <td>Típico</td>\n",
              "      <td>Maranhão</td>\n",
              "      <td>São Paulo</td>\n",
              "      <td>2022/01</td>\n",
              "      <td>0000/00</td>\n",
              "      <td>28/01/2022</td>\n",
              "      <td>25/07/1995</td>\n",
              "      <td>01/03/2022</td>\n",
              "      <td>00.000.000.000.000</td>\n",
              "    </tr>\n",
              "    <tr>\n",
              "      <th>...</th>\n",
              "      <td>...</td>\n",
              "      <td>...</td>\n",
              "      <td>...</td>\n",
              "      <td>...</td>\n",
              "      <td>...</td>\n",
              "      <td>...</td>\n",
              "      <td>...</td>\n",
              "      <td>...</td>\n",
              "      <td>...</td>\n",
              "      <td>...</td>\n",
              "      <td>...</td>\n",
              "      <td>...</td>\n",
              "      <td>...</td>\n",
              "      <td>...</td>\n",
              "      <td>...</td>\n",
              "      <td>...</td>\n",
              "      <td>...</td>\n",
              "      <td>...</td>\n",
              "      <td>...</td>\n",
              "      <td>...</td>\n",
              "      <td>...</td>\n",
              "      <td>...</td>\n",
              "      <td>...</td>\n",
              "      <td>...</td>\n",
              "    </tr>\n",
              "    <tr>\n",
              "      <th>257396</th>\n",
              "      <td>Piso de Edificio - Superficie Utilizada Para</td>\n",
              "      <td>2022/09</td>\n",
              "      <td>{ñ class}</td>\n",
              "      <td>S62   Frat ao Nivel do Punho e da Mao</td>\n",
              "      <td>2330</td>\n",
              "      <td>Fabricacao de Artefatos de Concreto, Cimento,</td>\n",
              "      <td>{ñ class}</td>\n",
              "      <td>Auxílio Doenca por Acidente do Trabalho</td>\n",
              "      <td>Empregado</td>\n",
              "      <td>Não</td>\n",
              "      <td>410960-Guaratuba</td>\n",
              "      <td>Lesao Imediata</td>\n",
              "      <td>Internet</td>\n",
              "      <td>Mao (Exceto Punho ou Dedos)</td>\n",
              "      <td>Masculino</td>\n",
              "      <td>Típico</td>\n",
              "      <td>Roraima</td>\n",
              "      <td>Paraná</td>\n",
              "      <td>2022/09</td>\n",
              "      <td>2022/10</td>\n",
              "      <td>29/09/2022</td>\n",
              "      <td>18/09/1993</td>\n",
              "      <td>10/10/2022</td>\n",
              "      <td>21.161.901.000.135</td>\n",
              "    </tr>\n",
              "    <tr>\n",
              "      <th>257397</th>\n",
              "      <td>Escada Permanente Cujos Degraus Permitem Apoi</td>\n",
              "      <td>2022/10</td>\n",
              "      <td>232130-Prof. Física no Ensino Médio</td>\n",
              "      <td>S82   Frat da Perna Incl Tornozelo</td>\n",
              "      <td>8520</td>\n",
              "      <td>Ensino Medio</td>\n",
              "      <td>Autoridade Pública</td>\n",
              "      <td>Auxílio Doenca por Acidente do Trabalho</td>\n",
              "      <td>Empregado</td>\n",
              "      <td>Não</td>\n",
              "      <td>410690-Curitiba</td>\n",
              "      <td>Fratura</td>\n",
              "      <td>Internet</td>\n",
              "      <td>Perna (Do Tornozelo, Exclusive, ao Joelho, Ex</td>\n",
              "      <td>Feminino</td>\n",
              "      <td>Típico</td>\n",
              "      <td>Roraima</td>\n",
              "      <td>Paraná</td>\n",
              "      <td>2022/10</td>\n",
              "      <td>2022/11</td>\n",
              "      <td>06/10/2022</td>\n",
              "      <td>24/11/1986</td>\n",
              "      <td>07/10/2022</td>\n",
              "      <td>76.416.965.000.121</td>\n",
              "    </tr>\n",
              "    <tr>\n",
              "      <th>257398</th>\n",
              "      <td>Andaime, Plataforma - Edificio ou Estrutura</td>\n",
              "      <td>2022/09</td>\n",
              "      <td>517330-Vigilante</td>\n",
              "      <td>S82.7 Frat Mult da Perna</td>\n",
              "      <td>8112</td>\n",
              "      <td>Condominios Prediais</td>\n",
              "      <td>Segurado/Dependente</td>\n",
              "      <td>Auxílio Doenca por Acidente do Trabalho</td>\n",
              "      <td>Empregado</td>\n",
              "      <td>Não</td>\n",
              "      <td>420460-Criciúma</td>\n",
              "      <td>Fratura</td>\n",
              "      <td>Internet</td>\n",
              "      <td>Membros Inferiores, Partes Multiplas (Qualque</td>\n",
              "      <td>Masculino</td>\n",
              "      <td>Típico</td>\n",
              "      <td>{ñ class}</td>\n",
              "      <td>Santa Catarina</td>\n",
              "      <td>2022/09</td>\n",
              "      <td>2022/10</td>\n",
              "      <td>20/09/2022</td>\n",
              "      <td>02/03/1986</td>\n",
              "      <td>10/10/2022</td>\n",
              "      <td>32.994.401.000.109</td>\n",
              "    </tr>\n",
              "    <tr>\n",
              "      <th>257399</th>\n",
              "      <td>Martelo, Malho, Marreta- Ferramenta Manual Se</td>\n",
              "      <td>2022/10</td>\n",
              "      <td>724315-Soldador</td>\n",
              "      <td>S62.6 Frat de Outr Dedos</td>\n",
              "      <td>7112</td>\n",
              "      <td>Servicos de Engenharia</td>\n",
              "      <td>Empregador</td>\n",
              "      <td>Auxílio Doenca por Acidente do Trabalho</td>\n",
              "      <td>Empregado</td>\n",
              "      <td>Não</td>\n",
              "      <td>411000-Iguaraçu</td>\n",
              "      <td>Fratura</td>\n",
              "      <td>Internet</td>\n",
              "      <td>Dedo</td>\n",
              "      <td>Masculino</td>\n",
              "      <td>Típico</td>\n",
              "      <td>Roraima</td>\n",
              "      <td>Paraná</td>\n",
              "      <td>2022/10</td>\n",
              "      <td>2022/10</td>\n",
              "      <td>05/10/2022</td>\n",
              "      <td>08/04/1984</td>\n",
              "      <td>06/10/2022</td>\n",
              "      <td>34.197.591.000.150</td>\n",
              "    </tr>\n",
              "    <tr>\n",
              "      <th>257400</th>\n",
              "      <td>Impacto de Pes. Contra Objeto Parado</td>\n",
              "      <td>2022/10</td>\n",
              "      <td>721215-Oper. Máquinas-Ferramenta Convencionai</td>\n",
              "      <td>S62.3 Frat de Outr Ossos do Metacarpo</td>\n",
              "      <td>2815</td>\n",
              "      <td>Fabricacao de Equipamentos de Transmissao par</td>\n",
              "      <td>Segurado/Dependente</td>\n",
              "      <td>Auxílio Doenca por Acidente do Trabalho</td>\n",
              "      <td>Empregado</td>\n",
              "      <td>Não</td>\n",
              "      <td>353130-Monte Alto</td>\n",
              "      <td>Fratura</td>\n",
              "      <td>Internet</td>\n",
              "      <td>Dedo</td>\n",
              "      <td>Masculino</td>\n",
              "      <td>Típico</td>\n",
              "      <td>Maranhão</td>\n",
              "      <td>São Paulo</td>\n",
              "      <td>2022/10</td>\n",
              "      <td>2022/10</td>\n",
              "      <td>03/10/2022</td>\n",
              "      <td>15/07/1993</td>\n",
              "      <td>18/10/2022</td>\n",
              "      <td>54.614.813.000.109</td>\n",
              "    </tr>\n",
              "  </tbody>\n",
              "</table>\n",
              "<p>257401 rows × 24 columns</p>\n",
              "</div>\n",
              "      <button class=\"colab-df-convert\" onclick=\"convertToInteractive('df-27b81fd9-f5da-4030-a78d-b820848db161')\"\n",
              "              title=\"Convert this dataframe to an interactive table.\"\n",
              "              style=\"display:none;\">\n",
              "        \n",
              "  <svg xmlns=\"http://www.w3.org/2000/svg\" height=\"24px\"viewBox=\"0 0 24 24\"\n",
              "       width=\"24px\">\n",
              "    <path d=\"M0 0h24v24H0V0z\" fill=\"none\"/>\n",
              "    <path d=\"M18.56 5.44l.94 2.06.94-2.06 2.06-.94-2.06-.94-.94-2.06-.94 2.06-2.06.94zm-11 1L8.5 8.5l.94-2.06 2.06-.94-2.06-.94L8.5 2.5l-.94 2.06-2.06.94zm10 10l.94 2.06.94-2.06 2.06-.94-2.06-.94-.94-2.06-.94 2.06-2.06.94z\"/><path d=\"M17.41 7.96l-1.37-1.37c-.4-.4-.92-.59-1.43-.59-.52 0-1.04.2-1.43.59L10.3 9.45l-7.72 7.72c-.78.78-.78 2.05 0 2.83L4 21.41c.39.39.9.59 1.41.59.51 0 1.02-.2 1.41-.59l7.78-7.78 2.81-2.81c.8-.78.8-2.07 0-2.86zM5.41 20L4 18.59l7.72-7.72 1.47 1.35L5.41 20z\"/>\n",
              "  </svg>\n",
              "      </button>\n",
              "      \n",
              "  <style>\n",
              "    .colab-df-container {\n",
              "      display:flex;\n",
              "      flex-wrap:wrap;\n",
              "      gap: 12px;\n",
              "    }\n",
              "\n",
              "    .colab-df-convert {\n",
              "      background-color: #E8F0FE;\n",
              "      border: none;\n",
              "      border-radius: 50%;\n",
              "      cursor: pointer;\n",
              "      display: none;\n",
              "      fill: #1967D2;\n",
              "      height: 32px;\n",
              "      padding: 0 0 0 0;\n",
              "      width: 32px;\n",
              "    }\n",
              "\n",
              "    .colab-df-convert:hover {\n",
              "      background-color: #E2EBFA;\n",
              "      box-shadow: 0px 1px 2px rgba(60, 64, 67, 0.3), 0px 1px 3px 1px rgba(60, 64, 67, 0.15);\n",
              "      fill: #174EA6;\n",
              "    }\n",
              "\n",
              "    [theme=dark] .colab-df-convert {\n",
              "      background-color: #3B4455;\n",
              "      fill: #D2E3FC;\n",
              "    }\n",
              "\n",
              "    [theme=dark] .colab-df-convert:hover {\n",
              "      background-color: #434B5C;\n",
              "      box-shadow: 0px 1px 3px 1px rgba(0, 0, 0, 0.15);\n",
              "      filter: drop-shadow(0px 1px 2px rgba(0, 0, 0, 0.3));\n",
              "      fill: #FFFFFF;\n",
              "    }\n",
              "  </style>\n",
              "\n",
              "      <script>\n",
              "        const buttonEl =\n",
              "          document.querySelector('#df-27b81fd9-f5da-4030-a78d-b820848db161 button.colab-df-convert');\n",
              "        buttonEl.style.display =\n",
              "          google.colab.kernel.accessAllowed ? 'block' : 'none';\n",
              "\n",
              "        async function convertToInteractive(key) {\n",
              "          const element = document.querySelector('#df-27b81fd9-f5da-4030-a78d-b820848db161');\n",
              "          const dataTable =\n",
              "            await google.colab.kernel.invokeFunction('convertToInteractive',\n",
              "                                                     [key], {});\n",
              "          if (!dataTable) return;\n",
              "\n",
              "          const docLinkHtml = 'Like what you see? Visit the ' +\n",
              "            '<a target=\"_blank\" href=https://colab.research.google.com/notebooks/data_table.ipynb>data table notebook</a>'\n",
              "            + ' to learn more about interactive tables.';\n",
              "          element.innerHTML = '';\n",
              "          dataTable['output_type'] = 'display_data';\n",
              "          await google.colab.output.renderOutput(dataTable, element);\n",
              "          const docLink = document.createElement('div');\n",
              "          docLink.innerHTML = docLinkHtml;\n",
              "          element.appendChild(docLink);\n",
              "        }\n",
              "      </script>\n",
              "    </div>\n",
              "  </div>\n",
              "  "
            ]
          },
          "metadata": {},
          "execution_count": 24
        }
      ]
    },
    {
      "cell_type": "markdown",
      "source": [
        "## Tratamento inicial dos dados com pandas"
      ],
      "metadata": {
        "id": "vSdYtzSZEWIB"
      }
    },
    {
      "cell_type": "markdown",
      "source": [
        "visualizando o DataFrame é possível identificar algumas inconsistências e entradas que não passam a informação de forma clara como \"ñ class\" e o \"{ñ class}\" (certamente proveniente do DF do qual não removemos as chaves)\n",
        "\n",
        "Além disso, é possível identificar datas que não fazem sentido, como na coluna data de despache do benefício \"0000/00\""
      ],
      "metadata": {
        "id": "00vPu84yV2C8"
      }
    },
    {
      "cell_type": "code",
      "source": [
        "# Para manter o DataFrame sem valores nulos podemos substituir as colunas que não são claras ou\n",
        "# apresentam inconsistências por \"não consta\"\n",
        "df_final.replace(['{ñ class}', 'ñ class'],'não consta',regex=True,inplace=True)"
      ],
      "metadata": {
        "id": "XQOy7x6XW6yV"
      },
      "execution_count": null,
      "outputs": []
    },
    {
      "cell_type": "code",
      "source": [
        "df_final"
      ],
      "metadata": {
        "colab": {
          "base_uri": "https://localhost:8080/",
          "height": 1000
        },
        "id": "WND1iUybZIkK",
        "outputId": "b26ad0e3-8f32-40db-e0a2-5e0550cff62e"
      },
      "execution_count": null,
      "outputs": [
        {
          "output_type": "execute_result",
          "data": {
            "text/plain": [
              "                            Agente  Causador  Acidente Data Acidente  \\\n",
              "0       não consta                                           2022/01   \n",
              "1        Motocicleta, Motoneta                               2022/02   \n",
              "2        Motocicleta, Motoneta                               2022/02   \n",
              "3        Aprision. Em, Sobre ou Entre Dois ou Mai            2022/02   \n",
              "4        Impacto de Pes. Contra Objeto em Movimento          2022/01   \n",
              "...                                                ...           ...   \n",
              "257396   Piso de Edificio - Superficie Utilizada Para        2022/09   \n",
              "257397   Escada Permanente Cujos Degraus Permitem Apoi       2022/10   \n",
              "257398   Andaime, Plataforma - Edificio ou Estrutura         2022/09   \n",
              "257399   Martelo, Malho, Marreta- Ferramenta Manual Se       2022/10   \n",
              "257400   Impacto de Pes. Contra Objeto Parado                2022/10   \n",
              "\n",
              "                                                   CBO  \\\n",
              "0        515105-Agente Comunitário de Saúde              \n",
              "1        519110-Motociclista no Transporte de Document   \n",
              "2        519110-Motociclista no Transporte de Document   \n",
              "3        514205-Coletor Lixo                             \n",
              "4       não consta                                       \n",
              "...                                                ...   \n",
              "257396  não consta                                       \n",
              "257397   232130-Prof. Física no Ensino Médio             \n",
              "257398   517330-Vigilante                                \n",
              "257399   724315-Soldador                                 \n",
              "257400   721215-Oper. Máquinas-Ferramenta Convencionai   \n",
              "\n",
              "                                               CID-10  CNAE2.0 Empregador  \\\n",
              "0       B34.2 Infecc p/Coronavirus Ne                                8630   \n",
              "1       S52.5 Frat da Extremidade Distal do Radio                    4930   \n",
              "2       S52.5 Frat da Extremidade Distal do Radio                    4930   \n",
              "3       S60.0 Contusao de Dedos s/Lesao da Unha                      3811   \n",
              "4       S90.0 Contusao do Tornozelo                                  4639   \n",
              "...                                               ...                 ...   \n",
              "257396  S62   Frat ao Nivel do Punho e da Mao                        2330   \n",
              "257397  S82   Frat da Perna Incl Tornozelo                           8520   \n",
              "257398  S82.7 Frat Mult da Perna                                     8112   \n",
              "257399  S62.6 Frat de Outr Dedos                                     7112   \n",
              "257400  S62.3 Frat de Outr Ossos do Metacarpo                        2815   \n",
              "\n",
              "                                 CNAE2.0 Empregador.1          Emitente CAT  \\\n",
              "0       Atividades de Atencao Ambulatorial Executadas   Empregador            \n",
              "1       Transporte Rodoviario de Carga                  Segurado/Dependente   \n",
              "2       Transporte Rodoviario de Carga                  Segurado/Dependente   \n",
              "3       Coleta de Residuos Nao-Perigosos                Empregador            \n",
              "4       Comercio Atacadista de Produtos Alimenticios    Empregador            \n",
              "...                                               ...                   ...   \n",
              "257396  Fabricacao de Artefatos de Concreto, Cimento,  não consta             \n",
              "257397  Ensino Medio                                    Autoridade Pública    \n",
              "257398  Condominios Prediais                            Segurado/Dependente   \n",
              "257399  Servicos de Engenharia                          Empregador            \n",
              "257400  Fabricacao de Equipamentos de Transmissao par   Segurado/Dependente   \n",
              "\n",
              "                                 Espécie do benefício  \\\n",
              "0       Pa                                              \n",
              "1       Pa                                              \n",
              "2       Pa                                              \n",
              "3       Pa                                              \n",
              "4       Pa                                              \n",
              "...                                               ...   \n",
              "257396  Auxílio Doenca por Acidente do Trabalho         \n",
              "257397  Auxílio Doenca por Acidente do Trabalho         \n",
              "257398  Auxílio Doenca por Acidente do Trabalho         \n",
              "257399  Auxílio Doenca por Acidente do Trabalho         \n",
              "257400  Auxílio Doenca por Acidente do Trabalho         \n",
              "\n",
              "                                    Filiação Segurado Indica Óbito Acidente  \\\n",
              "0       Empregado                                                       Não   \n",
              "1       Empregado                                                       Não   \n",
              "2       Empregado                                                       Não   \n",
              "3       Empregado                                                       Não   \n",
              "4       Empregado                                                       Não   \n",
              "...                                               ...                   ...   \n",
              "257396  Empregado                                                       Não   \n",
              "257397  Empregado                                                       Não   \n",
              "257398  Empregado                                                       Não   \n",
              "257399  Empregado                                                       Não   \n",
              "257400  Empregado                                                       Não   \n",
              "\n",
              "                                       Munic Empr  \\\n",
              "0       354780-Santo André-Sp                       \n",
              "1       355030-São Paulo                            \n",
              "2       355030-São Paulo                            \n",
              "3       520110-Anápolis                             \n",
              "4       330100-Campos dos Goytacazes                \n",
              "...                                           ...   \n",
              "257396  410960-Guaratuba                            \n",
              "257397  410690-Curitiba                             \n",
              "257398  420460-Criciúma                             \n",
              "257399  411000-Iguaraçu                             \n",
              "257400  353130-Monte Alto                           \n",
              "\n",
              "                                    Natureza da Lesão  \\\n",
              "0       Doenca Contagiosa ou Infecciosa (Tuberculos     \n",
              "1       Fratura                                         \n",
              "2       Fratura                                         \n",
              "3       Luxacao                                         \n",
              "4       Luxacao                                         \n",
              "...                                               ...   \n",
              "257396  Lesao Imediata                                  \n",
              "257397  Fratura                                         \n",
              "257398  Fratura                                         \n",
              "257399  Fratura                                         \n",
              "257400  Fratura                                         \n",
              "\n",
              "       Origem de Cadastramento CAT  \\\n",
              "0                         Internet   \n",
              "1                         Internet   \n",
              "2                         Internet   \n",
              "3                         Internet   \n",
              "4                         Internet   \n",
              "...                            ...   \n",
              "257396                    Internet   \n",
              "257397                    Internet   \n",
              "257398                    Internet   \n",
              "257399                    Internet   \n",
              "257400                    Internet   \n",
              "\n",
              "                                 Parte Corpo Atingida           Sexo  \\\n",
              "0       Aparelho Respiratorio                          Feminino        \n",
              "1        Braco (Entre O Punho a O Ombro                Masculino       \n",
              "2        Braco (Entre O Punho a O Ombro                Masculino       \n",
              "3       Punho                                          Masculino       \n",
              "4        Perna (Entre O Tornozelo e a Pelvis           Masculino       \n",
              "...                                               ...            ...   \n",
              "257396  Mao (Exceto Punho ou Dedos)                    Masculino       \n",
              "257397  Perna (Do Tornozelo, Exclusive, ao Joelho, Ex  Feminino        \n",
              "257398  Membros Inferiores, Partes Multiplas (Qualque  Masculino       \n",
              "257399  Dedo                                           Masculino       \n",
              "257400  Dedo                                           Masculino       \n",
              "\n",
              "       Tipo do Acidente UF  Munic.  Acidente UF Munic. Empregador  \\\n",
              "0              Doença       Maranhão          São Paulo             \n",
              "1              Trajeto      Maranhão          São Paulo             \n",
              "2              Trajeto      Maranhão          São Paulo             \n",
              "3              Típico      não consta         Goiás                 \n",
              "4              Típico       Maranhão          São Paulo             \n",
              "...                 ...                  ...                  ...   \n",
              "257396         Típico       Roraima           Paraná                \n",
              "257397         Típico       Roraima           Paraná                \n",
              "257398         Típico      não consta         Santa Catarina        \n",
              "257399         Típico       Roraima           Paraná                \n",
              "257400         Típico       Maranhão          São Paulo             \n",
              "\n",
              "       Data Acidente.1 Data Despacho Benefício Data Acidente.2  \\\n",
              "0              2022/01                 0000/00      20/01/2022   \n",
              "1              2022/02                 0000/00      25/02/2022   \n",
              "2              2022/02                 0000/00      25/02/2022   \n",
              "3              2022/02                 0000/00      24/02/2022   \n",
              "4              2022/01                 0000/00      28/01/2022   \n",
              "...                ...                     ...             ...   \n",
              "257396         2022/09                 2022/10      29/09/2022   \n",
              "257397         2022/10                 2022/11      06/10/2022   \n",
              "257398         2022/09                 2022/10      20/09/2022   \n",
              "257399         2022/10                 2022/10      05/10/2022   \n",
              "257400         2022/10                 2022/10      03/10/2022   \n",
              "\n",
              "       Data Nascimento Data Emissão CAT CNPJ/CEI Empregador  \n",
              "0           02/08/1970       01/03/2022  57.571.275.002.570  \n",
              "1           16/12/1990       01/03/2022  19.578.086.000.162  \n",
              "2           16/12/1990       01/03/2022  19.578.086.000.162  \n",
              "3           19/09/1986       01/03/2022  00.000.000.000.000  \n",
              "4           25/07/1995       01/03/2022  00.000.000.000.000  \n",
              "...                ...              ...                 ...  \n",
              "257396      18/09/1993       10/10/2022  21.161.901.000.135  \n",
              "257397      24/11/1986       07/10/2022  76.416.965.000.121  \n",
              "257398      02/03/1986       10/10/2022  32.994.401.000.109  \n",
              "257399      08/04/1984       06/10/2022  34.197.591.000.150  \n",
              "257400      15/07/1993       18/10/2022  54.614.813.000.109  \n",
              "\n",
              "[257401 rows x 24 columns]"
            ],
            "text/html": [
              "\n",
              "  <div id=\"df-1173d2c6-c18d-4555-a43e-df9421d50528\">\n",
              "    <div class=\"colab-df-container\">\n",
              "      <div>\n",
              "<style scoped>\n",
              "    .dataframe tbody tr th:only-of-type {\n",
              "        vertical-align: middle;\n",
              "    }\n",
              "\n",
              "    .dataframe tbody tr th {\n",
              "        vertical-align: top;\n",
              "    }\n",
              "\n",
              "    .dataframe thead th {\n",
              "        text-align: right;\n",
              "    }\n",
              "</style>\n",
              "<table border=\"1\" class=\"dataframe\">\n",
              "  <thead>\n",
              "    <tr style=\"text-align: right;\">\n",
              "      <th></th>\n",
              "      <th>Agente  Causador  Acidente</th>\n",
              "      <th>Data Acidente</th>\n",
              "      <th>CBO</th>\n",
              "      <th>CID-10</th>\n",
              "      <th>CNAE2.0 Empregador</th>\n",
              "      <th>CNAE2.0 Empregador.1</th>\n",
              "      <th>Emitente CAT</th>\n",
              "      <th>Espécie do benefício</th>\n",
              "      <th>Filiação Segurado</th>\n",
              "      <th>Indica Óbito Acidente</th>\n",
              "      <th>Munic Empr</th>\n",
              "      <th>Natureza da Lesão</th>\n",
              "      <th>Origem de Cadastramento CAT</th>\n",
              "      <th>Parte Corpo Atingida</th>\n",
              "      <th>Sexo</th>\n",
              "      <th>Tipo do Acidente</th>\n",
              "      <th>UF  Munic.  Acidente</th>\n",
              "      <th>UF Munic. Empregador</th>\n",
              "      <th>Data Acidente.1</th>\n",
              "      <th>Data Despacho Benefício</th>\n",
              "      <th>Data Acidente.2</th>\n",
              "      <th>Data Nascimento</th>\n",
              "      <th>Data Emissão CAT</th>\n",
              "      <th>CNPJ/CEI Empregador</th>\n",
              "    </tr>\n",
              "  </thead>\n",
              "  <tbody>\n",
              "    <tr>\n",
              "      <th>0</th>\n",
              "      <td>não consta</td>\n",
              "      <td>2022/01</td>\n",
              "      <td>515105-Agente Comunitário de Saúde</td>\n",
              "      <td>B34.2 Infecc p/Coronavirus Ne</td>\n",
              "      <td>8630</td>\n",
              "      <td>Atividades de Atencao Ambulatorial Executadas</td>\n",
              "      <td>Empregador</td>\n",
              "      <td>Pa</td>\n",
              "      <td>Empregado</td>\n",
              "      <td>Não</td>\n",
              "      <td>354780-Santo André-Sp</td>\n",
              "      <td>Doenca Contagiosa ou Infecciosa (Tuberculos</td>\n",
              "      <td>Internet</td>\n",
              "      <td>Aparelho Respiratorio</td>\n",
              "      <td>Feminino</td>\n",
              "      <td>Doença</td>\n",
              "      <td>Maranhão</td>\n",
              "      <td>São Paulo</td>\n",
              "      <td>2022/01</td>\n",
              "      <td>0000/00</td>\n",
              "      <td>20/01/2022</td>\n",
              "      <td>02/08/1970</td>\n",
              "      <td>01/03/2022</td>\n",
              "      <td>57.571.275.002.570</td>\n",
              "    </tr>\n",
              "    <tr>\n",
              "      <th>1</th>\n",
              "      <td>Motocicleta, Motoneta</td>\n",
              "      <td>2022/02</td>\n",
              "      <td>519110-Motociclista no Transporte de Document</td>\n",
              "      <td>S52.5 Frat da Extremidade Distal do Radio</td>\n",
              "      <td>4930</td>\n",
              "      <td>Transporte Rodoviario de Carga</td>\n",
              "      <td>Segurado/Dependente</td>\n",
              "      <td>Pa</td>\n",
              "      <td>Empregado</td>\n",
              "      <td>Não</td>\n",
              "      <td>355030-São Paulo</td>\n",
              "      <td>Fratura</td>\n",
              "      <td>Internet</td>\n",
              "      <td>Braco (Entre O Punho a O Ombro</td>\n",
              "      <td>Masculino</td>\n",
              "      <td>Trajeto</td>\n",
              "      <td>Maranhão</td>\n",
              "      <td>São Paulo</td>\n",
              "      <td>2022/02</td>\n",
              "      <td>0000/00</td>\n",
              "      <td>25/02/2022</td>\n",
              "      <td>16/12/1990</td>\n",
              "      <td>01/03/2022</td>\n",
              "      <td>19.578.086.000.162</td>\n",
              "    </tr>\n",
              "    <tr>\n",
              "      <th>2</th>\n",
              "      <td>Motocicleta, Motoneta</td>\n",
              "      <td>2022/02</td>\n",
              "      <td>519110-Motociclista no Transporte de Document</td>\n",
              "      <td>S52.5 Frat da Extremidade Distal do Radio</td>\n",
              "      <td>4930</td>\n",
              "      <td>Transporte Rodoviario de Carga</td>\n",
              "      <td>Segurado/Dependente</td>\n",
              "      <td>Pa</td>\n",
              "      <td>Empregado</td>\n",
              "      <td>Não</td>\n",
              "      <td>355030-São Paulo</td>\n",
              "      <td>Fratura</td>\n",
              "      <td>Internet</td>\n",
              "      <td>Braco (Entre O Punho a O Ombro</td>\n",
              "      <td>Masculino</td>\n",
              "      <td>Trajeto</td>\n",
              "      <td>Maranhão</td>\n",
              "      <td>São Paulo</td>\n",
              "      <td>2022/02</td>\n",
              "      <td>0000/00</td>\n",
              "      <td>25/02/2022</td>\n",
              "      <td>16/12/1990</td>\n",
              "      <td>01/03/2022</td>\n",
              "      <td>19.578.086.000.162</td>\n",
              "    </tr>\n",
              "    <tr>\n",
              "      <th>3</th>\n",
              "      <td>Aprision. Em, Sobre ou Entre Dois ou Mai</td>\n",
              "      <td>2022/02</td>\n",
              "      <td>514205-Coletor Lixo</td>\n",
              "      <td>S60.0 Contusao de Dedos s/Lesao da Unha</td>\n",
              "      <td>3811</td>\n",
              "      <td>Coleta de Residuos Nao-Perigosos</td>\n",
              "      <td>Empregador</td>\n",
              "      <td>Pa</td>\n",
              "      <td>Empregado</td>\n",
              "      <td>Não</td>\n",
              "      <td>520110-Anápolis</td>\n",
              "      <td>Luxacao</td>\n",
              "      <td>Internet</td>\n",
              "      <td>Punho</td>\n",
              "      <td>Masculino</td>\n",
              "      <td>Típico</td>\n",
              "      <td>não consta</td>\n",
              "      <td>Goiás</td>\n",
              "      <td>2022/02</td>\n",
              "      <td>0000/00</td>\n",
              "      <td>24/02/2022</td>\n",
              "      <td>19/09/1986</td>\n",
              "      <td>01/03/2022</td>\n",
              "      <td>00.000.000.000.000</td>\n",
              "    </tr>\n",
              "    <tr>\n",
              "      <th>4</th>\n",
              "      <td>Impacto de Pes. Contra Objeto em Movimento</td>\n",
              "      <td>2022/01</td>\n",
              "      <td>não consta</td>\n",
              "      <td>S90.0 Contusao do Tornozelo</td>\n",
              "      <td>4639</td>\n",
              "      <td>Comercio Atacadista de Produtos Alimenticios</td>\n",
              "      <td>Empregador</td>\n",
              "      <td>Pa</td>\n",
              "      <td>Empregado</td>\n",
              "      <td>Não</td>\n",
              "      <td>330100-Campos dos Goytacazes</td>\n",
              "      <td>Luxacao</td>\n",
              "      <td>Internet</td>\n",
              "      <td>Perna (Entre O Tornozelo e a Pelvis</td>\n",
              "      <td>Masculino</td>\n",
              "      <td>Típico</td>\n",
              "      <td>Maranhão</td>\n",
              "      <td>São Paulo</td>\n",
              "      <td>2022/01</td>\n",
              "      <td>0000/00</td>\n",
              "      <td>28/01/2022</td>\n",
              "      <td>25/07/1995</td>\n",
              "      <td>01/03/2022</td>\n",
              "      <td>00.000.000.000.000</td>\n",
              "    </tr>\n",
              "    <tr>\n",
              "      <th>...</th>\n",
              "      <td>...</td>\n",
              "      <td>...</td>\n",
              "      <td>...</td>\n",
              "      <td>...</td>\n",
              "      <td>...</td>\n",
              "      <td>...</td>\n",
              "      <td>...</td>\n",
              "      <td>...</td>\n",
              "      <td>...</td>\n",
              "      <td>...</td>\n",
              "      <td>...</td>\n",
              "      <td>...</td>\n",
              "      <td>...</td>\n",
              "      <td>...</td>\n",
              "      <td>...</td>\n",
              "      <td>...</td>\n",
              "      <td>...</td>\n",
              "      <td>...</td>\n",
              "      <td>...</td>\n",
              "      <td>...</td>\n",
              "      <td>...</td>\n",
              "      <td>...</td>\n",
              "      <td>...</td>\n",
              "      <td>...</td>\n",
              "    </tr>\n",
              "    <tr>\n",
              "      <th>257396</th>\n",
              "      <td>Piso de Edificio - Superficie Utilizada Para</td>\n",
              "      <td>2022/09</td>\n",
              "      <td>não consta</td>\n",
              "      <td>S62   Frat ao Nivel do Punho e da Mao</td>\n",
              "      <td>2330</td>\n",
              "      <td>Fabricacao de Artefatos de Concreto, Cimento,</td>\n",
              "      <td>não consta</td>\n",
              "      <td>Auxílio Doenca por Acidente do Trabalho</td>\n",
              "      <td>Empregado</td>\n",
              "      <td>Não</td>\n",
              "      <td>410960-Guaratuba</td>\n",
              "      <td>Lesao Imediata</td>\n",
              "      <td>Internet</td>\n",
              "      <td>Mao (Exceto Punho ou Dedos)</td>\n",
              "      <td>Masculino</td>\n",
              "      <td>Típico</td>\n",
              "      <td>Roraima</td>\n",
              "      <td>Paraná</td>\n",
              "      <td>2022/09</td>\n",
              "      <td>2022/10</td>\n",
              "      <td>29/09/2022</td>\n",
              "      <td>18/09/1993</td>\n",
              "      <td>10/10/2022</td>\n",
              "      <td>21.161.901.000.135</td>\n",
              "    </tr>\n",
              "    <tr>\n",
              "      <th>257397</th>\n",
              "      <td>Escada Permanente Cujos Degraus Permitem Apoi</td>\n",
              "      <td>2022/10</td>\n",
              "      <td>232130-Prof. Física no Ensino Médio</td>\n",
              "      <td>S82   Frat da Perna Incl Tornozelo</td>\n",
              "      <td>8520</td>\n",
              "      <td>Ensino Medio</td>\n",
              "      <td>Autoridade Pública</td>\n",
              "      <td>Auxílio Doenca por Acidente do Trabalho</td>\n",
              "      <td>Empregado</td>\n",
              "      <td>Não</td>\n",
              "      <td>410690-Curitiba</td>\n",
              "      <td>Fratura</td>\n",
              "      <td>Internet</td>\n",
              "      <td>Perna (Do Tornozelo, Exclusive, ao Joelho, Ex</td>\n",
              "      <td>Feminino</td>\n",
              "      <td>Típico</td>\n",
              "      <td>Roraima</td>\n",
              "      <td>Paraná</td>\n",
              "      <td>2022/10</td>\n",
              "      <td>2022/11</td>\n",
              "      <td>06/10/2022</td>\n",
              "      <td>24/11/1986</td>\n",
              "      <td>07/10/2022</td>\n",
              "      <td>76.416.965.000.121</td>\n",
              "    </tr>\n",
              "    <tr>\n",
              "      <th>257398</th>\n",
              "      <td>Andaime, Plataforma - Edificio ou Estrutura</td>\n",
              "      <td>2022/09</td>\n",
              "      <td>517330-Vigilante</td>\n",
              "      <td>S82.7 Frat Mult da Perna</td>\n",
              "      <td>8112</td>\n",
              "      <td>Condominios Prediais</td>\n",
              "      <td>Segurado/Dependente</td>\n",
              "      <td>Auxílio Doenca por Acidente do Trabalho</td>\n",
              "      <td>Empregado</td>\n",
              "      <td>Não</td>\n",
              "      <td>420460-Criciúma</td>\n",
              "      <td>Fratura</td>\n",
              "      <td>Internet</td>\n",
              "      <td>Membros Inferiores, Partes Multiplas (Qualque</td>\n",
              "      <td>Masculino</td>\n",
              "      <td>Típico</td>\n",
              "      <td>não consta</td>\n",
              "      <td>Santa Catarina</td>\n",
              "      <td>2022/09</td>\n",
              "      <td>2022/10</td>\n",
              "      <td>20/09/2022</td>\n",
              "      <td>02/03/1986</td>\n",
              "      <td>10/10/2022</td>\n",
              "      <td>32.994.401.000.109</td>\n",
              "    </tr>\n",
              "    <tr>\n",
              "      <th>257399</th>\n",
              "      <td>Martelo, Malho, Marreta- Ferramenta Manual Se</td>\n",
              "      <td>2022/10</td>\n",
              "      <td>724315-Soldador</td>\n",
              "      <td>S62.6 Frat de Outr Dedos</td>\n",
              "      <td>7112</td>\n",
              "      <td>Servicos de Engenharia</td>\n",
              "      <td>Empregador</td>\n",
              "      <td>Auxílio Doenca por Acidente do Trabalho</td>\n",
              "      <td>Empregado</td>\n",
              "      <td>Não</td>\n",
              "      <td>411000-Iguaraçu</td>\n",
              "      <td>Fratura</td>\n",
              "      <td>Internet</td>\n",
              "      <td>Dedo</td>\n",
              "      <td>Masculino</td>\n",
              "      <td>Típico</td>\n",
              "      <td>Roraima</td>\n",
              "      <td>Paraná</td>\n",
              "      <td>2022/10</td>\n",
              "      <td>2022/10</td>\n",
              "      <td>05/10/2022</td>\n",
              "      <td>08/04/1984</td>\n",
              "      <td>06/10/2022</td>\n",
              "      <td>34.197.591.000.150</td>\n",
              "    </tr>\n",
              "    <tr>\n",
              "      <th>257400</th>\n",
              "      <td>Impacto de Pes. Contra Objeto Parado</td>\n",
              "      <td>2022/10</td>\n",
              "      <td>721215-Oper. Máquinas-Ferramenta Convencionai</td>\n",
              "      <td>S62.3 Frat de Outr Ossos do Metacarpo</td>\n",
              "      <td>2815</td>\n",
              "      <td>Fabricacao de Equipamentos de Transmissao par</td>\n",
              "      <td>Segurado/Dependente</td>\n",
              "      <td>Auxílio Doenca por Acidente do Trabalho</td>\n",
              "      <td>Empregado</td>\n",
              "      <td>Não</td>\n",
              "      <td>353130-Monte Alto</td>\n",
              "      <td>Fratura</td>\n",
              "      <td>Internet</td>\n",
              "      <td>Dedo</td>\n",
              "      <td>Masculino</td>\n",
              "      <td>Típico</td>\n",
              "      <td>Maranhão</td>\n",
              "      <td>São Paulo</td>\n",
              "      <td>2022/10</td>\n",
              "      <td>2022/10</td>\n",
              "      <td>03/10/2022</td>\n",
              "      <td>15/07/1993</td>\n",
              "      <td>18/10/2022</td>\n",
              "      <td>54.614.813.000.109</td>\n",
              "    </tr>\n",
              "  </tbody>\n",
              "</table>\n",
              "<p>257401 rows × 24 columns</p>\n",
              "</div>\n",
              "      <button class=\"colab-df-convert\" onclick=\"convertToInteractive('df-1173d2c6-c18d-4555-a43e-df9421d50528')\"\n",
              "              title=\"Convert this dataframe to an interactive table.\"\n",
              "              style=\"display:none;\">\n",
              "        \n",
              "  <svg xmlns=\"http://www.w3.org/2000/svg\" height=\"24px\"viewBox=\"0 0 24 24\"\n",
              "       width=\"24px\">\n",
              "    <path d=\"M0 0h24v24H0V0z\" fill=\"none\"/>\n",
              "    <path d=\"M18.56 5.44l.94 2.06.94-2.06 2.06-.94-2.06-.94-.94-2.06-.94 2.06-2.06.94zm-11 1L8.5 8.5l.94-2.06 2.06-.94-2.06-.94L8.5 2.5l-.94 2.06-2.06.94zm10 10l.94 2.06.94-2.06 2.06-.94-2.06-.94-.94-2.06-.94 2.06-2.06.94z\"/><path d=\"M17.41 7.96l-1.37-1.37c-.4-.4-.92-.59-1.43-.59-.52 0-1.04.2-1.43.59L10.3 9.45l-7.72 7.72c-.78.78-.78 2.05 0 2.83L4 21.41c.39.39.9.59 1.41.59.51 0 1.02-.2 1.41-.59l7.78-7.78 2.81-2.81c.8-.78.8-2.07 0-2.86zM5.41 20L4 18.59l7.72-7.72 1.47 1.35L5.41 20z\"/>\n",
              "  </svg>\n",
              "      </button>\n",
              "      \n",
              "  <style>\n",
              "    .colab-df-container {\n",
              "      display:flex;\n",
              "      flex-wrap:wrap;\n",
              "      gap: 12px;\n",
              "    }\n",
              "\n",
              "    .colab-df-convert {\n",
              "      background-color: #E8F0FE;\n",
              "      border: none;\n",
              "      border-radius: 50%;\n",
              "      cursor: pointer;\n",
              "      display: none;\n",
              "      fill: #1967D2;\n",
              "      height: 32px;\n",
              "      padding: 0 0 0 0;\n",
              "      width: 32px;\n",
              "    }\n",
              "\n",
              "    .colab-df-convert:hover {\n",
              "      background-color: #E2EBFA;\n",
              "      box-shadow: 0px 1px 2px rgba(60, 64, 67, 0.3), 0px 1px 3px 1px rgba(60, 64, 67, 0.15);\n",
              "      fill: #174EA6;\n",
              "    }\n",
              "\n",
              "    [theme=dark] .colab-df-convert {\n",
              "      background-color: #3B4455;\n",
              "      fill: #D2E3FC;\n",
              "    }\n",
              "\n",
              "    [theme=dark] .colab-df-convert:hover {\n",
              "      background-color: #434B5C;\n",
              "      box-shadow: 0px 1px 3px 1px rgba(0, 0, 0, 0.15);\n",
              "      filter: drop-shadow(0px 1px 2px rgba(0, 0, 0, 0.3));\n",
              "      fill: #FFFFFF;\n",
              "    }\n",
              "  </style>\n",
              "\n",
              "      <script>\n",
              "        const buttonEl =\n",
              "          document.querySelector('#df-1173d2c6-c18d-4555-a43e-df9421d50528 button.colab-df-convert');\n",
              "        buttonEl.style.display =\n",
              "          google.colab.kernel.accessAllowed ? 'block' : 'none';\n",
              "\n",
              "        async function convertToInteractive(key) {\n",
              "          const element = document.querySelector('#df-1173d2c6-c18d-4555-a43e-df9421d50528');\n",
              "          const dataTable =\n",
              "            await google.colab.kernel.invokeFunction('convertToInteractive',\n",
              "                                                     [key], {});\n",
              "          if (!dataTable) return;\n",
              "\n",
              "          const docLinkHtml = 'Like what you see? Visit the ' +\n",
              "            '<a target=\"_blank\" href=https://colab.research.google.com/notebooks/data_table.ipynb>data table notebook</a>'\n",
              "            + ' to learn more about interactive tables.';\n",
              "          element.innerHTML = '';\n",
              "          dataTable['output_type'] = 'display_data';\n",
              "          await google.colab.output.renderOutput(dataTable, element);\n",
              "          const docLink = document.createElement('div');\n",
              "          docLink.innerHTML = docLinkHtml;\n",
              "          element.appendChild(docLink);\n",
              "        }\n",
              "      </script>\n",
              "    </div>\n",
              "  </div>\n",
              "  "
            ]
          },
          "metadata": {},
          "execution_count": 26
        }
      ]
    },
    {
      "cell_type": "markdown",
      "source": [
        "## Dropagem de colunas"
      ],
      "metadata": {
        "id": "TPMDtY3KSVLD"
      }
    },
    {
      "cell_type": "markdown",
      "source": [
        "foi decidida, inicialmente, a dropagem das colunas \"Origem de Cadastro\" e \"Filiação Segurado\" pois, como pode-se constatar abaixo, ambas possuem muitos valores \"nulos\" (que não constam) e uma uma variedade muito pequena nos demais dados trazidos por elas, de forma que os dados foram considerados pouco proveitosos para análise "
      ],
      "metadata": {
        "id": "Wu8-4V4eSmLK"
      }
    },
    {
      "cell_type": "code",
      "source": [
        "# percebe-se que a maioria das entradas trazem a mesma informação \"empregado\", além de possuir muitas entradas que não constam,\n",
        "# Portanto, imagina-se que uma análise abrangente pode ser muito prejudicada \n",
        "# (Exemplo, caso os dados que não constam sejam todos referentes à trabalhadores avulsos há uma diferença gigantesca na análise)\n",
        "df_final['Filiação Segurado'].value_counts()"
      ],
      "metadata": {
        "colab": {
          "base_uri": "https://localhost:8080/"
        },
        "id": "iB4nn1lhhjVm",
        "outputId": "afac26e5-bdc1-4f19-bcf8-283c9b93c16a"
      },
      "execution_count": null,
      "outputs": [
        {
          "output_type": "execute_result",
          "data": {
            "text/plain": [
              "Empregado                                         165168\n",
              "não consta                                         91772\n",
              "Trabalhador Avulso                                   387\n",
              "Segurado Especial                                     74\n",
              "Name: Filiação Segurado, dtype: int64"
            ]
          },
          "metadata": {},
          "execution_count": 27
        }
      ]
    },
    {
      "cell_type": "code",
      "source": [
        "# o mesmo pode ser verificado na coluna 'Origem de Cadastramento CAT'\n",
        "df_final['Origem de Cadastramento CAT'].value_counts()"
      ],
      "metadata": {
        "colab": {
          "base_uri": "https://localhost:8080/"
        },
        "id": "iwOnt9vUfVef",
        "outputId": "ee081529-9ea8-4744-f0a5-b704ebb20da8"
      },
      "execution_count": null,
      "outputs": [
        {
          "output_type": "execute_result",
          "data": {
            "text/plain": [
              "Internet      166557\n",
              "não consta     90844\n",
              "Name: Origem de Cadastramento CAT, dtype: int64"
            ]
          },
          "metadata": {},
          "execution_count": 28
        }
      ]
    },
    {
      "cell_type": "code",
      "source": [
        "#Drop na coluna \"Origem de Cadastro\", dados inconsistente para analise\n",
        "#Obs: essa dropagem tem que ser devolvida para o proprio DF, ou utilizar o parâmetro inplace=True. \n",
        "df_final = df_final.drop(columns=['Origem de Cadastramento CAT'])"
      ],
      "metadata": {
        "id": "VLSqYkm-ze5-"
      },
      "execution_count": null,
      "outputs": []
    },
    {
      "cell_type": "code",
      "source": [
        "#Drop na coluna \"Filiação Segurado\", dados inconsistente para analise\n",
        "df_final = df_final.drop(columns=['Filiação Segurado'])"
      ],
      "metadata": {
        "id": "LUdH112844LM"
      },
      "execution_count": null,
      "outputs": []
    },
    {
      "cell_type": "code",
      "source": [
        "df_final.dtypes"
      ],
      "metadata": {
        "id": "lcz18EmO5PVq",
        "outputId": "a75a325d-db5d-4397-cfaf-16cb1c4e2ead",
        "colab": {
          "base_uri": "https://localhost:8080/"
        }
      },
      "execution_count": null,
      "outputs": [
        {
          "output_type": "execute_result",
          "data": {
            "text/plain": [
              "Agente  Causador  Acidente    object\n",
              "Data Acidente                 object\n",
              "CBO                           object\n",
              "CID-10                        object\n",
              "CNAE2.0 Empregador             int64\n",
              "CNAE2.0 Empregador.1          object\n",
              "Emitente CAT                  object\n",
              "Espécie do benefício          object\n",
              "Indica Óbito Acidente         object\n",
              "Munic Empr                    object\n",
              "Natureza da Lesão             object\n",
              "Parte Corpo Atingida          object\n",
              "Sexo                          object\n",
              "Tipo do Acidente              object\n",
              "UF  Munic.  Acidente          object\n",
              "UF Munic. Empregador          object\n",
              "Data Acidente.1               object\n",
              "Data Despacho Benefício       object\n",
              "Data Acidente.2               object\n",
              "Data Nascimento               object\n",
              "Data Emissão CAT              object\n",
              "CNPJ/CEI Empregador           object\n",
              "dtype: object"
            ]
          },
          "metadata": {},
          "execution_count": 31
        }
      ]
    },
    {
      "cell_type": "markdown",
      "source": [
        "Além das colunas ja dropadas, foi verificado que as existem diversas colunas que se referem às datas dos acidentes, tornando essa informação redundante"
      ],
      "metadata": {
        "id": "9HGsoCH-bpwj"
      }
    },
    {
      "cell_type": "code",
      "source": [
        "# drop das colunas \"data acidente\" que trazem apenas mês e ano\n",
        "df_final = df_final.drop(columns=['Data Acidente', 'Data Acidente.1'])"
      ],
      "metadata": {
        "id": "IeoIxEaWcl4j"
      },
      "execution_count": null,
      "outputs": []
    },
    {
      "cell_type": "markdown",
      "source": [
        "## Renomeação das colunas"
      ],
      "metadata": {
        "id": "sJ9RbsAxVJR9"
      }
    },
    {
      "cell_type": "code",
      "source": [
        "# Renomeando as colunas que se referem à datas\n",
        "df_final.rename(columns={'Data Acidente.2':'data_acidente','Data Nascimento':'data_nascimento', 'Data Emissão CAT':'data_emissao_CAT', 'Data Despacho Benefício':'data_despacho_beneficio'}, inplace=True)"
      ],
      "metadata": {
        "id": "hBk37Gx-7u0d"
      },
      "execution_count": null,
      "outputs": []
    },
    {
      "cell_type": "markdown",
      "source": [
        "## Mais explorações"
      ],
      "metadata": {
        "id": "9ezzKWwjVFwY"
      }
    },
    {
      "cell_type": "code",
      "source": [
        "# é possível verificar que a coluna referente ao gênero das pessoas possui entradas \"Não informado\" e \"Indeterminado\" \n",
        "df_final['Sexo'].value_counts()"
      ],
      "metadata": {
        "id": "HLh9CpWGxWip",
        "colab": {
          "base_uri": "https://localhost:8080/"
        },
        "outputId": "6f6727b6-8541-4f0a-de86-5f511f7b40ce"
      },
      "execution_count": null,
      "outputs": [
        {
          "output_type": "execute_result",
          "data": {
            "text/plain": [
              "Masculino        169484\n",
              "Feminino          87095\n",
              "Não Informado       819\n",
              "Indeterminado         3\n",
              "Name: Sexo, dtype: int64"
            ]
          },
          "metadata": {},
          "execution_count": 34
        }
      ]
    },
    {
      "cell_type": "code",
      "source": [
        "# seguindo a mesma diretriz antes colocada, relativa a manter o DataFrame sem valores nulos \n",
        "# podemos substituir as colunas que não são especificadas pelo mesmo \"não consta\", padronizando os dados faltantes\n",
        "df_final.replace(['Não Informado', 'Indeterminado'],'não consta',regex=True,inplace=True)"
      ],
      "metadata": {
        "id": "RMyOhqHUxbv2"
      },
      "execution_count": null,
      "outputs": []
    },
    {
      "cell_type": "code",
      "source": [
        "# na coluna \"Tipo do Acidente\" encontra-se outra inconsistência, a palavra \"Ignorado\" provavelmente foi inserida na ausência do dado\n",
        "# portanto também poderá ser substituída por \"não consta\"\n",
        "df_final['Tipo do Acidente'].value_counts()"
      ],
      "metadata": {
        "id": "n2T6LlLIQ2Az",
        "colab": {
          "base_uri": "https://localhost:8080/"
        },
        "outputId": "f911aa41-41e9-4ecd-ae9c-f3e0346c0a9a"
      },
      "execution_count": null,
      "outputs": [
        {
          "output_type": "execute_result",
          "data": {
            "text/plain": [
              "Típico      121883\n",
              "Ignorado     90556\n",
              "Trajeto      37221\n",
              "Doença        7741\n",
              "Name: Tipo do Acidente, dtype: int64"
            ]
          },
          "metadata": {},
          "execution_count": 36
        }
      ]
    },
    {
      "cell_type": "code",
      "source": [
        "# Além disso, as colunas \"UF  Munic.  Acidente\" e \"UF Munic. Empregador\" apresentam o valor\n",
        "# \"Zerado\", que também será substituído por \"não consta\" para padronizar os dados não inseridos \n",
        "df_final['UF  Munic.  Acidente'].value_counts()"
      ],
      "metadata": {
        "id": "FxLuB5T0wwVr",
        "colab": {
          "base_uri": "https://localhost:8080/"
        },
        "outputId": "6b4eaf7a-8b46-41ae-edcf-b866d1cd794d"
      },
      "execution_count": null,
      "outputs": [
        {
          "output_type": "execute_result",
          "data": {
            "text/plain": [
              "Maranhão             87109\n",
              "não consta           81257\n",
              "Rondônia             28702\n",
              "Roraima              17130\n",
              "Tocantins            16699\n",
              "Zerado                7787\n",
              "Pará                  5673\n",
              "Acre                  3446\n",
              "Ceará                 3366\n",
              "Amazonas              1882\n",
              "Pernambuco            1048\n",
              "Amapá                  895\n",
              "Sergipe                755\n",
              "Piauí                  581\n",
              "Alagoas                419\n",
              "Rio Grande Norte       405\n",
              "Paraíba                247\n",
              "Name: UF  Munic.  Acidente, dtype: int64"
            ]
          },
          "metadata": {},
          "execution_count": 37
        }
      ]
    },
    {
      "cell_type": "code",
      "source": [
        "df_final['UF Munic. Empregador'].value_counts()"
      ],
      "metadata": {
        "id": "bJyDAJoJw6S2",
        "colab": {
          "base_uri": "https://localhost:8080/"
        },
        "outputId": "9ebde478-4215-47d3-c649-5e3399d77984"
      },
      "execution_count": null,
      "outputs": [
        {
          "output_type": "execute_result",
          "data": {
            "text/plain": [
              "Zerado                 98631\n",
              "São Paulo              57751\n",
              "Minas Gerais           16703\n",
              "Rio Grande do Sul      13163\n",
              "Paraná                 12947\n",
              "Santa Catarina         12139\n",
              "Rio de Janeiro         10080\n",
              "Goiás                   4342\n",
              "Bahia                   3998\n",
              "Espírito Santo          3541\n",
              "Ceará                   3168\n",
              "Pernambuco              3031\n",
              "Mato Grosso             2896\n",
              "Mato Grosso do Sul      2425\n",
              "Pará                    2232\n",
              "Distrito Federal        2010\n",
              "Amazonas                1573\n",
              "Rio Grande do Norte     1052\n",
              "Maranhão                1043\n",
              "Alagoas                  817\n",
              "Rondônia                 802\n",
              "Paraíba                  791\n",
              "Tocantins                707\n",
              "Piauí                    520\n",
              "Sergipe                  491\n",
              "Amapá                    197\n",
              "Roraima                  188\n",
              "Acre                     163\n",
              "Name: UF Munic. Empregador, dtype: int64"
            ]
          },
          "metadata": {},
          "execution_count": 38
        }
      ]
    },
    {
      "cell_type": "code",
      "source": [
        "# \"replace\" para substituir as entradas acima mencionadas por \"não consta\" (padronização de dados faltantes)\n",
        "df_final.replace(['Ignorado', 'Zerado'],'não consta',regex=True, inplace=True)"
      ],
      "metadata": {
        "id": "Kq_gnWYqzBcZ"
      },
      "execution_count": null,
      "outputs": []
    },
    {
      "cell_type": "markdown",
      "source": [
        "## entradas pa e datas 0000/00"
      ],
      "metadata": {
        "id": "-cpIPbbOv1g_"
      }
    },
    {
      "cell_type": "code",
      "source": [
        "# identificando data 0000/00\n",
        "df_final['data_despacho_beneficio'].value_counts(dropna=False)"
      ],
      "metadata": {
        "colab": {
          "base_uri": "https://localhost:8080/"
        },
        "id": "pBGzjFT7ZAt2",
        "outputId": "29cbee16-800b-465a-85d5-cb808f941d1f"
      },
      "execution_count": null,
      "outputs": [
        {
          "output_type": "execute_result",
          "data": {
            "text/plain": [
              "0000/00    166540\n",
              "2022/06     24878\n",
              "2022/03     23801\n",
              "2022/05     18060\n",
              "2022/04     10349\n",
              "2022/02     10186\n",
              "2022/07      2401\n",
              "2022/01      1177\n",
              "2022/10         7\n",
              "2022/11         2\n",
              "Name: data_despacho_beneficio, dtype: int64"
            ]
          },
          "metadata": {},
          "execution_count": 40
        }
      ]
    },
    {
      "cell_type": "code",
      "source": [
        "# identificando \"espécie de benefício\": \"Pa\"\n",
        "df_final['Espécie do benefício'].value_counts()"
      ],
      "metadata": {
        "colab": {
          "base_uri": "https://localhost:8080/"
        },
        "id": "3JfoyNxib4PO",
        "outputId": "d572fabd-dd2e-42d5-82b7-8426e02b050e"
      },
      "execution_count": null,
      "outputs": [
        {
          "output_type": "execute_result",
          "data": {
            "text/plain": [
              "Pa                                               166540\n",
              "Auxílio Doenca por Acidente do Trabalho           90692\n",
              "Auxílio Acidente                                    112\n",
              "Aposent. Invalidez Acidente Trabalho                 56\n",
              "Pensão por Morte Acidente do Trabalho                 1\n",
              "Name: Espécie do benefício, dtype: int64"
            ]
          },
          "metadata": {},
          "execution_count": 41
        }
      ]
    },
    {
      "cell_type": "markdown",
      "source": [
        "Foi possível verificar que a quantidade de entradas '0000/00', foi a mesma quantidade de entradas pa, a análise dos dataframes permite aferir que, onde a \"Espécie de benefício\" consta como \"Pa\", a \"data de despacho benefício\" consta como \"0000/00\"\n",
        "\n",
        "Portanto a teoria é que \"pa\" não se refira a um benefício mas sim um Processo administrativo e a data 0000/00 seja utilizada quando não há o despacho do benefício\n",
        "\n",
        "Tendo isso em vista, não serão alteradas esses dados, devendo apenas ser analisados com atenção a esses detalhes."
      ],
      "metadata": {
        "id": "El23IEpeb5kl"
      }
    },
    {
      "cell_type": "markdown",
      "source": [
        "## Remoção dos espaços vazios antes ou depois dos dados"
      ],
      "metadata": {
        "id": "W-DCsTDVgx0O"
      }
    },
    {
      "cell_type": "code",
      "source": [
        "# o código abaixo itera pelas colunas removendo espaços antes e depois de cada entrada\n",
        "# caso haja incompatibilidade e uma coluna com a função \"strip()\", não haverá erro, \n",
        "# entrará na exceção e seguirá para a próxima coluna\n",
        "for col in df_final.columns:\n",
        "  try:\n",
        "    df_final[col] = df_final[col].apply(lambda x: x.strip())\n",
        "  except:\n",
        "    pass"
      ],
      "metadata": {
        "id": "lBHGSn2Ag9MR"
      },
      "execution_count": null,
      "outputs": []
    },
    {
      "cell_type": "code",
      "source": [
        "df_final"
      ],
      "metadata": {
        "colab": {
          "base_uri": "https://localhost:8080/"
        },
        "id": "ylmPzSPPiKZQ",
        "outputId": "f41dc0c7-2402-40d8-8a14-91e420fb6241"
      },
      "execution_count": null,
      "outputs": [
        {
          "output_type": "execute_result",
          "data": {
            "text/plain": [
              "                           Agente  Causador  Acidente  \\\n",
              "0                                          não consta   \n",
              "1                               Motocicleta, Motoneta   \n",
              "2                               Motocicleta, Motoneta   \n",
              "3            Aprision. Em, Sobre ou Entre Dois ou Mai   \n",
              "4          Impacto de Pes. Contra Objeto em Movimento   \n",
              "...                                               ...   \n",
              "257396   Piso de Edificio - Superficie Utilizada Para   \n",
              "257397  Escada Permanente Cujos Degraus Permitem Apoi   \n",
              "257398    Andaime, Plataforma - Edificio ou Estrutura   \n",
              "257399  Martelo, Malho, Marreta- Ferramenta Manual Se   \n",
              "257400           Impacto de Pes. Contra Objeto Parado   \n",
              "\n",
              "                                                  CBO  \\\n",
              "0                  515105-Agente Comunitário de Saúde   \n",
              "1       519110-Motociclista no Transporte de Document   \n",
              "2       519110-Motociclista no Transporte de Document   \n",
              "3                                 514205-Coletor Lixo   \n",
              "4                                          não consta   \n",
              "...                                               ...   \n",
              "257396                                     não consta   \n",
              "257397            232130-Prof. Física no Ensino Médio   \n",
              "257398                               517330-Vigilante   \n",
              "257399                                724315-Soldador   \n",
              "257400  721215-Oper. Máquinas-Ferramenta Convencionai   \n",
              "\n",
              "                                           CID-10  CNAE2.0 Empregador  \\\n",
              "0                   B34.2 Infecc p/Coronavirus Ne                8630   \n",
              "1       S52.5 Frat da Extremidade Distal do Radio                4930   \n",
              "2       S52.5 Frat da Extremidade Distal do Radio                4930   \n",
              "3         S60.0 Contusao de Dedos s/Lesao da Unha                3811   \n",
              "4                     S90.0 Contusao do Tornozelo                4639   \n",
              "...                                           ...                 ...   \n",
              "257396      S62   Frat ao Nivel do Punho e da Mao                2330   \n",
              "257397         S82   Frat da Perna Incl Tornozelo                8520   \n",
              "257398                   S82.7 Frat Mult da Perna                8112   \n",
              "257399                   S62.6 Frat de Outr Dedos                7112   \n",
              "257400      S62.3 Frat de Outr Ossos do Metacarpo                2815   \n",
              "\n",
              "                                 CNAE2.0 Empregador.1         Emitente CAT  \\\n",
              "0       Atividades de Atencao Ambulatorial Executadas           Empregador   \n",
              "1                      Transporte Rodoviario de Carga  Segurado/Dependente   \n",
              "2                      Transporte Rodoviario de Carga  Segurado/Dependente   \n",
              "3                    Coleta de Residuos Nao-Perigosos           Empregador   \n",
              "4        Comercio Atacadista de Produtos Alimenticios           Empregador   \n",
              "...                                               ...                  ...   \n",
              "257396  Fabricacao de Artefatos de Concreto, Cimento,           não consta   \n",
              "257397                                   Ensino Medio   Autoridade Pública   \n",
              "257398                           Condominios Prediais  Segurado/Dependente   \n",
              "257399                         Servicos de Engenharia           Empregador   \n",
              "257400  Fabricacao de Equipamentos de Transmissao par  Segurado/Dependente   \n",
              "\n",
              "                           Espécie do benefício Indica Óbito Acidente  \\\n",
              "0                                            Pa                   Não   \n",
              "1                                            Pa                   Não   \n",
              "2                                            Pa                   Não   \n",
              "3                                            Pa                   Não   \n",
              "4                                            Pa                   Não   \n",
              "...                                         ...                   ...   \n",
              "257396  Auxílio Doenca por Acidente do Trabalho                   Não   \n",
              "257397  Auxílio Doenca por Acidente do Trabalho                   Não   \n",
              "257398  Auxílio Doenca por Acidente do Trabalho                   Não   \n",
              "257399  Auxílio Doenca por Acidente do Trabalho                   Não   \n",
              "257400  Auxílio Doenca por Acidente do Trabalho                   Não   \n",
              "\n",
              "                          Munic Empr  \\\n",
              "0              354780-Santo André-Sp   \n",
              "1                   355030-São Paulo   \n",
              "2                   355030-São Paulo   \n",
              "3                    520110-Anápolis   \n",
              "4       330100-Campos dos Goytacazes   \n",
              "...                              ...   \n",
              "257396              410960-Guaratuba   \n",
              "257397               410690-Curitiba   \n",
              "257398               420460-Criciúma   \n",
              "257399               411000-Iguaraçu   \n",
              "257400             353130-Monte Alto   \n",
              "\n",
              "                                  Natureza da Lesão  \\\n",
              "0       Doenca Contagiosa ou Infecciosa (Tuberculos   \n",
              "1                                           Fratura   \n",
              "2                                           Fratura   \n",
              "3                                           Luxacao   \n",
              "4                                           Luxacao   \n",
              "...                                             ...   \n",
              "257396                               Lesao Imediata   \n",
              "257397                                      Fratura   \n",
              "257398                                      Fratura   \n",
              "257399                                      Fratura   \n",
              "257400                                      Fratura   \n",
              "\n",
              "                                 Parte Corpo Atingida       Sexo  \\\n",
              "0                               Aparelho Respiratorio   Feminino   \n",
              "1                      Braco (Entre O Punho a O Ombro  Masculino   \n",
              "2                      Braco (Entre O Punho a O Ombro  Masculino   \n",
              "3                                               Punho  Masculino   \n",
              "4                 Perna (Entre O Tornozelo e a Pelvis  Masculino   \n",
              "...                                               ...        ...   \n",
              "257396                    Mao (Exceto Punho ou Dedos)  Masculino   \n",
              "257397  Perna (Do Tornozelo, Exclusive, ao Joelho, Ex   Feminino   \n",
              "257398  Membros Inferiores, Partes Multiplas (Qualque  Masculino   \n",
              "257399                                           Dedo  Masculino   \n",
              "257400                                           Dedo  Masculino   \n",
              "\n",
              "       Tipo do Acidente UF  Munic.  Acidente UF Munic. Empregador  \\\n",
              "0                Doença             Maranhão            São Paulo   \n",
              "1               Trajeto             Maranhão            São Paulo   \n",
              "2               Trajeto             Maranhão            São Paulo   \n",
              "3                Típico           não consta                Goiás   \n",
              "4                Típico             Maranhão            São Paulo   \n",
              "...                 ...                  ...                  ...   \n",
              "257396           Típico              Roraima               Paraná   \n",
              "257397           Típico              Roraima               Paraná   \n",
              "257398           Típico           não consta       Santa Catarina   \n",
              "257399           Típico              Roraima               Paraná   \n",
              "257400           Típico             Maranhão            São Paulo   \n",
              "\n",
              "       data_despacho_beneficio data_acidente data_nascimento data_emissao_CAT  \\\n",
              "0                      0000/00    20/01/2022      02/08/1970       01/03/2022   \n",
              "1                      0000/00    25/02/2022      16/12/1990       01/03/2022   \n",
              "2                      0000/00    25/02/2022      16/12/1990       01/03/2022   \n",
              "3                      0000/00    24/02/2022      19/09/1986       01/03/2022   \n",
              "4                      0000/00    28/01/2022      25/07/1995       01/03/2022   \n",
              "...                        ...           ...             ...              ...   \n",
              "257396                 2022/10    29/09/2022      18/09/1993       10/10/2022   \n",
              "257397                 2022/11    06/10/2022      24/11/1986       07/10/2022   \n",
              "257398                 2022/10    20/09/2022      02/03/1986       10/10/2022   \n",
              "257399                 2022/10    05/10/2022      08/04/1984       06/10/2022   \n",
              "257400                 2022/10    03/10/2022      15/07/1993       18/10/2022   \n",
              "\n",
              "       CNPJ/CEI Empregador  \n",
              "0       57.571.275.002.570  \n",
              "1       19.578.086.000.162  \n",
              "2       19.578.086.000.162  \n",
              "3       00.000.000.000.000  \n",
              "4       00.000.000.000.000  \n",
              "...                    ...  \n",
              "257396  21.161.901.000.135  \n",
              "257397  76.416.965.000.121  \n",
              "257398  32.994.401.000.109  \n",
              "257399  34.197.591.000.150  \n",
              "257400  54.614.813.000.109  \n",
              "\n",
              "[257401 rows x 20 columns]"
            ],
            "text/html": [
              "\n",
              "  <div id=\"df-1fee7d22-cffc-41e0-bd24-0dfad981c84b\">\n",
              "    <div class=\"colab-df-container\">\n",
              "      <div>\n",
              "<style scoped>\n",
              "    .dataframe tbody tr th:only-of-type {\n",
              "        vertical-align: middle;\n",
              "    }\n",
              "\n",
              "    .dataframe tbody tr th {\n",
              "        vertical-align: top;\n",
              "    }\n",
              "\n",
              "    .dataframe thead th {\n",
              "        text-align: right;\n",
              "    }\n",
              "</style>\n",
              "<table border=\"1\" class=\"dataframe\">\n",
              "  <thead>\n",
              "    <tr style=\"text-align: right;\">\n",
              "      <th></th>\n",
              "      <th>Agente  Causador  Acidente</th>\n",
              "      <th>CBO</th>\n",
              "      <th>CID-10</th>\n",
              "      <th>CNAE2.0 Empregador</th>\n",
              "      <th>CNAE2.0 Empregador.1</th>\n",
              "      <th>Emitente CAT</th>\n",
              "      <th>Espécie do benefício</th>\n",
              "      <th>Indica Óbito Acidente</th>\n",
              "      <th>Munic Empr</th>\n",
              "      <th>Natureza da Lesão</th>\n",
              "      <th>Parte Corpo Atingida</th>\n",
              "      <th>Sexo</th>\n",
              "      <th>Tipo do Acidente</th>\n",
              "      <th>UF  Munic.  Acidente</th>\n",
              "      <th>UF Munic. Empregador</th>\n",
              "      <th>data_despacho_beneficio</th>\n",
              "      <th>data_acidente</th>\n",
              "      <th>data_nascimento</th>\n",
              "      <th>data_emissao_CAT</th>\n",
              "      <th>CNPJ/CEI Empregador</th>\n",
              "    </tr>\n",
              "  </thead>\n",
              "  <tbody>\n",
              "    <tr>\n",
              "      <th>0</th>\n",
              "      <td>não consta</td>\n",
              "      <td>515105-Agente Comunitário de Saúde</td>\n",
              "      <td>B34.2 Infecc p/Coronavirus Ne</td>\n",
              "      <td>8630</td>\n",
              "      <td>Atividades de Atencao Ambulatorial Executadas</td>\n",
              "      <td>Empregador</td>\n",
              "      <td>Pa</td>\n",
              "      <td>Não</td>\n",
              "      <td>354780-Santo André-Sp</td>\n",
              "      <td>Doenca Contagiosa ou Infecciosa (Tuberculos</td>\n",
              "      <td>Aparelho Respiratorio</td>\n",
              "      <td>Feminino</td>\n",
              "      <td>Doença</td>\n",
              "      <td>Maranhão</td>\n",
              "      <td>São Paulo</td>\n",
              "      <td>0000/00</td>\n",
              "      <td>20/01/2022</td>\n",
              "      <td>02/08/1970</td>\n",
              "      <td>01/03/2022</td>\n",
              "      <td>57.571.275.002.570</td>\n",
              "    </tr>\n",
              "    <tr>\n",
              "      <th>1</th>\n",
              "      <td>Motocicleta, Motoneta</td>\n",
              "      <td>519110-Motociclista no Transporte de Document</td>\n",
              "      <td>S52.5 Frat da Extremidade Distal do Radio</td>\n",
              "      <td>4930</td>\n",
              "      <td>Transporte Rodoviario de Carga</td>\n",
              "      <td>Segurado/Dependente</td>\n",
              "      <td>Pa</td>\n",
              "      <td>Não</td>\n",
              "      <td>355030-São Paulo</td>\n",
              "      <td>Fratura</td>\n",
              "      <td>Braco (Entre O Punho a O Ombro</td>\n",
              "      <td>Masculino</td>\n",
              "      <td>Trajeto</td>\n",
              "      <td>Maranhão</td>\n",
              "      <td>São Paulo</td>\n",
              "      <td>0000/00</td>\n",
              "      <td>25/02/2022</td>\n",
              "      <td>16/12/1990</td>\n",
              "      <td>01/03/2022</td>\n",
              "      <td>19.578.086.000.162</td>\n",
              "    </tr>\n",
              "    <tr>\n",
              "      <th>2</th>\n",
              "      <td>Motocicleta, Motoneta</td>\n",
              "      <td>519110-Motociclista no Transporte de Document</td>\n",
              "      <td>S52.5 Frat da Extremidade Distal do Radio</td>\n",
              "      <td>4930</td>\n",
              "      <td>Transporte Rodoviario de Carga</td>\n",
              "      <td>Segurado/Dependente</td>\n",
              "      <td>Pa</td>\n",
              "      <td>Não</td>\n",
              "      <td>355030-São Paulo</td>\n",
              "      <td>Fratura</td>\n",
              "      <td>Braco (Entre O Punho a O Ombro</td>\n",
              "      <td>Masculino</td>\n",
              "      <td>Trajeto</td>\n",
              "      <td>Maranhão</td>\n",
              "      <td>São Paulo</td>\n",
              "      <td>0000/00</td>\n",
              "      <td>25/02/2022</td>\n",
              "      <td>16/12/1990</td>\n",
              "      <td>01/03/2022</td>\n",
              "      <td>19.578.086.000.162</td>\n",
              "    </tr>\n",
              "    <tr>\n",
              "      <th>3</th>\n",
              "      <td>Aprision. Em, Sobre ou Entre Dois ou Mai</td>\n",
              "      <td>514205-Coletor Lixo</td>\n",
              "      <td>S60.0 Contusao de Dedos s/Lesao da Unha</td>\n",
              "      <td>3811</td>\n",
              "      <td>Coleta de Residuos Nao-Perigosos</td>\n",
              "      <td>Empregador</td>\n",
              "      <td>Pa</td>\n",
              "      <td>Não</td>\n",
              "      <td>520110-Anápolis</td>\n",
              "      <td>Luxacao</td>\n",
              "      <td>Punho</td>\n",
              "      <td>Masculino</td>\n",
              "      <td>Típico</td>\n",
              "      <td>não consta</td>\n",
              "      <td>Goiás</td>\n",
              "      <td>0000/00</td>\n",
              "      <td>24/02/2022</td>\n",
              "      <td>19/09/1986</td>\n",
              "      <td>01/03/2022</td>\n",
              "      <td>00.000.000.000.000</td>\n",
              "    </tr>\n",
              "    <tr>\n",
              "      <th>4</th>\n",
              "      <td>Impacto de Pes. Contra Objeto em Movimento</td>\n",
              "      <td>não consta</td>\n",
              "      <td>S90.0 Contusao do Tornozelo</td>\n",
              "      <td>4639</td>\n",
              "      <td>Comercio Atacadista de Produtos Alimenticios</td>\n",
              "      <td>Empregador</td>\n",
              "      <td>Pa</td>\n",
              "      <td>Não</td>\n",
              "      <td>330100-Campos dos Goytacazes</td>\n",
              "      <td>Luxacao</td>\n",
              "      <td>Perna (Entre O Tornozelo e a Pelvis</td>\n",
              "      <td>Masculino</td>\n",
              "      <td>Típico</td>\n",
              "      <td>Maranhão</td>\n",
              "      <td>São Paulo</td>\n",
              "      <td>0000/00</td>\n",
              "      <td>28/01/2022</td>\n",
              "      <td>25/07/1995</td>\n",
              "      <td>01/03/2022</td>\n",
              "      <td>00.000.000.000.000</td>\n",
              "    </tr>\n",
              "    <tr>\n",
              "      <th>...</th>\n",
              "      <td>...</td>\n",
              "      <td>...</td>\n",
              "      <td>...</td>\n",
              "      <td>...</td>\n",
              "      <td>...</td>\n",
              "      <td>...</td>\n",
              "      <td>...</td>\n",
              "      <td>...</td>\n",
              "      <td>...</td>\n",
              "      <td>...</td>\n",
              "      <td>...</td>\n",
              "      <td>...</td>\n",
              "      <td>...</td>\n",
              "      <td>...</td>\n",
              "      <td>...</td>\n",
              "      <td>...</td>\n",
              "      <td>...</td>\n",
              "      <td>...</td>\n",
              "      <td>...</td>\n",
              "      <td>...</td>\n",
              "    </tr>\n",
              "    <tr>\n",
              "      <th>257396</th>\n",
              "      <td>Piso de Edificio - Superficie Utilizada Para</td>\n",
              "      <td>não consta</td>\n",
              "      <td>S62   Frat ao Nivel do Punho e da Mao</td>\n",
              "      <td>2330</td>\n",
              "      <td>Fabricacao de Artefatos de Concreto, Cimento,</td>\n",
              "      <td>não consta</td>\n",
              "      <td>Auxílio Doenca por Acidente do Trabalho</td>\n",
              "      <td>Não</td>\n",
              "      <td>410960-Guaratuba</td>\n",
              "      <td>Lesao Imediata</td>\n",
              "      <td>Mao (Exceto Punho ou Dedos)</td>\n",
              "      <td>Masculino</td>\n",
              "      <td>Típico</td>\n",
              "      <td>Roraima</td>\n",
              "      <td>Paraná</td>\n",
              "      <td>2022/10</td>\n",
              "      <td>29/09/2022</td>\n",
              "      <td>18/09/1993</td>\n",
              "      <td>10/10/2022</td>\n",
              "      <td>21.161.901.000.135</td>\n",
              "    </tr>\n",
              "    <tr>\n",
              "      <th>257397</th>\n",
              "      <td>Escada Permanente Cujos Degraus Permitem Apoi</td>\n",
              "      <td>232130-Prof. Física no Ensino Médio</td>\n",
              "      <td>S82   Frat da Perna Incl Tornozelo</td>\n",
              "      <td>8520</td>\n",
              "      <td>Ensino Medio</td>\n",
              "      <td>Autoridade Pública</td>\n",
              "      <td>Auxílio Doenca por Acidente do Trabalho</td>\n",
              "      <td>Não</td>\n",
              "      <td>410690-Curitiba</td>\n",
              "      <td>Fratura</td>\n",
              "      <td>Perna (Do Tornozelo, Exclusive, ao Joelho, Ex</td>\n",
              "      <td>Feminino</td>\n",
              "      <td>Típico</td>\n",
              "      <td>Roraima</td>\n",
              "      <td>Paraná</td>\n",
              "      <td>2022/11</td>\n",
              "      <td>06/10/2022</td>\n",
              "      <td>24/11/1986</td>\n",
              "      <td>07/10/2022</td>\n",
              "      <td>76.416.965.000.121</td>\n",
              "    </tr>\n",
              "    <tr>\n",
              "      <th>257398</th>\n",
              "      <td>Andaime, Plataforma - Edificio ou Estrutura</td>\n",
              "      <td>517330-Vigilante</td>\n",
              "      <td>S82.7 Frat Mult da Perna</td>\n",
              "      <td>8112</td>\n",
              "      <td>Condominios Prediais</td>\n",
              "      <td>Segurado/Dependente</td>\n",
              "      <td>Auxílio Doenca por Acidente do Trabalho</td>\n",
              "      <td>Não</td>\n",
              "      <td>420460-Criciúma</td>\n",
              "      <td>Fratura</td>\n",
              "      <td>Membros Inferiores, Partes Multiplas (Qualque</td>\n",
              "      <td>Masculino</td>\n",
              "      <td>Típico</td>\n",
              "      <td>não consta</td>\n",
              "      <td>Santa Catarina</td>\n",
              "      <td>2022/10</td>\n",
              "      <td>20/09/2022</td>\n",
              "      <td>02/03/1986</td>\n",
              "      <td>10/10/2022</td>\n",
              "      <td>32.994.401.000.109</td>\n",
              "    </tr>\n",
              "    <tr>\n",
              "      <th>257399</th>\n",
              "      <td>Martelo, Malho, Marreta- Ferramenta Manual Se</td>\n",
              "      <td>724315-Soldador</td>\n",
              "      <td>S62.6 Frat de Outr Dedos</td>\n",
              "      <td>7112</td>\n",
              "      <td>Servicos de Engenharia</td>\n",
              "      <td>Empregador</td>\n",
              "      <td>Auxílio Doenca por Acidente do Trabalho</td>\n",
              "      <td>Não</td>\n",
              "      <td>411000-Iguaraçu</td>\n",
              "      <td>Fratura</td>\n",
              "      <td>Dedo</td>\n",
              "      <td>Masculino</td>\n",
              "      <td>Típico</td>\n",
              "      <td>Roraima</td>\n",
              "      <td>Paraná</td>\n",
              "      <td>2022/10</td>\n",
              "      <td>05/10/2022</td>\n",
              "      <td>08/04/1984</td>\n",
              "      <td>06/10/2022</td>\n",
              "      <td>34.197.591.000.150</td>\n",
              "    </tr>\n",
              "    <tr>\n",
              "      <th>257400</th>\n",
              "      <td>Impacto de Pes. Contra Objeto Parado</td>\n",
              "      <td>721215-Oper. Máquinas-Ferramenta Convencionai</td>\n",
              "      <td>S62.3 Frat de Outr Ossos do Metacarpo</td>\n",
              "      <td>2815</td>\n",
              "      <td>Fabricacao de Equipamentos de Transmissao par</td>\n",
              "      <td>Segurado/Dependente</td>\n",
              "      <td>Auxílio Doenca por Acidente do Trabalho</td>\n",
              "      <td>Não</td>\n",
              "      <td>353130-Monte Alto</td>\n",
              "      <td>Fratura</td>\n",
              "      <td>Dedo</td>\n",
              "      <td>Masculino</td>\n",
              "      <td>Típico</td>\n",
              "      <td>Maranhão</td>\n",
              "      <td>São Paulo</td>\n",
              "      <td>2022/10</td>\n",
              "      <td>03/10/2022</td>\n",
              "      <td>15/07/1993</td>\n",
              "      <td>18/10/2022</td>\n",
              "      <td>54.614.813.000.109</td>\n",
              "    </tr>\n",
              "  </tbody>\n",
              "</table>\n",
              "<p>257401 rows × 20 columns</p>\n",
              "</div>\n",
              "      <button class=\"colab-df-convert\" onclick=\"convertToInteractive('df-1fee7d22-cffc-41e0-bd24-0dfad981c84b')\"\n",
              "              title=\"Convert this dataframe to an interactive table.\"\n",
              "              style=\"display:none;\">\n",
              "        \n",
              "  <svg xmlns=\"http://www.w3.org/2000/svg\" height=\"24px\"viewBox=\"0 0 24 24\"\n",
              "       width=\"24px\">\n",
              "    <path d=\"M0 0h24v24H0V0z\" fill=\"none\"/>\n",
              "    <path d=\"M18.56 5.44l.94 2.06.94-2.06 2.06-.94-2.06-.94-.94-2.06-.94 2.06-2.06.94zm-11 1L8.5 8.5l.94-2.06 2.06-.94-2.06-.94L8.5 2.5l-.94 2.06-2.06.94zm10 10l.94 2.06.94-2.06 2.06-.94-2.06-.94-.94-2.06-.94 2.06-2.06.94z\"/><path d=\"M17.41 7.96l-1.37-1.37c-.4-.4-.92-.59-1.43-.59-.52 0-1.04.2-1.43.59L10.3 9.45l-7.72 7.72c-.78.78-.78 2.05 0 2.83L4 21.41c.39.39.9.59 1.41.59.51 0 1.02-.2 1.41-.59l7.78-7.78 2.81-2.81c.8-.78.8-2.07 0-2.86zM5.41 20L4 18.59l7.72-7.72 1.47 1.35L5.41 20z\"/>\n",
              "  </svg>\n",
              "      </button>\n",
              "      \n",
              "  <style>\n",
              "    .colab-df-container {\n",
              "      display:flex;\n",
              "      flex-wrap:wrap;\n",
              "      gap: 12px;\n",
              "    }\n",
              "\n",
              "    .colab-df-convert {\n",
              "      background-color: #E8F0FE;\n",
              "      border: none;\n",
              "      border-radius: 50%;\n",
              "      cursor: pointer;\n",
              "      display: none;\n",
              "      fill: #1967D2;\n",
              "      height: 32px;\n",
              "      padding: 0 0 0 0;\n",
              "      width: 32px;\n",
              "    }\n",
              "\n",
              "    .colab-df-convert:hover {\n",
              "      background-color: #E2EBFA;\n",
              "      box-shadow: 0px 1px 2px rgba(60, 64, 67, 0.3), 0px 1px 3px 1px rgba(60, 64, 67, 0.15);\n",
              "      fill: #174EA6;\n",
              "    }\n",
              "\n",
              "    [theme=dark] .colab-df-convert {\n",
              "      background-color: #3B4455;\n",
              "      fill: #D2E3FC;\n",
              "    }\n",
              "\n",
              "    [theme=dark] .colab-df-convert:hover {\n",
              "      background-color: #434B5C;\n",
              "      box-shadow: 0px 1px 3px 1px rgba(0, 0, 0, 0.15);\n",
              "      filter: drop-shadow(0px 1px 2px rgba(0, 0, 0, 0.3));\n",
              "      fill: #FFFFFF;\n",
              "    }\n",
              "  </style>\n",
              "\n",
              "      <script>\n",
              "        const buttonEl =\n",
              "          document.querySelector('#df-1fee7d22-cffc-41e0-bd24-0dfad981c84b button.colab-df-convert');\n",
              "        buttonEl.style.display =\n",
              "          google.colab.kernel.accessAllowed ? 'block' : 'none';\n",
              "\n",
              "        async function convertToInteractive(key) {\n",
              "          const element = document.querySelector('#df-1fee7d22-cffc-41e0-bd24-0dfad981c84b');\n",
              "          const dataTable =\n",
              "            await google.colab.kernel.invokeFunction('convertToInteractive',\n",
              "                                                     [key], {});\n",
              "          if (!dataTable) return;\n",
              "\n",
              "          const docLinkHtml = 'Like what you see? Visit the ' +\n",
              "            '<a target=\"_blank\" href=https://colab.research.google.com/notebooks/data_table.ipynb>data table notebook</a>'\n",
              "            + ' to learn more about interactive tables.';\n",
              "          element.innerHTML = '';\n",
              "          dataTable['output_type'] = 'display_data';\n",
              "          await google.colab.output.renderOutput(dataTable, element);\n",
              "          const docLink = document.createElement('div');\n",
              "          docLink.innerHTML = docLinkHtml;\n",
              "          element.appendChild(docLink);\n",
              "        }\n",
              "      </script>\n",
              "    </div>\n",
              "  </div>\n",
              "  "
            ]
          },
          "metadata": {},
          "execution_count": 46
        }
      ]
    },
    {
      "cell_type": "markdown",
      "source": [
        "# Transformação PySpark"
      ],
      "metadata": {
        "id": "zSbAwb2_Lssz"
      }
    },
    {
      "cell_type": "code",
      "source": [
        "# configurar minha VARIÁVEL DE AMBIENTE (SESSÃO) SPARK\n",
        "# colocar o código inteiro na mesma linha ou usar parênteses para escapar da identação\n",
        "spark = (SparkSession.builder\n",
        "                     .master('local')\n",
        "                     .appName('data-frames')\n",
        "                     .config('spark.ui.port', '4050')\n",
        "                     .getOrCreate())"
      ],
      "metadata": {
        "id": "VAQUeWbgLyTq"
      },
      "execution_count": null,
      "outputs": []
    },
    {
      "cell_type": "markdown",
      "source": [
        "## Criando um DataFrame no PySpark (com struct type)"
      ],
      "metadata": {
        "id": "s8IVOXBu9L8S"
      }
    },
    {
      "cell_type": "code",
      "source": [
        "#IMPORTAR OS TIPOS DE VARIÁVEIS DO SPARK\n",
        "from pyspark.sql.types import *"
      ],
      "metadata": {
        "id": "SWQWEghT3gVc"
      },
      "execution_count": null,
      "outputs": []
    },
    {
      "cell_type": "code",
      "source": [
        "df_final.dtypes"
      ],
      "metadata": {
        "colab": {
          "base_uri": "https://localhost:8080/"
        },
        "id": "55wRcF4c9d0x",
        "outputId": "09c2a806-d316-4d1a-9d2a-fc91766967ba"
      },
      "execution_count": null,
      "outputs": [
        {
          "output_type": "execute_result",
          "data": {
            "text/plain": [
              "Agente  Causador  Acidente    object\n",
              "CBO                           object\n",
              "CID-10                        object\n",
              "CNAE2.0 Empregador             int64\n",
              "CNAE2.0 Empregador.1          object\n",
              "Emitente CAT                  object\n",
              "Espécie do benefício          object\n",
              "Indica Óbito Acidente         object\n",
              "Munic Empr                    object\n",
              "Natureza da Lesão             object\n",
              "Parte Corpo Atingida          object\n",
              "Sexo                          object\n",
              "Tipo do Acidente              object\n",
              "UF  Munic.  Acidente          object\n",
              "UF Munic. Empregador          object\n",
              "data_despacho_beneficio       object\n",
              "data_acidente                 object\n",
              "data_nascimento               object\n",
              "data_emissao_CAT              object\n",
              "CNPJ/CEI Empregador           object\n",
              "dtype: object"
            ]
          },
          "metadata": {},
          "execution_count": 45
        }
      ]
    },
    {
      "cell_type": "code",
      "source": [
        "# Aqui será montado o esquema de colunas, contendo os tipos de cada coluna\n",
        "esquema = (\n",
        "    StructType([\n",
        "        StructField('Agente  Causador  Acidente', StringType()),\n",
        "        StructField('CBO', StringType()),\n",
        "        StructField('CID-10', StringType()),\n",
        "        StructField('CNAE2.0 Empregador', IntegerType()),\n",
        "        StructField('CNAE2.0 Empregador.1', StringType()),\n",
        "        StructField('Emitente CAT', StringType()),\n",
        "        StructField('Espécie do benefício', StringType()),\n",
        "        StructField('Indica Óbito Acidente', StringType()),\n",
        "        StructField('Munic Empr', StringType()),\n",
        "        StructField('Natureza da Lesão', StringType()),\n",
        "        StructField('Parte Corpo Atingida', StringType()),\n",
        "        StructField('Sexo', StringType()),\n",
        "        StructField('Tipo do Acidente', StringType()),\n",
        "        StructField('UF  Munic.  Acidente', StringType()),\n",
        "        StructField('UF Munic. Empregador', StringType()),\n",
        "        StructField('data_despacho_beneficio', StringType()),\n",
        "        StructField('data_acidente', StringType()),\n",
        "        StructField('data_nascimento', StringType()),\n",
        "        StructField('data_emissao_CAT', StringType()),\n",
        "        StructField('CNPJ/CEI Empregador', StringType()),\n",
        "    ])\n",
        ")"
      ],
      "metadata": {
        "id": "mPnhfEo7o4wz"
      },
      "execution_count": null,
      "outputs": []
    },
    {
      "cell_type": "code",
      "source": [
        "df_tratado = spark.createDataFrame(df_final, schema=esquema)"
      ],
      "metadata": {
        "id": "Bufyiv6nL7Ii"
      },
      "execution_count": null,
      "outputs": []
    },
    {
      "cell_type": "code",
      "source": [
        "df_tratado.printSchema()"
      ],
      "metadata": {
        "colab": {
          "base_uri": "https://localhost:8080/"
        },
        "id": "xW-47xwNMcjO",
        "outputId": "24171d76-b706-4099-86e7-ef67c6227392"
      },
      "execution_count": null,
      "outputs": [
        {
          "output_type": "stream",
          "name": "stdout",
          "text": [
            "root\n",
            " |-- Agente  Causador  Acidente: string (nullable = true)\n",
            " |-- CBO: string (nullable = true)\n",
            " |-- CID-10: string (nullable = true)\n",
            " |-- CNAE2.0 Empregador: integer (nullable = true)\n",
            " |-- CNAE2.0 Empregador.1: string (nullable = true)\n",
            " |-- Emitente CAT: string (nullable = true)\n",
            " |-- Espécie do benefício: string (nullable = true)\n",
            " |-- Indica Óbito Acidente: string (nullable = true)\n",
            " |-- Munic Empr: string (nullable = true)\n",
            " |-- Natureza da Lesão: string (nullable = true)\n",
            " |-- Parte Corpo Atingida: string (nullable = true)\n",
            " |-- Sexo: string (nullable = true)\n",
            " |-- Tipo do Acidente: string (nullable = true)\n",
            " |-- UF  Munic.  Acidente: string (nullable = true)\n",
            " |-- UF Munic. Empregador: string (nullable = true)\n",
            " |-- data_despacho_beneficio: string (nullable = true)\n",
            " |-- data_acidente: string (nullable = true)\n",
            " |-- data_nascimento: string (nullable = true)\n",
            " |-- data_emissao_CAT: string (nullable = true)\n",
            " |-- CNPJ/CEI Empregador: string (nullable = true)\n",
            "\n"
          ]
        }
      ]
    },
    {
      "cell_type": "markdown",
      "source": [
        "## Renomear colunas"
      ],
      "metadata": {
        "id": "48vC_ldWSR3z"
      }
    },
    {
      "cell_type": "code",
      "source": [
        "# Renomeação de algumas colunas\n",
        "df_tratado = (df_tratado\n",
        "       .withColumnRenamed('Agente  Causador  Acidente', 'causador_acidente')\n",
        "       .withColumnRenamed('CNAE2.0 Empregador.1', 'atividades_empregador')\n",
        "       .withColumnRenamed('Espécie do benefício', 'especie_do_beneficio')\n",
        "       .withColumnRenamed('Indica Óbito Acidente', 'obito')\n",
        "       .withColumnRenamed('Munic Empr', 'municipio_empregado')\n",
        "       .withColumnRenamed('Natureza da Lesão', 'natureza_lesao')\n",
        "       .withColumnRenamed('Parte Corpo Atingida', 'parte_corpo_atingida')\n",
        "       .withColumnRenamed('Sexo', 'sexo')\n",
        "       .withColumnRenamed('Tipo do Acidente', 'tipo_acidente')\n",
        "       .withColumnRenamed('UF  Munic.  Acidente', 'municipio_acidente')\n",
        "       .withColumnRenamed('Munic Empr', 'municipio_empregado')\n",
        "       .withColumnRenamed('UF Munic. Empregador', 'municipio_empregador'))"
      ],
      "metadata": {
        "id": "YW9aHLUo4pWY"
      },
      "execution_count": null,
      "outputs": []
    },
    {
      "cell_type": "code",
      "source": [
        "df_tratado.show()"
      ],
      "metadata": {
        "colab": {
          "base_uri": "https://localhost:8080/"
        },
        "id": "eOjWUmvmMapM",
        "outputId": "07d26407-5a65-43cb-d0cb-965679cfc60e"
      },
      "execution_count": null,
      "outputs": [
        {
          "output_type": "stream",
          "name": "stdout",
          "text": [
            "+--------------------+--------------------+--------------------+------------------+---------------------+-------------------+--------------------+-----+--------------------+--------------------+--------------------+---------+-------------+------------------+--------------------+-----------------------+-------------+---------------+----------------+-------------------+\n",
            "|   causador_acidente|                 CBO|              CID-10|CNAE2.0 Empregador|atividades_empregador|       Emitente CAT|especie_do_beneficio|obito| municipio_empregado|      natureza_lesao|parte_corpo_atingida|     sexo|tipo_acidente|municipio_acidente|municipio_empregador|data_despacho_beneficio|data_acidente|data_nascimento|data_emissao_CAT|CNPJ/CEI Empregador|\n",
            "+--------------------+--------------------+--------------------+------------------+---------------------+-------------------+--------------------+-----+--------------------+--------------------+--------------------+---------+-------------+------------------+--------------------+-----------------------+-------------+---------------+----------------+-------------------+\n",
            "|          não consta|515105-Agente Com...|B34.2 Infecc p/Co...|              8630| Atividades de Ate...|         Empregador|                  Pa|  Não|354780-Santo Andr...|Doenca Contagiosa...|Aparelho Respirat...| Feminino|       Doença|          Maranhão|           São Paulo|                0000/00|   20/01/2022|     02/08/1970|      01/03/2022| 57.571.275.002.570|\n",
            "|Motocicleta, Moto...|519110-Motociclis...|S52.5 Frat da Ext...|              4930| Transporte Rodovi...|Segurado/Dependente|                  Pa|  Não|    355030-São Paulo|             Fratura|Braco (Entre O Pu...|Masculino|      Trajeto|          Maranhão|           São Paulo|                0000/00|   25/02/2022|     16/12/1990|      01/03/2022| 19.578.086.000.162|\n",
            "|Motocicleta, Moto...|519110-Motociclis...|S52.5 Frat da Ext...|              4930| Transporte Rodovi...|Segurado/Dependente|                  Pa|  Não|    355030-São Paulo|             Fratura|Braco (Entre O Pu...|Masculino|      Trajeto|          Maranhão|           São Paulo|                0000/00|   25/02/2022|     16/12/1990|      01/03/2022| 19.578.086.000.162|\n",
            "|Aprision. Em, Sob...| 514205-Coletor Lixo|S60.0 Contusao de...|              3811| Coleta de Residuo...|         Empregador|                  Pa|  Não|     520110-Anápolis|             Luxacao|               Punho|Masculino|       Típico|        não consta|               Goiás|                0000/00|   24/02/2022|     19/09/1986|      01/03/2022| 00.000.000.000.000|\n",
            "|Impacto de Pes. C...|          não consta|S90.0 Contusao do...|              4639| Comercio Atacadis...|         Empregador|                  Pa|  Não|330100-Campos dos...|             Luxacao|Perna (Entre O To...|Masculino|       Típico|          Maranhão|           São Paulo|                0000/00|   28/01/2022|     25/07/1995|      01/03/2022| 00.000.000.000.000|\n",
            "|Temperatura Muito...|784205-Alimentado...|T24.4 Corros Quad...|              1011| Abate de Reses, E...|         Empregador|                  Pa|  Não|293330-Vitória da...|Queimadura ou Esc...|Perna (Entre O To...|Masculino|       Típico|        não consta|               Bahia|                0000/00|   25/02/2022|     06/10/1989|      01/03/2022| 00.000.000.000.000|\n",
            "|Piso de Veiculo -...|    521135-Frentista|S82.3 Frat da Ext...|              4731| Comercio Varejist...|         Empregador|                  Pa|  Não|    261110-Petrolina|             Fratura|Perna (Do Tornoze...|Masculino|      Trajeto|              Pará|          Pernambuco|                0000/00|   28/02/2022|     22/05/1993|      01/03/2022| 24.574.403.000.102|\n",
            "|          não consta|   223505-Enfermeiro|B34.2 Infecc p/Co...|              8630| Atividades de Ate...|         Empregador|                  Pa|  Não|354780-Santo Andr...|Doenca Contagiosa...|Aparelho Respirat...| Feminino|       Doença|          Maranhão|           São Paulo|                0000/00|   18/01/2022|     13/05/1982|      01/03/2022| 57.571.275.002.570|\n",
            "|Frasco, Garrafa -...|322205-Tec. de En...|S90.8 Outr Traum ...|              8411| Administracao Pub...|             Médico|                  Pa|  Não|     410690-Curitiba|Contusao, Esmagam...|Membros Inferiore...| Feminino|       Típico|           Roraima|              Paraná|                0000/00|   01/03/2022|     09/11/1977|      01/03/2022| 76.417.005.000.429|\n",
            "|Piso de Andaime e...|    752305-Ceramista|S90.3 Contusao de...|              2342| Fabricacao de Pro...|         Empregador|                  Pa|  Não|    230765-Maracanaú|   Distensao, Torcao|Articulacao do To...|Masculino|       Típico|        não consta|               Ceará|                0000/00|   23/02/2022|     06/12/1998|      01/03/2022| 00.000.000.000.000|\n",
            "|Produto Biologico...|322205-Tec. de En...|Z57.9 Exposicao O...|              8610| Atividades de Ate...|         Empregador|                  Pa|  Não|     410690-Curitiba|  Outras Lesoes, Nic|Face, Partes Mult...| Feminino|       Típico|           Roraima|              Paraná|                0000/00|   27/02/2022|     29/12/1980|      01/03/2022| 00.000.000.000.000|\n",
            "|Passarela ou Plat...|951105-Eletricist...|S12.2 Frat de Out...|              1610| Desdobramento de ...|         Empregador|                  Pa|  Não| 421500-Rio Negrinho|             Fratura|Dorso (Inclusive ...|Masculino|       Típico|        não consta|      Santa Catarina|                0000/00|   28/01/2022|     21/03/1990|      01/03/2022| 00.000.000.000.000|\n",
            "|Esmeril- Ferramen...|722215-Oper. Acab...|S52.8 Frat de Out...|              2941| Fabricacao de Pec...|         Empregador|                  Pa|  Não|     410690-Curitiba|Corte, Laceracao,...|Antebraco (Entre ...|Masculino|       Típico|           Roraima|              Paraná|                0000/00|   24/02/2022|     03/02/1999|      01/03/2022| 00.000.000.000.000|\n",
            "|Caixa, Engradado,...|314715-Tec. de Fu...|S90.9 Traum Super...|              2941| Fabricacao de Pec...|         Empregador|                  Pa|  Não|     410690-Curitiba|             Luxacao| Pe (Exceto Artelhos|Masculino|       Típico|           Roraima|              Paraná|                0000/00|   26/02/2022|     03/07/1996|      01/03/2022| 00.000.000.000.000|\n",
            "|          não consta|          não consta|B34.2 Infecc p/Co...|              8630| Atividades de Ate...|         Empregador|                  Pa|  Não|354780-Santo Andr...|Doenca Contagiosa...|Aparelho Respirat...| Feminino|       Doença|          Maranhão|           São Paulo|                0000/00|   20/01/2022|     16/02/1965|      01/03/2022| 57.571.275.002.570|\n",
            "|Atrito ou Abrasao...|784205-Alimentado...|S61.1 Ferim de De...|              7820| Locacao de Mao-De...|         Empregador|                  Pa|  Não|     350750-Botucatu|      Lesao Imediata|                Dedo|Masculino|       Típico|          Maranhão|           São Paulo|                0000/00|   26/02/2022|     24/08/1992|      01/03/2022| 00.000.000.000.000|\n",
            "|Talha - Equip. de...|722205-Fundidor d...|T75.4 Efeitos da ...|              2451| Fundicao de Ferro...|         Empregador|                  Pa|  Não|354580-Santa Bárb...|Choque Eletrico e...|Braco (Entre O Pu...|Masculino|       Típico|          Maranhão|           São Paulo|                0000/00|   27/02/2022|     26/01/1963|      01/03/2022| 00.000.000.000.000|\n",
            "|Rampa - Superfici...|411010-Assistente...|T14.0 Traum Super...|              4711| Comercio Varejist...|         Empregador|                  Pa|  Não|   431720-Santa Rosa|   Distensao, Torcao|Articulacao do To...| Feminino|       Típico|        não consta|   Rio Grande do Sul|                0000/00|   25/02/2022|     31/12/1993|      01/03/2022| 00.000.000.000.000|\n",
            "|Passarela ou Plat...|          não consta|S93.4 Entorse e D...|              9412| Atividades de Org...|         não consta|                  Pa|  Não|   000000-não consta|             Luxacao|Articulacao do To...|Masculino|       Típico|        não consta|          não consta|                0000/00|   24/01/2022|     07/06/1976|      01/03/2022| 00.000.000.000.000|\n",
            "|Piso de Veiculo -...|783225-Ajudante d...|S50.0 Contusao do...|              5212|     Carga e Descarga|         Empregador|                  Pa|  Não|    355030-São Paulo|Contusao, Esmagam...|            Cotovelo|Masculino|       Típico|          Maranhão|           São Paulo|                0000/00|   25/02/2022|     05/08/2002|      01/03/2022| 00.000.000.000.000|\n",
            "+--------------------+--------------------+--------------------+------------------+---------------------+-------------------+--------------------+-----+--------------------+--------------------+--------------------+---------+-------------+------------------+--------------------+-----------------------+-------------+---------------+----------------+-------------------+\n",
            "only showing top 20 rows\n",
            "\n"
          ]
        }
      ]
    },
    {
      "cell_type": "code",
      "source": [
        "df_tratado.columns"
      ],
      "metadata": {
        "colab": {
          "base_uri": "https://localhost:8080/"
        },
        "id": "XbuzmJwEmxpY",
        "outputId": "ea35adc0-cb0c-4add-abbd-1b64ae841b9d"
      },
      "execution_count": null,
      "outputs": [
        {
          "output_type": "execute_result",
          "data": {
            "text/plain": [
              "['causador_acidente',\n",
              " 'CBO',\n",
              " 'CID-10',\n",
              " 'CNAE2.0 Empregador',\n",
              " 'atividades_empregador',\n",
              " 'Emitente CAT',\n",
              " 'especie_do_beneficio',\n",
              " 'obito',\n",
              " 'municipio_empregado',\n",
              " 'natureza_lesao',\n",
              " 'parte_corpo_atingida',\n",
              " 'sexo',\n",
              " 'tipo_acidente',\n",
              " 'municipio_acidente',\n",
              " 'municipio_empregador',\n",
              " 'data_despacho_beneficio',\n",
              " 'data_acidente',\n",
              " 'data_nascimento',\n",
              " 'data_emissao_CAT',\n",
              " 'CNPJ/CEI Empregador']"
            ]
          },
          "metadata": {},
          "execution_count": 51
        }
      ]
    },
    {
      "cell_type": "markdown",
      "source": [
        "## Dropagem de colunas com Pyspark"
      ],
      "metadata": {
        "id": "YRWTXPbIc-Wl"
      }
    },
    {
      "cell_type": "markdown",
      "source": [
        "Levando em conta que o DataFrame ja foi tratado previamente no pandas, algumas colunas ja foram dropadas.\n",
        "Portanto as colunas que serão dropadas agora são as que não participarão das análises desse projeto e consideradas menos relevantes para o dataframe, como:\n",
        "\n",
        "\"Emitente CAT\" traz uma informação que não será analisada,\n",
        "\"CNPJ/CEI Empregador\" também não foi considerado relevante para as diretrizes dessa anállise, assim como \"CNAE2.0 Empregador\""
      ],
      "metadata": {
        "id": "ql92hqchpXN3"
      }
    },
    {
      "cell_type": "code",
      "source": [
        "df_tratado = df_tratado.drop('Emitente CAT', 'CNPJ/CEI Empregador', 'CNAE2.0 Empregador')"
      ],
      "metadata": {
        "id": "B-4Og4KEpW3v"
      },
      "execution_count": null,
      "outputs": []
    },
    {
      "cell_type": "markdown",
      "source": [
        "## Tratamento de dados com o pyspark"
      ],
      "metadata": {
        "id": "OGvq1CTaBpLi"
      }
    },
    {
      "cell_type": "markdown",
      "source": [
        "Como o pyspark não enxerga os DataFrames da mesma forma que o pandas, não existe uma forma nativa de procurar por valores nulos em todo o DF (como o df.isnull().sum() do pandas).\n",
        "Portanto foi buscado um código para automatizar essa busca e poder conferir pelo pyspark que nenhum dado foi perdido nas transformações anteriores (sem ter que buscar coluna por coluna)."
      ],
      "metadata": {
        "id": "rhLwB5K3db5O"
      }
    },
    {
      "cell_type": "code",
      "source": [
        "# o código abaixo \"imita\" o is null do python e itera todas as colunas do DF buscando valores nulos\n",
        "# é possível constatar que o DF segue sem valores nulos\n",
        "df_tratado.select([count(when(isnull(c), c)).alias(c) for c in df_tratado.columns]).show()"
      ],
      "metadata": {
        "colab": {
          "base_uri": "https://localhost:8080/"
        },
        "id": "FL2lUjP_gr5r",
        "outputId": "aa633b00-6b51-4ca2-e2e9-e4bafc27c7a2"
      },
      "execution_count": null,
      "outputs": [
        {
          "output_type": "stream",
          "name": "stdout",
          "text": [
            "+-----------------+---+------+---------------------+--------------------+-----+-------------------+--------------+--------------------+----+-------------+------------------+--------------------+-----------------------+-------------+---------------+----------------+\n",
            "|causador_acidente|CBO|CID-10|atividades_empregador|especie_do_beneficio|obito|municipio_empregado|natureza_lesao|parte_corpo_atingida|sexo|tipo_acidente|municipio_acidente|municipio_empregador|data_despacho_beneficio|data_acidente|data_nascimento|data_emissao_CAT|\n",
            "+-----------------+---+------+---------------------+--------------------+-----+-------------------+--------------+--------------------+----+-------------+------------------+--------------------+-----------------------+-------------+---------------+----------------+\n",
            "|                0|  0|     0|                    0|                   0|    0|                  0|             0|                   0|   0|            0|                 0|                   0|                      0|            0|              0|               0|\n",
            "+-----------------+---+------+---------------------+--------------------+-----+-------------------+--------------+--------------------+----+-------------+------------------+--------------------+-----------------------+-------------+---------------+----------------+\n",
            "\n"
          ]
        }
      ]
    },
    {
      "cell_type": "markdown",
      "source": [
        "algumas inconsistências foram ja foram encontradas quando analisando o DataFrame do Python mas foram deixadas para tratamento no PySpark, como:"
      ],
      "metadata": {
        "id": "xMKlkzQkf7TT"
      }
    },
    {
      "cell_type": "code",
      "source": [
        "# na coluna originalmente chamada \"Indica Óbito Acidente\" existem varias entrada 'ñ'\n",
        "# para o tratamento serão consideradas entradas 'Não' que foram inputadas erroneamente\n",
        "df_tratado.groupBy(\"obito\").count().show()"
      ],
      "metadata": {
        "colab": {
          "base_uri": "https://localhost:8080/"
        },
        "id": "XApfvyJ1kftE",
        "outputId": "977f0817-56d3-4d46-ae72-08f1c1b7d243"
      },
      "execution_count": null,
      "outputs": [
        {
          "output_type": "stream",
          "name": "stdout",
          "text": [
            "+-----+------+\n",
            "|obito| count|\n",
            "+-----+------+\n",
            "|  Não|165684|\n",
            "|  Sim|   873|\n",
            "|    ñ| 90844|\n",
            "+-----+------+\n",
            "\n"
          ]
        }
      ]
    },
    {
      "cell_type": "code",
      "source": [
        "# o replace regex abaixo deve corrigir essas inconsistências\n",
        "df_tratado = df_tratado.withColumn(\"obito\", regexp_replace(\"obito\", \"ñ\", \"Não\"))"
      ],
      "metadata": {
        "id": "OsTVZBgbf48W"
      },
      "execution_count": null,
      "outputs": []
    },
    {
      "cell_type": "code",
      "source": [
        "df_tratado.groupBy(\"obito\").count().show()"
      ],
      "metadata": {
        "colab": {
          "base_uri": "https://localhost:8080/"
        },
        "id": "6EYoMsZBkQi3",
        "outputId": "95a07ae2-46ed-4734-da56-4f1d4297b917"
      },
      "execution_count": null,
      "outputs": [
        {
          "output_type": "stream",
          "name": "stdout",
          "text": [
            "+-----+------+\n",
            "|obito| count|\n",
            "+-----+------+\n",
            "|  Não|256528|\n",
            "|  Sim|   873|\n",
            "+-----+------+\n",
            "\n"
          ]
        }
      ]
    },
    {
      "cell_type": "markdown",
      "source": [
        "## Manipulação das colunas"
      ],
      "metadata": {
        "id": "BNDUm_izuTPJ"
      }
    },
    {
      "cell_type": "markdown",
      "source": [
        "### coluna CBO"
      ],
      "metadata": {
        "id": "plRIiy2muZAw"
      }
    },
    {
      "cell_type": "markdown",
      "source": [
        "Pode-se verificar que a coluna CBO  traz duas informações, a primeira é um código (Código Brasileiro de Ocupação) e a segunda, separada por um hífen é a descrição daquele código.\n",
        "Para o tratamento desse DataFrame as diretrizes escolhidas definiram que o CBO em si não é tão relevante, podendo ser usada para a análise apenas a ocupação em si"
      ],
      "metadata": {
        "id": "y3NVgIugvAww"
      }
    },
    {
      "cell_type": "code",
      "source": [
        "# para tanto será criada uma nova coluna apenas com as informações \"ocupação\"\n",
        "# o replace regex abaixo seleciona e apaga todos os números e hífens, sobrando apenas a ocupação \n",
        "df_tratado = df_tratado.withColumn(\"ocupacao\", regexp_replace(\"CBO\", \"[0-9-]\", \"\"))\n"
      ],
      "metadata": {
        "id": "LmqeeIs2ubRu"
      },
      "execution_count": null,
      "outputs": []
    },
    {
      "cell_type": "code",
      "source": [
        "# Dessa forma, a coluna CBO será dropada para os próximos passos\n",
        "df_tratado = df_tratado.drop('CBO')"
      ],
      "metadata": {
        "id": "Qrd31geVwA8D"
      },
      "execution_count": null,
      "outputs": []
    },
    {
      "cell_type": "code",
      "source": [
        "df_tratado.show()"
      ],
      "metadata": {
        "colab": {
          "base_uri": "https://localhost:8080/"
        },
        "id": "3Fj0nPT_5k9j",
        "outputId": "535bcc82-3a27-4a55-d602-0a4fa4e9413b"
      },
      "execution_count": null,
      "outputs": [
        {
          "output_type": "stream",
          "name": "stdout",
          "text": [
            "+--------------------+--------------------+---------------------+--------------------+-----+--------------------+--------------------+--------------------+---------+-------------+------------------+--------------------+-----------------------+-------------+---------------+----------------+--------------------+\n",
            "|   causador_acidente|              CID-10|atividades_empregador|especie_do_beneficio|obito| municipio_empregado|      natureza_lesao|parte_corpo_atingida|     sexo|tipo_acidente|municipio_acidente|municipio_empregador|data_despacho_beneficio|data_acidente|data_nascimento|data_emissao_CAT|            ocupacao|\n",
            "+--------------------+--------------------+---------------------+--------------------+-----+--------------------+--------------------+--------------------+---------+-------------+------------------+--------------------+-----------------------+-------------+---------------+----------------+--------------------+\n",
            "|          não consta|B34.2 Infecc p/Co...| Atividades de Ate...|                  Pa|  Não|354780-Santo Andr...|Doenca Contagiosa...|Aparelho Respirat...| Feminino|       Doença|          Maranhão|           São Paulo|                0000/00|   20/01/2022|     02/08/1970|      01/03/2022|Agente Comunitári...|\n",
            "|Motocicleta, Moto...|S52.5 Frat da Ext...| Transporte Rodovi...|                  Pa|  Não|    355030-São Paulo|             Fratura|Braco (Entre O Pu...|Masculino|      Trajeto|          Maranhão|           São Paulo|                0000/00|   25/02/2022|     16/12/1990|      01/03/2022|Motociclista no T...|\n",
            "|Motocicleta, Moto...|S52.5 Frat da Ext...| Transporte Rodovi...|                  Pa|  Não|    355030-São Paulo|             Fratura|Braco (Entre O Pu...|Masculino|      Trajeto|          Maranhão|           São Paulo|                0000/00|   25/02/2022|     16/12/1990|      01/03/2022|Motociclista no T...|\n",
            "|Aprision. Em, Sob...|S60.0 Contusao de...| Coleta de Residuo...|                  Pa|  Não|     520110-Anápolis|             Luxacao|               Punho|Masculino|       Típico|        não consta|               Goiás|                0000/00|   24/02/2022|     19/09/1986|      01/03/2022|        Coletor Lixo|\n",
            "|Impacto de Pes. C...|S90.0 Contusao do...| Comercio Atacadis...|                  Pa|  Não|330100-Campos dos...|             Luxacao|Perna (Entre O To...|Masculino|       Típico|          Maranhão|           São Paulo|                0000/00|   28/01/2022|     25/07/1995|      01/03/2022|          não consta|\n",
            "|Temperatura Muito...|T24.4 Corros Quad...| Abate de Reses, E...|                  Pa|  Não|293330-Vitória da...|Queimadura ou Esc...|Perna (Entre O To...|Masculino|       Típico|        não consta|               Bahia|                0000/00|   25/02/2022|     06/10/1989|      01/03/2022|Alimentador de Li...|\n",
            "|Piso de Veiculo -...|S82.3 Frat da Ext...| Comercio Varejist...|                  Pa|  Não|    261110-Petrolina|             Fratura|Perna (Do Tornoze...|Masculino|      Trajeto|              Pará|          Pernambuco|                0000/00|   28/02/2022|     22/05/1993|      01/03/2022|           Frentista|\n",
            "|          não consta|B34.2 Infecc p/Co...| Atividades de Ate...|                  Pa|  Não|354780-Santo Andr...|Doenca Contagiosa...|Aparelho Respirat...| Feminino|       Doença|          Maranhão|           São Paulo|                0000/00|   18/01/2022|     13/05/1982|      01/03/2022|          Enfermeiro|\n",
            "|Frasco, Garrafa -...|S90.8 Outr Traum ...| Administracao Pub...|                  Pa|  Não|     410690-Curitiba|Contusao, Esmagam...|Membros Inferiore...| Feminino|       Típico|           Roraima|              Paraná|                0000/00|   01/03/2022|     09/11/1977|      01/03/2022|  Tec. de Enfermagem|\n",
            "|Piso de Andaime e...|S90.3 Contusao de...| Fabricacao de Pro...|                  Pa|  Não|    230765-Maracanaú|   Distensao, Torcao|Articulacao do To...|Masculino|       Típico|        não consta|               Ceará|                0000/00|   23/02/2022|     06/12/1998|      01/03/2022|           Ceramista|\n",
            "|Produto Biologico...|Z57.9 Exposicao O...| Atividades de Ate...|                  Pa|  Não|     410690-Curitiba|  Outras Lesoes, Nic|Face, Partes Mult...| Feminino|       Típico|           Roraima|              Paraná|                0000/00|   27/02/2022|     29/12/1980|      01/03/2022|  Tec. de Enfermagem|\n",
            "|Passarela ou Plat...|S12.2 Frat de Out...| Desdobramento de ...|                  Pa|  Não| 421500-Rio Negrinho|             Fratura|Dorso (Inclusive ...|Masculino|       Típico|        não consta|      Santa Catarina|                0000/00|   28/01/2022|     21/03/1990|      01/03/2022|Eletricista de Ma...|\n",
            "|Esmeril- Ferramen...|S52.8 Frat de Out...| Fabricacao de Pec...|                  Pa|  Não|     410690-Curitiba|Corte, Laceracao,...|Antebraco (Entre ...|Masculino|       Típico|           Roraima|              Paraná|                0000/00|   24/02/2022|     03/02/1999|      01/03/2022|Oper. Acabamento ...|\n",
            "|Caixa, Engradado,...|S90.9 Traum Super...| Fabricacao de Pec...|                  Pa|  Não|     410690-Curitiba|             Luxacao| Pe (Exceto Artelhos|Masculino|       Típico|           Roraima|              Paraná|                0000/00|   26/02/2022|     03/07/1996|      01/03/2022|Tec. de Fundição ...|\n",
            "|          não consta|B34.2 Infecc p/Co...| Atividades de Ate...|                  Pa|  Não|354780-Santo Andr...|Doenca Contagiosa...|Aparelho Respirat...| Feminino|       Doença|          Maranhão|           São Paulo|                0000/00|   20/01/2022|     16/02/1965|      01/03/2022|          não consta|\n",
            "|Atrito ou Abrasao...|S61.1 Ferim de De...| Locacao de Mao-De...|                  Pa|  Não|     350750-Botucatu|      Lesao Imediata|                Dedo|Masculino|       Típico|          Maranhão|           São Paulo|                0000/00|   26/02/2022|     24/08/1992|      01/03/2022|Alimentador de Li...|\n",
            "|Talha - Equip. de...|T75.4 Efeitos da ...| Fundicao de Ferro...|                  Pa|  Não|354580-Santa Bárb...|Choque Eletrico e...|Braco (Entre O Pu...|Masculino|       Típico|          Maranhão|           São Paulo|                0000/00|   27/02/2022|     26/01/1963|      01/03/2022|  Fundidor de Metais|\n",
            "|Rampa - Superfici...|T14.0 Traum Super...| Comercio Varejist...|                  Pa|  Não|   431720-Santa Rosa|   Distensao, Torcao|Articulacao do To...| Feminino|       Típico|        não consta|   Rio Grande do Sul|                0000/00|   25/02/2022|     31/12/1993|      01/03/2022|Assistente Admini...|\n",
            "|Passarela ou Plat...|S93.4 Entorse e D...| Atividades de Org...|                  Pa|  Não|   000000-não consta|             Luxacao|Articulacao do To...|Masculino|       Típico|        não consta|          não consta|                0000/00|   24/01/2022|     07/06/1976|      01/03/2022|          não consta|\n",
            "|Piso de Veiculo -...|S50.0 Contusao do...|     Carga e Descarga|                  Pa|  Não|    355030-São Paulo|Contusao, Esmagam...|            Cotovelo|Masculino|       Típico|          Maranhão|           São Paulo|                0000/00|   25/02/2022|     05/08/2002|      01/03/2022|Ajudante de Motor...|\n",
            "+--------------------+--------------------+---------------------+--------------------+-----+--------------------+--------------------+--------------------+---------+-------------+------------------+--------------------+-----------------------+-------------+---------------+----------------+--------------------+\n",
            "only showing top 20 rows\n",
            "\n"
          ]
        }
      ]
    },
    {
      "cell_type": "markdown",
      "source": [
        "### coluna municipio_empregado"
      ],
      "metadata": {
        "id": "n7RVJDV9xkD4"
      }
    },
    {
      "cell_type": "markdown",
      "source": [
        "quanto a coluna referente ao município do empregado também foi considerada a diretriz usada na coluna CBO e serão removidos os números e hífens, referentes ao código do município"
      ],
      "metadata": {
        "id": "sbp3ioHy0JW-"
      }
    },
    {
      "cell_type": "code",
      "source": [
        "df_tratado = df_tratado.withColumn(\"municipio_empregado\", regexp_replace(\"municipio_empregado\", \"[0-9-]\", \"\"))"
      ],
      "metadata": {
        "id": "LqtvOd4Bx1UZ"
      },
      "execution_count": null,
      "outputs": []
    },
    {
      "cell_type": "markdown",
      "source": [
        "as manipulações feitas agora, somadas com manipulações anteriores já corrigiram algumas entradas inconsistentes que estavam como \"0000 - Ignorado\" (o Ignorado foi anteriormente substituído por \"não consta\" e agora os números e hífen foram removidos)\n"
      ],
      "metadata": {
        "id": "kDsaUC-mxqH-"
      }
    },
    {
      "cell_type": "markdown",
      "source": [
        "## Buscando e dropando linhas duplicadas"
      ],
      "metadata": {
        "id": "j0CgRJSx2GuZ"
      }
    },
    {
      "cell_type": "code",
      "source": [
        "# o código abaixo basicamento conta linhas duplicadas (ao subtrair do total de linhas a qtd de linhas distintas)\n",
        "total_linhas = df_tratado.count()\n",
        "total_linhas_distintas = df_tratado.distinct().count()\n",
        "\n",
        "print(total_linhas - total_linhas_distintas)"
      ],
      "metadata": {
        "colab": {
          "base_uri": "https://localhost:8080/"
        },
        "id": "0oMpNPpS2M7-",
        "outputId": "b49963e4-d4d1-48ab-83d4-ab7a53558ae8"
      },
      "execution_count": null,
      "outputs": [
        {
          "output_type": "stream",
          "name": "stdout",
          "text": [
            "81790\n"
          ]
        }
      ]
    },
    {
      "cell_type": "code",
      "source": [
        "# foram identificadas várias linhas duplicadas, portanto serão dropadas com o seguinte comando:\n",
        "df_tratado = df_tratado.dropDuplicates()"
      ],
      "metadata": {
        "id": "kq1vNK1_2ieB"
      },
      "execution_count": null,
      "outputs": []
    },
    {
      "cell_type": "code",
      "source": [
        "# conferindo que não há mais linhas duplicadas\n",
        "total_linhas = df_tratado.count()\n",
        "total_linhas_distintas = df_tratado.distinct().count()\n",
        "\n",
        "print(total_linhas - total_linhas_distintas)"
      ],
      "metadata": {
        "colab": {
          "base_uri": "https://localhost:8080/"
        },
        "id": "iYid3Bbi24a3",
        "outputId": "b185b999-9fe1-4bd0-fcb1-abbe0e7d3af2"
      },
      "execution_count": null,
      "outputs": [
        {
          "output_type": "stream",
          "name": "stdout",
          "text": [
            "0\n"
          ]
        }
      ]
    },
    {
      "cell_type": "code",
      "source": [
        "#conferindo quantas linhas ficaram no dataframe\n",
        "total_linhas"
      ],
      "metadata": {
        "colab": {
          "base_uri": "https://localhost:8080/"
        },
        "id": "PviE8-v_vzGW",
        "outputId": "8927e672-7663-4095-fd63-11e3100475e2"
      },
      "execution_count": null,
      "outputs": [
        {
          "output_type": "execute_result",
          "data": {
            "text/plain": [
              "175611"
            ]
          },
          "metadata": {},
          "execution_count": 70
        }
      ]
    },
    {
      "cell_type": "code",
      "source": [
        "df_tratado.printSchema()"
      ],
      "metadata": {
        "colab": {
          "base_uri": "https://localhost:8080/"
        },
        "id": "T6Ph7yIF87q6",
        "outputId": "ea9343d7-5ddf-4846-8840-a85ff65c42b6"
      },
      "execution_count": null,
      "outputs": [
        {
          "output_type": "stream",
          "name": "stdout",
          "text": [
            "root\n",
            " |-- causador_acidente: string (nullable = true)\n",
            " |-- CID-10: string (nullable = true)\n",
            " |-- atividades_empregador: string (nullable = true)\n",
            " |-- especie_do_beneficio: string (nullable = true)\n",
            " |-- obito: string (nullable = true)\n",
            " |-- municipio_empregado: string (nullable = true)\n",
            " |-- natureza_lesao: string (nullable = true)\n",
            " |-- parte_corpo_atingida: string (nullable = true)\n",
            " |-- sexo: string (nullable = true)\n",
            " |-- tipo_acidente: string (nullable = true)\n",
            " |-- municipio_acidente: string (nullable = true)\n",
            " |-- municipio_empregador: string (nullable = true)\n",
            " |-- data_despacho_beneficio: string (nullable = true)\n",
            " |-- data_acidente: string (nullable = true)\n",
            " |-- data_nascimento: string (nullable = true)\n",
            " |-- data_emissao_CAT: string (nullable = true)\n",
            " |-- ocupacao: string (nullable = true)\n",
            "\n"
          ]
        }
      ]
    },
    {
      "cell_type": "code",
      "source": [
        "CREATE TABLE inss (\n",
        "    causador_acidente varchar(255),\n",
        "    CID_10 varchar(255),\n",
        "    atividades_empregador varchar(255),\n",
        "    especie_do_beneficio varchar(255),\n",
        "    obito varchar(255),\n",
        "    municipio_empregado varchar(255),\n",
        "    natureza_lesao varchar(255),\n",
        "    parte_corpo_atingida varchar(255),\n",
        "    sexo varchar(255),\n",
        "    tipo_acidente varchar(255),\n",
        "    municipio_acidente varchar(255),\n",
        "    municipio_empregador varchar(255),\n",
        "    data_despacho_beneficio varchar(255),\n",
        "    data_acidente varchar(255),\n",
        "    data_nascimento varchar(255),\n",
        "    data_emissao_CAT varchar(255),\n",
        "    ocupacao varchar(255))"
      ],
      "metadata": {
        "id": "wgpUsgQa-E4T"
      },
      "execution_count": null,
      "outputs": []
    },
    {
      "cell_type": "markdown",
      "source": [
        "# Análises com pandas"
      ],
      "metadata": {
        "id": "SmaAqQoc8Nj5"
      }
    },
    {
      "cell_type": "markdown",
      "source": [
        "Nesse passo a diretriz será criar 3 insights dentros dos dados tratados que poderão ser construídos com auxilio de plots\n"
      ],
      "metadata": {
        "id": "RXWEUNqvDzEh"
      }
    },
    {
      "cell_type": "code",
      "source": [
        "df_analise_pd = df_tratado.toPandas()"
      ],
      "metadata": {
        "id": "-GjnCPjN8t0x"
      },
      "execution_count": null,
      "outputs": []
    },
    {
      "cell_type": "code",
      "source": [
        "df_analise_pd"
      ],
      "metadata": {
        "colab": {
          "base_uri": "https://localhost:8080/"
        },
        "id": "0iAwe2DR9Obx",
        "outputId": "0b53057b-f10d-40f9-cf58-26554af1bc5d"
      },
      "execution_count": null,
      "outputs": [
        {
          "output_type": "execute_result",
          "data": {
            "text/plain": [
              "                                    causador_acidente  \\\n",
              "0       Chao - Superficie Utilizada para Sustentar Pe   \n",
              "1       Metal - Inclui Liga Ferrosa e nao Ferrosa, Tu   \n",
              "2         Impacto Sofrido por Pes. de Objeto Projetad   \n",
              "3            Ferramenta, Maquina, Equip., Veiculo, Ni   \n",
              "4          Substancia Quimica, Material, Produto, Nic   \n",
              "...                                               ...   \n",
              "175606                         Esforco Excessivo, Nic   \n",
              "175607                                         Trator   \n",
              "175608                        Agente do Acidente, Nic   \n",
              "175609  Temperatura Muito Alta, Contato com Objeto Ou   \n",
              "175610         Queda de Pes. com Dif. de Nivel de Esc   \n",
              "\n",
              "                                              CID-10  \\\n",
              "0       S63.3 Ruptura Traum de Ligamentos do Punho E   \n",
              "1               S00.0 Traum Superf do Couro Cabeludo   \n",
              "2                     S82.2 Frat da Diafise da Tibia   \n",
              "3                           M62.6 Distensao Muscular   \n",
              "4        T14.4 Traum de Nervos de Regiao Ne do Corpo   \n",
              "...                                              ...   \n",
              "175606                 G56.0 Sindr do Tunel do Carpo   \n",
              "175607            M62.2 Infarto Isquemico do Musculo   \n",
              "175608       S60.0 Contusao de Dedos s/Lesao da Unha   \n",
              "175609         T23.0 Queim do Punho e da Mao Grau Ne   \n",
              "175610                   S90.0 Contusao do Tornozelo   \n",
              "\n",
              "                                atividades_empregador especie_do_beneficio  \\\n",
              "0       Fabricacao de Chapas e de Embalagens de Papel                   Pa   \n",
              "1                       Reforma de Pneumaticos Usados                   Pa   \n",
              "2                               Instalacoes Eletricas                   Pa   \n",
              "3       Representantes Comerciais e Agentes do Comerc                   Pa   \n",
              "4       Restaurantes e Outros Estabelecimentos de Ser                   Pa   \n",
              "...                                               ...                  ...   \n",
              "175606           Atividades de Atendimento Hospitalar                   Pa   \n",
              "175607                             Criacao de Bovinos                   Pa   \n",
              "175608                Fabricacao de Produtos de Carne                   Pa   \n",
              "175609  Recuperacao de Materiais nao Especificados An                   Pa   \n",
              "175610   Obras para Geracao e Distribuicao de Energia                   Pa   \n",
              "\n",
              "       obito municipio_empregado                               natureza_lesao  \\\n",
              "0        Não       Caxias do Sul                                      Luxacao   \n",
              "1        Não            ToledoPr   Corte, Laceracao, Ferida Contusa, Punctura   \n",
              "2        Não       Santa MariaRs                                      Fratura   \n",
              "3        Não             Caçador                            Distensao, Torcao   \n",
              "4        Não             Limeira  Contusao, Esmagamento (Superficie Cutanea I   \n",
              "...      ...                 ...                                          ...   \n",
              "175606   Não        Porto Alegre                                  Doenca, Nic   \n",
              "175607   Não  São Félix do Xingu                            Distensao, Torcao   \n",
              "175608   Não               Marau  Contusao, Esmagamento (Superficie Cutanea I   \n",
              "175609   Não             Brusque  Queimadura ou Escaldadura - Efeito de Tempe   \n",
              "175610   Não           São Paulo                          Lesao Imediata, Nic   \n",
              "\n",
              "                                 parte_corpo_atingida       sexo  \\\n",
              "0                                               Punho   Feminino   \n",
              "1                                         Cabeca, Nic  Masculino   \n",
              "2                 Perna (Entre O Tornozelo e a Pelvis  Masculino   \n",
              "3                      Braco (Entre O Punho a O Ombro  Masculino   \n",
              "4                      Braco (Entre O Punho a O Ombro  Masculino   \n",
              "...                                               ...        ...   \n",
              "175606                                          Punho  Masculino   \n",
              "175607                                    Tronco, Nic  Masculino   \n",
              "175608                                           Dedo  Masculino   \n",
              "175609  Membros Superiores, Partes Multiplas (Qualque   Feminino   \n",
              "175610                           Pe (Exceto Artelhos)  Masculino   \n",
              "\n",
              "       tipo_acidente municipio_acidente municipio_empregador  \\\n",
              "0             Típico         não consta       Santa Catarina   \n",
              "1             Típico            Roraima               Paraná   \n",
              "2             Típico         não consta    Rio Grande do Sul   \n",
              "3             Típico         não consta       Santa Catarina   \n",
              "4             Típico           Maranhão            São Paulo   \n",
              "...              ...                ...                  ...   \n",
              "175606        Doença         não consta    Rio Grande do Sul   \n",
              "175607        Típico               Acre                 Pará   \n",
              "175608        Típico         não consta    Rio Grande do Sul   \n",
              "175609        Típico         não consta       Santa Catarina   \n",
              "175610        Típico           Maranhão            São Paulo   \n",
              "\n",
              "       data_despacho_beneficio data_acidente data_nascimento data_emissao_CAT  \\\n",
              "0                      0000/00    22/02/2022      12/09/1966       01/03/2022   \n",
              "1                      0000/00    28/02/2022      07/05/1994       01/03/2022   \n",
              "2                      0000/00    21/02/2022      12/01/1994       02/03/2022   \n",
              "3                      0000/00    28/02/2022      14/10/1993       02/03/2022   \n",
              "4                      0000/00    25/02/2022      20/06/1979       02/03/2022   \n",
              "...                        ...           ...             ...              ...   \n",
              "175606                 0000/00    02/08/2022      22/08/1971       06/10/2022   \n",
              "175607                 0000/00    05/10/2022      23/09/1993       06/10/2022   \n",
              "175608                 0000/00    01/10/2022      14/10/1980       06/10/2022   \n",
              "175609                 0000/00    05/10/2022      12/03/1998       06/10/2022   \n",
              "175610                 0000/00    30/09/2022      31/03/1992       06/10/2022   \n",
              "\n",
              "                                      ocupacao  \n",
              "0                             Zelador Edifício  \n",
              "1                Alimentador de Linha de Prod.  \n",
              "2       Mont. Equip. Elétricos (Transformadore  \n",
              "3           Mec. Veículos Automotores a Diesel  \n",
              "4                                       Garçom  \n",
              "...                                        ...  \n",
              "175606        Auxiliar Farmácia de Manipulação  \n",
              "175607            Trab. Volante da Agricultura  \n",
              "175608             Conferente Carga e Descarga  \n",
              "175609                 Recepcionista, em Geral  \n",
              "175610    Tec. de Telecomunicações (Telefonia)  \n",
              "\n",
              "[175611 rows x 17 columns]"
            ],
            "text/html": [
              "\n",
              "  <div id=\"df-e87ac25f-b146-406f-9fa5-adc03341aa78\">\n",
              "    <div class=\"colab-df-container\">\n",
              "      <div>\n",
              "<style scoped>\n",
              "    .dataframe tbody tr th:only-of-type {\n",
              "        vertical-align: middle;\n",
              "    }\n",
              "\n",
              "    .dataframe tbody tr th {\n",
              "        vertical-align: top;\n",
              "    }\n",
              "\n",
              "    .dataframe thead th {\n",
              "        text-align: right;\n",
              "    }\n",
              "</style>\n",
              "<table border=\"1\" class=\"dataframe\">\n",
              "  <thead>\n",
              "    <tr style=\"text-align: right;\">\n",
              "      <th></th>\n",
              "      <th>causador_acidente</th>\n",
              "      <th>CID-10</th>\n",
              "      <th>atividades_empregador</th>\n",
              "      <th>especie_do_beneficio</th>\n",
              "      <th>obito</th>\n",
              "      <th>municipio_empregado</th>\n",
              "      <th>natureza_lesao</th>\n",
              "      <th>parte_corpo_atingida</th>\n",
              "      <th>sexo</th>\n",
              "      <th>tipo_acidente</th>\n",
              "      <th>municipio_acidente</th>\n",
              "      <th>municipio_empregador</th>\n",
              "      <th>data_despacho_beneficio</th>\n",
              "      <th>data_acidente</th>\n",
              "      <th>data_nascimento</th>\n",
              "      <th>data_emissao_CAT</th>\n",
              "      <th>ocupacao</th>\n",
              "    </tr>\n",
              "  </thead>\n",
              "  <tbody>\n",
              "    <tr>\n",
              "      <th>0</th>\n",
              "      <td>Chao - Superficie Utilizada para Sustentar Pe</td>\n",
              "      <td>S63.3 Ruptura Traum de Ligamentos do Punho E</td>\n",
              "      <td>Fabricacao de Chapas e de Embalagens de Papel</td>\n",
              "      <td>Pa</td>\n",
              "      <td>Não</td>\n",
              "      <td>Caxias do Sul</td>\n",
              "      <td>Luxacao</td>\n",
              "      <td>Punho</td>\n",
              "      <td>Feminino</td>\n",
              "      <td>Típico</td>\n",
              "      <td>não consta</td>\n",
              "      <td>Santa Catarina</td>\n",
              "      <td>0000/00</td>\n",
              "      <td>22/02/2022</td>\n",
              "      <td>12/09/1966</td>\n",
              "      <td>01/03/2022</td>\n",
              "      <td>Zelador Edifício</td>\n",
              "    </tr>\n",
              "    <tr>\n",
              "      <th>1</th>\n",
              "      <td>Metal - Inclui Liga Ferrosa e nao Ferrosa, Tu</td>\n",
              "      <td>S00.0 Traum Superf do Couro Cabeludo</td>\n",
              "      <td>Reforma de Pneumaticos Usados</td>\n",
              "      <td>Pa</td>\n",
              "      <td>Não</td>\n",
              "      <td>ToledoPr</td>\n",
              "      <td>Corte, Laceracao, Ferida Contusa, Punctura</td>\n",
              "      <td>Cabeca, Nic</td>\n",
              "      <td>Masculino</td>\n",
              "      <td>Típico</td>\n",
              "      <td>Roraima</td>\n",
              "      <td>Paraná</td>\n",
              "      <td>0000/00</td>\n",
              "      <td>28/02/2022</td>\n",
              "      <td>07/05/1994</td>\n",
              "      <td>01/03/2022</td>\n",
              "      <td>Alimentador de Linha de Prod.</td>\n",
              "    </tr>\n",
              "    <tr>\n",
              "      <th>2</th>\n",
              "      <td>Impacto Sofrido por Pes. de Objeto Projetad</td>\n",
              "      <td>S82.2 Frat da Diafise da Tibia</td>\n",
              "      <td>Instalacoes Eletricas</td>\n",
              "      <td>Pa</td>\n",
              "      <td>Não</td>\n",
              "      <td>Santa MariaRs</td>\n",
              "      <td>Fratura</td>\n",
              "      <td>Perna (Entre O Tornozelo e a Pelvis</td>\n",
              "      <td>Masculino</td>\n",
              "      <td>Típico</td>\n",
              "      <td>não consta</td>\n",
              "      <td>Rio Grande do Sul</td>\n",
              "      <td>0000/00</td>\n",
              "      <td>21/02/2022</td>\n",
              "      <td>12/01/1994</td>\n",
              "      <td>02/03/2022</td>\n",
              "      <td>Mont. Equip. Elétricos (Transformadore</td>\n",
              "    </tr>\n",
              "    <tr>\n",
              "      <th>3</th>\n",
              "      <td>Ferramenta, Maquina, Equip., Veiculo, Ni</td>\n",
              "      <td>M62.6 Distensao Muscular</td>\n",
              "      <td>Representantes Comerciais e Agentes do Comerc</td>\n",
              "      <td>Pa</td>\n",
              "      <td>Não</td>\n",
              "      <td>Caçador</td>\n",
              "      <td>Distensao, Torcao</td>\n",
              "      <td>Braco (Entre O Punho a O Ombro</td>\n",
              "      <td>Masculino</td>\n",
              "      <td>Típico</td>\n",
              "      <td>não consta</td>\n",
              "      <td>Santa Catarina</td>\n",
              "      <td>0000/00</td>\n",
              "      <td>28/02/2022</td>\n",
              "      <td>14/10/1993</td>\n",
              "      <td>02/03/2022</td>\n",
              "      <td>Mec. Veículos Automotores a Diesel</td>\n",
              "    </tr>\n",
              "    <tr>\n",
              "      <th>4</th>\n",
              "      <td>Substancia Quimica, Material, Produto, Nic</td>\n",
              "      <td>T14.4 Traum de Nervos de Regiao Ne do Corpo</td>\n",
              "      <td>Restaurantes e Outros Estabelecimentos de Ser</td>\n",
              "      <td>Pa</td>\n",
              "      <td>Não</td>\n",
              "      <td>Limeira</td>\n",
              "      <td>Contusao, Esmagamento (Superficie Cutanea I</td>\n",
              "      <td>Braco (Entre O Punho a O Ombro</td>\n",
              "      <td>Masculino</td>\n",
              "      <td>Típico</td>\n",
              "      <td>Maranhão</td>\n",
              "      <td>São Paulo</td>\n",
              "      <td>0000/00</td>\n",
              "      <td>25/02/2022</td>\n",
              "      <td>20/06/1979</td>\n",
              "      <td>02/03/2022</td>\n",
              "      <td>Garçom</td>\n",
              "    </tr>\n",
              "    <tr>\n",
              "      <th>...</th>\n",
              "      <td>...</td>\n",
              "      <td>...</td>\n",
              "      <td>...</td>\n",
              "      <td>...</td>\n",
              "      <td>...</td>\n",
              "      <td>...</td>\n",
              "      <td>...</td>\n",
              "      <td>...</td>\n",
              "      <td>...</td>\n",
              "      <td>...</td>\n",
              "      <td>...</td>\n",
              "      <td>...</td>\n",
              "      <td>...</td>\n",
              "      <td>...</td>\n",
              "      <td>...</td>\n",
              "      <td>...</td>\n",
              "      <td>...</td>\n",
              "    </tr>\n",
              "    <tr>\n",
              "      <th>175606</th>\n",
              "      <td>Esforco Excessivo, Nic</td>\n",
              "      <td>G56.0 Sindr do Tunel do Carpo</td>\n",
              "      <td>Atividades de Atendimento Hospitalar</td>\n",
              "      <td>Pa</td>\n",
              "      <td>Não</td>\n",
              "      <td>Porto Alegre</td>\n",
              "      <td>Doenca, Nic</td>\n",
              "      <td>Punho</td>\n",
              "      <td>Masculino</td>\n",
              "      <td>Doença</td>\n",
              "      <td>não consta</td>\n",
              "      <td>Rio Grande do Sul</td>\n",
              "      <td>0000/00</td>\n",
              "      <td>02/08/2022</td>\n",
              "      <td>22/08/1971</td>\n",
              "      <td>06/10/2022</td>\n",
              "      <td>Auxiliar Farmácia de Manipulação</td>\n",
              "    </tr>\n",
              "    <tr>\n",
              "      <th>175607</th>\n",
              "      <td>Trator</td>\n",
              "      <td>M62.2 Infarto Isquemico do Musculo</td>\n",
              "      <td>Criacao de Bovinos</td>\n",
              "      <td>Pa</td>\n",
              "      <td>Não</td>\n",
              "      <td>São Félix do Xingu</td>\n",
              "      <td>Distensao, Torcao</td>\n",
              "      <td>Tronco, Nic</td>\n",
              "      <td>Masculino</td>\n",
              "      <td>Típico</td>\n",
              "      <td>Acre</td>\n",
              "      <td>Pará</td>\n",
              "      <td>0000/00</td>\n",
              "      <td>05/10/2022</td>\n",
              "      <td>23/09/1993</td>\n",
              "      <td>06/10/2022</td>\n",
              "      <td>Trab. Volante da Agricultura</td>\n",
              "    </tr>\n",
              "    <tr>\n",
              "      <th>175608</th>\n",
              "      <td>Agente do Acidente, Nic</td>\n",
              "      <td>S60.0 Contusao de Dedos s/Lesao da Unha</td>\n",
              "      <td>Fabricacao de Produtos de Carne</td>\n",
              "      <td>Pa</td>\n",
              "      <td>Não</td>\n",
              "      <td>Marau</td>\n",
              "      <td>Contusao, Esmagamento (Superficie Cutanea I</td>\n",
              "      <td>Dedo</td>\n",
              "      <td>Masculino</td>\n",
              "      <td>Típico</td>\n",
              "      <td>não consta</td>\n",
              "      <td>Rio Grande do Sul</td>\n",
              "      <td>0000/00</td>\n",
              "      <td>01/10/2022</td>\n",
              "      <td>14/10/1980</td>\n",
              "      <td>06/10/2022</td>\n",
              "      <td>Conferente Carga e Descarga</td>\n",
              "    </tr>\n",
              "    <tr>\n",
              "      <th>175609</th>\n",
              "      <td>Temperatura Muito Alta, Contato com Objeto Ou</td>\n",
              "      <td>T23.0 Queim do Punho e da Mao Grau Ne</td>\n",
              "      <td>Recuperacao de Materiais nao Especificados An</td>\n",
              "      <td>Pa</td>\n",
              "      <td>Não</td>\n",
              "      <td>Brusque</td>\n",
              "      <td>Queimadura ou Escaldadura - Efeito de Tempe</td>\n",
              "      <td>Membros Superiores, Partes Multiplas (Qualque</td>\n",
              "      <td>Feminino</td>\n",
              "      <td>Típico</td>\n",
              "      <td>não consta</td>\n",
              "      <td>Santa Catarina</td>\n",
              "      <td>0000/00</td>\n",
              "      <td>05/10/2022</td>\n",
              "      <td>12/03/1998</td>\n",
              "      <td>06/10/2022</td>\n",
              "      <td>Recepcionista, em Geral</td>\n",
              "    </tr>\n",
              "    <tr>\n",
              "      <th>175610</th>\n",
              "      <td>Queda de Pes. com Dif. de Nivel de Esc</td>\n",
              "      <td>S90.0 Contusao do Tornozelo</td>\n",
              "      <td>Obras para Geracao e Distribuicao de Energia</td>\n",
              "      <td>Pa</td>\n",
              "      <td>Não</td>\n",
              "      <td>São Paulo</td>\n",
              "      <td>Lesao Imediata, Nic</td>\n",
              "      <td>Pe (Exceto Artelhos)</td>\n",
              "      <td>Masculino</td>\n",
              "      <td>Típico</td>\n",
              "      <td>Maranhão</td>\n",
              "      <td>São Paulo</td>\n",
              "      <td>0000/00</td>\n",
              "      <td>30/09/2022</td>\n",
              "      <td>31/03/1992</td>\n",
              "      <td>06/10/2022</td>\n",
              "      <td>Tec. de Telecomunicações (Telefonia)</td>\n",
              "    </tr>\n",
              "  </tbody>\n",
              "</table>\n",
              "<p>175611 rows × 17 columns</p>\n",
              "</div>\n",
              "      <button class=\"colab-df-convert\" onclick=\"convertToInteractive('df-e87ac25f-b146-406f-9fa5-adc03341aa78')\"\n",
              "              title=\"Convert this dataframe to an interactive table.\"\n",
              "              style=\"display:none;\">\n",
              "        \n",
              "  <svg xmlns=\"http://www.w3.org/2000/svg\" height=\"24px\"viewBox=\"0 0 24 24\"\n",
              "       width=\"24px\">\n",
              "    <path d=\"M0 0h24v24H0V0z\" fill=\"none\"/>\n",
              "    <path d=\"M18.56 5.44l.94 2.06.94-2.06 2.06-.94-2.06-.94-.94-2.06-.94 2.06-2.06.94zm-11 1L8.5 8.5l.94-2.06 2.06-.94-2.06-.94L8.5 2.5l-.94 2.06-2.06.94zm10 10l.94 2.06.94-2.06 2.06-.94-2.06-.94-.94-2.06-.94 2.06-2.06.94z\"/><path d=\"M17.41 7.96l-1.37-1.37c-.4-.4-.92-.59-1.43-.59-.52 0-1.04.2-1.43.59L10.3 9.45l-7.72 7.72c-.78.78-.78 2.05 0 2.83L4 21.41c.39.39.9.59 1.41.59.51 0 1.02-.2 1.41-.59l7.78-7.78 2.81-2.81c.8-.78.8-2.07 0-2.86zM5.41 20L4 18.59l7.72-7.72 1.47 1.35L5.41 20z\"/>\n",
              "  </svg>\n",
              "      </button>\n",
              "      \n",
              "  <style>\n",
              "    .colab-df-container {\n",
              "      display:flex;\n",
              "      flex-wrap:wrap;\n",
              "      gap: 12px;\n",
              "    }\n",
              "\n",
              "    .colab-df-convert {\n",
              "      background-color: #E8F0FE;\n",
              "      border: none;\n",
              "      border-radius: 50%;\n",
              "      cursor: pointer;\n",
              "      display: none;\n",
              "      fill: #1967D2;\n",
              "      height: 32px;\n",
              "      padding: 0 0 0 0;\n",
              "      width: 32px;\n",
              "    }\n",
              "\n",
              "    .colab-df-convert:hover {\n",
              "      background-color: #E2EBFA;\n",
              "      box-shadow: 0px 1px 2px rgba(60, 64, 67, 0.3), 0px 1px 3px 1px rgba(60, 64, 67, 0.15);\n",
              "      fill: #174EA6;\n",
              "    }\n",
              "\n",
              "    [theme=dark] .colab-df-convert {\n",
              "      background-color: #3B4455;\n",
              "      fill: #D2E3FC;\n",
              "    }\n",
              "\n",
              "    [theme=dark] .colab-df-convert:hover {\n",
              "      background-color: #434B5C;\n",
              "      box-shadow: 0px 1px 3px 1px rgba(0, 0, 0, 0.15);\n",
              "      filter: drop-shadow(0px 1px 2px rgba(0, 0, 0, 0.3));\n",
              "      fill: #FFFFFF;\n",
              "    }\n",
              "  </style>\n",
              "\n",
              "      <script>\n",
              "        const buttonEl =\n",
              "          document.querySelector('#df-e87ac25f-b146-406f-9fa5-adc03341aa78 button.colab-df-convert');\n",
              "        buttonEl.style.display =\n",
              "          google.colab.kernel.accessAllowed ? 'block' : 'none';\n",
              "\n",
              "        async function convertToInteractive(key) {\n",
              "          const element = document.querySelector('#df-e87ac25f-b146-406f-9fa5-adc03341aa78');\n",
              "          const dataTable =\n",
              "            await google.colab.kernel.invokeFunction('convertToInteractive',\n",
              "                                                     [key], {});\n",
              "          if (!dataTable) return;\n",
              "\n",
              "          const docLinkHtml = 'Like what you see? Visit the ' +\n",
              "            '<a target=\"_blank\" href=https://colab.research.google.com/notebooks/data_table.ipynb>data table notebook</a>'\n",
              "            + ' to learn more about interactive tables.';\n",
              "          element.innerHTML = '';\n",
              "          dataTable['output_type'] = 'display_data';\n",
              "          await google.colab.output.renderOutput(dataTable, element);\n",
              "          const docLink = document.createElement('div');\n",
              "          docLink.innerHTML = docLinkHtml;\n",
              "          element.appendChild(docLink);\n",
              "        }\n",
              "      </script>\n",
              "    </div>\n",
              "  </div>\n",
              "  "
            ]
          },
          "metadata": {},
          "execution_count": 123
        }
      ]
    },
    {
      "cell_type": "markdown",
      "source": [
        "## 1) Quem será o sexo mais frágil? "
      ],
      "metadata": {
        "id": "UN6Dk7s_A3X5"
      }
    },
    {
      "cell_type": "markdown",
      "source": [
        "brincadeiras à parte o plot abaixo, criado com ajuda do matplotlib, biblioteca do pandas para fazer gráficos, ajuda a visualizar qual é o gênero que sofreu mais acidentes de trabalho, conforme a base de dados do INSS"
      ],
      "metadata": {
        "id": "k6fHvdMoA_uR"
      }
    },
    {
      "cell_type": "code",
      "source": [
        "import matplotlib.pyplot as plt\n",
        "\n",
        "contagem = df_analise_pd['sexo'].value_counts()\n",
        "\n",
        "# Plot the results\n",
        "contagem.plot(kind='bar')\n",
        "plt.show()"
      ],
      "metadata": {
        "colab": {
          "base_uri": "https://localhost:8080/"
        },
        "id": "yd357ndY9OT4",
        "outputId": "b4942704-ec0a-4779-9912-4721cdbf1aa0"
      },
      "execution_count": null,
      "outputs": [
        {
          "output_type": "display_data",
          "data": {
            "text/plain": [
              "<Figure size 432x288 with 1 Axes>"
            ],
            "image/png": "[encoded data removed]"
          },
          "metadata": {
            "needs_background": "light"
          }
        }
      ]
    },
    {
      "cell_type": "markdown",
      "source": [
        "Seguindo esses dados, os analistas podem ir mais a fundo para buscar entender se há uma correlação com as profissões realizadas por pessoas do sexo masculino, que sofrem mais acidentes, ou se há outro motivo pra sofrerem mais acidentes que o sexo oposto."
      ],
      "metadata": {
        "id": "j-pAD5H5La31"
      }
    },
    {
      "cell_type": "markdown",
      "source": [
        "## 2) Qual será a profissão mais perigosa?"
      ],
      "metadata": {
        "id": "jdsWabezCz05"
      }
    },
    {
      "cell_type": "markdown",
      "source": [
        "De maneira similar é possível fazer a plotagem para visualizar quais são as ocupações que aparecem mais vezes, dentre os acidentados."
      ],
      "metadata": {
        "id": "FAbmz0dYDGqR"
      }
    },
    {
      "cell_type": "code",
      "source": [
        "# o código abaixo remove o \"não consta\" da contagem e conta quantas vezes cada ocupação aparece na sua coluna\n",
        "contagem = df_analise_pd[df_analise_pd['ocupacao'] != 'não consta']['ocupacao'].value_counts()\n",
        "\n",
        "# na hora de plotar é possível pedir apenas pelo \"top5\"\n",
        "contagem.head(5).plot(kind='bar')\n",
        "plt.show()"
      ],
      "metadata": {
        "colab": {
          "base_uri": "https://localhost:8080/"
        },
        "id": "JNxsZCLX9OLJ",
        "outputId": "1a07068f-460b-4176-961e-bf95604196c9"
      },
      "execution_count": null,
      "outputs": [
        {
          "output_type": "display_data",
          "data": {
            "text/plain": [
              "<Figure size 432x288 with 1 Axes>"
            ],
            "image/png": "[encoded data removed]"
          },
          "metadata": {
            "needs_background": "light"
          }
        }
      ]
    },
    {
      "cell_type": "markdown",
      "source": [
        "A partir disso, pode-se verificar que Tecnico de enfermagem aparece mais do que qualquer outro e, ainda assim, \"enfermeiro\" aparece em quinto lugar, então certamente vale aprofundar no porquê da enfermagem ser um ramo com tantos acidentes."
      ],
      "metadata": {
        "id": "O36XKtOcEFBZ"
      }
    },
    {
      "cell_type": "markdown",
      "source": [
        "## 3) Quais são os municípios onde ocorrem mais acidentes?"
      ],
      "metadata": {
        "id": "2-VuD0-XE6ha"
      }
    },
    {
      "cell_type": "markdown",
      "source": [
        "Por último, é possível utilizar esse método para identificar em qual município ocorreu a maior quantidade de acidentes (destaca-se, no entanto, assim como no caso anterior, que os \"não consta\" foram retirados da conta, inclusive por haver um enorme número de entradas assim, portanto a resposta que avaliaremos não será tão precisa."
      ],
      "metadata": {
        "id": "2ANHzDkZKTxz"
      }
    },
    {
      "cell_type": "code",
      "source": [
        "contagem = df_analise_pd[df_analise_pd['municipio_acidente'] != 'não consta']['municipio_acidente'].value_counts()\n",
        "contagem.head(5).plot(kind='bar')\n",
        "plt.show()"
      ],
      "metadata": {
        "colab": {
          "base_uri": "https://localhost:8080/"
        },
        "id": "jnp3rHH39NxJ",
        "outputId": "c1541f84-9c98-46b7-99c3-e5c450bc93ce"
      },
      "execution_count": null,
      "outputs": [
        {
          "output_type": "display_data",
          "data": {
            "text/plain": [
              "<Figure size 432x288 with 1 Axes>"
            ],
            "image/png": "[encoded data removed]"
          },
          "metadata": {
            "needs_background": "light"
          }
        }
      ]
    },
    {
      "cell_type": "markdown",
      "source": [
        "# Análises com pyspark"
      ],
      "metadata": {
        "id": "BAnjDM4m8SIQ"
      }
    },
    {
      "cell_type": "code",
      "source": [
        "df_tratado.show(2)"
      ],
      "metadata": {
        "id": "IgBc-UukN7-v"
      },
      "execution_count": null,
      "outputs": []
    },
    {
      "cell_type": "code",
      "source": [
        "df_tratado.printSchema()"
      ],
      "metadata": {
        "id": "PNOZ_zFgPSHj"
      },
      "execution_count": null,
      "outputs": []
    },
    {
      "cell_type": "markdown",
      "source": [
        "## Criando colunas com funções de datas"
      ],
      "metadata": {
        "id": "RVBWznvXYg3D"
      }
    },
    {
      "cell_type": "code",
      "source": [
        "# convertendo as datas que estão completas, para criar algumas comparações, dentro de colunas novas\n",
        "df_datas = (df_tratado\n",
        "     .withColumn('data_acidente', F.to_date(F.col('data_acidente'), 'dd/MM/yyyy'))\n",
        "     .withColumn('data_nascimento', F.to_date(F.col('data_nascimento'), 'dd/MM/yyyy'))\n",
        "     .withColumn('data_emissao_CAT', F.to_date(F.col('data_emissao_CAT'), 'dd/MM/yyyy'))\n",
        ")"
      ],
      "metadata": {
        "id": "zux591hmxpDE"
      },
      "execution_count": null,
      "outputs": []
    },
    {
      "cell_type": "code",
      "source": [
        "# criando uma coluna nova que informa a idade que a pessoa tinha na época do acidente\n",
        "df_datas = df_datas.withColumn('idade_epoca_acidente', F.floor(F.months_between(F.col('data_acidente'), F.col('data_nascimento'))/12))"
      ],
      "metadata": {
        "id": "D51NWsJh7Cb0"
      },
      "execution_count": null,
      "outputs": []
    },
    {
      "cell_type": "code",
      "source": [
        "#criando uma nova coluna que conta quantos dias passaram entre a data do acidente e a emissão do CAT\n",
        "df_datas = df_datas.withColumn('dif_dias', F.datediff(F.col('data_emissao_CAT'), F.col('data_acidente')))"
      ],
      "metadata": {
        "id": "iqZx1Ct8WClD"
      },
      "execution_count": null,
      "outputs": []
    },
    {
      "cell_type": "code",
      "source": [
        "df_datas.select('data_nascimento','idade_epoca_acidente', 'data_acidente','data_emissao_CAT', 'dif_dias' ).show()"
      ],
      "metadata": {
        "colab": {
          "base_uri": "https://localhost:8080/"
        },
        "id": "itCXRE86TbKn",
        "outputId": "7d7a83e2-3c65-4d21-9a91-d845fecb2872"
      },
      "execution_count": null,
      "outputs": [
        {
          "output_type": "stream",
          "name": "stdout",
          "text": [
            "+---------------+--------------------+-------------+----------------+--------+\n",
            "|data_nascimento|idade_epoca_acidente|data_acidente|data_emissao_CAT|dif_dias|\n",
            "+---------------+--------------------+-------------+----------------+--------+\n",
            "|     1966-09-12|                  55|   2022-02-22|      2022-03-01|       7|\n",
            "|     1994-05-07|                  27|   2022-02-28|      2022-03-01|       1|\n",
            "|     1994-01-12|                  28|   2022-02-21|      2022-03-02|       9|\n",
            "|     1993-10-14|                  28|   2022-02-28|      2022-03-02|       2|\n",
            "|     1979-06-20|                  42|   2022-02-25|      2022-03-02|       5|\n",
            "|     1969-10-29|                  52|   2022-02-07|      2022-03-02|      23|\n",
            "|     1984-12-19|                  37|   2022-02-28|      2022-03-02|       2|\n",
            "|     1992-08-23|                  29|   2022-02-21|      2022-03-02|       9|\n",
            "|     1995-09-08|                  26|   2022-02-24|      2022-03-02|       6|\n",
            "|     1952-07-25|                  69|   2022-02-28|      2022-03-02|       2|\n",
            "|     1994-09-14|                  27|   2022-02-25|      2022-03-02|       5|\n",
            "|     1991-10-13|                  30|   2022-02-27|      2022-03-02|       3|\n",
            "|     1985-06-18|                  36|   2022-03-02|      2022-03-02|       0|\n",
            "|     1999-01-26|                  23|   2022-03-01|      2022-03-02|       1|\n",
            "|     1993-07-30|                  28|   2022-03-01|      2022-03-03|       2|\n",
            "|     1981-03-14|                  40|   2022-02-20|      2022-03-03|      11|\n",
            "|     1996-05-08|                  25|   2022-02-24|      2022-03-03|       7|\n",
            "|     1964-09-18|                  57|   2022-03-02|      2022-03-03|       1|\n",
            "|     1964-07-09|                  57|   2022-03-02|      2022-03-03|       1|\n",
            "|     1971-11-13|                  50|   2022-03-02|      2022-03-03|       1|\n",
            "+---------------+--------------------+-------------+----------------+--------+\n",
            "only showing top 20 rows\n",
            "\n"
          ]
        }
      ]
    },
    {
      "cell_type": "markdown",
      "source": [
        "Como observa-se, foram criadas no df_datas, duas novas colunas contendo informações relevante sobre as outras colunas já existentes a primeira \"idade_epoca_acidente\" informa a idade da pessoa na época do acidente e a segunda \"dif_dias\" conta os dias entre a data do acidente e a emissão do CAT"
      ],
      "metadata": {
        "id": "g1B46LLmYnBb"
      }
    },
    {
      "cell_type": "markdown",
      "source": [
        "## Analisando com Window functions"
      ],
      "metadata": {
        "id": "2zdMQitxZv88"
      }
    },
    {
      "cell_type": "code",
      "source": [
        "df_tratado.show()"
      ],
      "metadata": {
        "colab": {
          "base_uri": "https://localhost:8080/"
        },
        "id": "W8_JoeAibN0N",
        "outputId": "05337367-3a9e-46d8-e90f-ba62427fc2f0"
      },
      "execution_count": null,
      "outputs": [
        {
          "output_type": "stream",
          "name": "stdout",
          "text": [
            "+--------------------+--------------------+---------------------+--------------------+-----+-------------------+--------------------+--------------------+---------+-------------+------------------+--------------------+-----------------------+-------------+---------------+----------------+--------------------+\n",
            "|   causador_acidente|              CID-10|atividades_empregador|especie_do_beneficio|obito|municipio_empregado|      natureza_lesao|parte_corpo_atingida|     sexo|tipo_acidente|municipio_acidente|municipio_empregador|data_despacho_beneficio|data_acidente|data_nascimento|data_emissao_CAT|            ocupacao|\n",
            "+--------------------+--------------------+---------------------+--------------------+-----+-------------------+--------------------+--------------------+---------+-------------+------------------+--------------------+-----------------------+-------------+---------------+----------------+--------------------+\n",
            "|Chao - Superficie...|S63.3 Ruptura Tra...| Fabricacao de Cha...|                  Pa|  Não|      Caxias do Sul|             Luxacao|               Punho| Feminino|       Típico|        não consta|      Santa Catarina|                0000/00|   22/02/2022|     12/09/1966|      01/03/2022|    Zelador Edifício|\n",
            "|Metal - Inclui Li...|S00.0 Traum Super...| Reforma de Pneuma...|                  Pa|  Não|           ToledoPr|Corte, Laceracao,...|         Cabeca, Nic|Masculino|       Típico|           Roraima|              Paraná|                0000/00|   28/02/2022|     07/05/1994|      01/03/2022|Alimentador de Li...|\n",
            "|Impacto Sofrido p...|S82.2 Frat da Dia...| Instalacoes Eletr...|                  Pa|  Não|      Santa MariaRs|             Fratura|Perna (Entre O To...|Masculino|       Típico|        não consta|   Rio Grande do Sul|                0000/00|   21/02/2022|     12/01/1994|      02/03/2022|Mont. Equip. Elét...|\n",
            "|Ferramenta, Maqui...|M62.6 Distensao M...| Representantes Co...|                  Pa|  Não|            Caçador|   Distensao, Torcao|Braco (Entre O Pu...|Masculino|       Típico|        não consta|      Santa Catarina|                0000/00|   28/02/2022|     14/10/1993|      02/03/2022|Mec. Veículos Aut...|\n",
            "|Substancia Quimic...|T14.4 Traum de Ne...| Restaurantes e Ou...|                  Pa|  Não|            Limeira|Contusao, Esmagam...|Braco (Entre O Pu...|Masculino|       Típico|          Maranhão|           São Paulo|                0000/00|   25/02/2022|     20/06/1979|      02/03/2022|              Garçom|\n",
            "|Impacto de Pes. C...|          não consta| Transporte Rodovi...|                  Pa|  Não|    Moji das Cruzes|             Luxacao|              Joelho|Masculino|       Típico|          Maranhão|           São Paulo|                0000/00|   07/02/2022|     29/10/1969|      02/03/2022|           Garagista|\n",
            "|Madeira (Toro, Ma...|S62.6 Frat de Out...| Aluguel de Maquin...|                  Pa|  Não|          Araripina|             Fratura|                Dedo|Masculino|       Típico|              Pará|          Pernambuco|                0000/00|   28/02/2022|     19/12/1984|      02/03/2022|Alimentador de Li...|\n",
            "|Impacto de Pes. C...|Z20.9 Contato Exp...| Atividades de Ate...|                  Pa|  Não| Coronel Fabriciano|Escoriacao, Abras...|                Dedo| Feminino|       Típico|          Rondônia|        Minas Gerais|                0000/00|   21/02/2022|     23/08/1992|      02/03/2022|  Tec. de Enfermagem|\n",
            "|Ataque de Ser Viv...|   Z73.0 Esgotamento| Bancos Multiplos,...|                  Pa|  Não|             Osasco|         Doenca, Nic|     Sistema Nervoso|Masculino|       Doença|          Maranhão|           São Paulo|                0000/00|   24/02/2022|     08/09/1995|      02/03/2022|         Caixa Banco|\n",
            "|Impacto de Pes. C...|S86.0 Traum do Te...| Transporte Rodovi...|                  Pa|  Não|           Contagem|             Fratura|Articulacao do To...|Masculino|       Típico|          Rondônia|        Minas Gerais|                0000/00|   28/02/2022|     25/07/1952|      02/03/2022|Motorista de Cami...|\n",
            "|Motocicleta, Moto...|S93.0 Luxacao da ...| Suporte Tecnico, ...|                  Pa|  Não|Santana de Parnaíba|             Fratura|Perna (Entre O To...|Masculino|      Trajeto|          Maranhão|           São Paulo|                0000/00|   25/02/2022|     14/09/1994|      02/03/2022|Tec. em Manut. de...|\n",
            "|Queda de Pes. em ...|M54.5 Dor Lombar ...| Atividades de Ate...|                  Pa|  Não|      Caxias do Sul|  Outras Lesoes, Nic|         Tronco, Nic| Feminino|       Típico|        não consta|   Rio Grande do Sul|                0000/00|   27/02/2022|     13/10/1991|      02/03/2022|Cozinhador (Conse...|\n",
            "|Veiculo Rodoviari...|S41.1 Ferim do Braco| Telecomunicacoes ...|                  Pa|  Não|              Timbó|Escoriacao, Abras...|Partes Multiplas ...|Masculino|      Trajeto|        não consta|      Santa Catarina|                0000/00|   02/03/2022|     18/06/1985|      02/03/2022|Administrador de ...|\n",
            "|Rua e Estrada - S...|S42.2 Frat da Ext...| Instalacoes Hidra...|                  Pa|  Não|          São Paulo|             Fratura|         Tronco, Nic|Masculino|      Trajeto|          Maranhão|           São Paulo|                0000/00|   01/03/2022|     26/01/1999|      02/03/2022|Mec. Manut. Insta...|\n",
            "|Impacto de Pes. C...|S91.3 Ferim de Ou...| Abate de Reses, E...|                  Pa|  Não|    Barra do Garças|      Lesao Imediata| Pe (Exceto Artelhos|Masculino|       Típico|        não consta|         Mato Grosso|                0000/00|   01/03/2022|     30/07/1993|      03/03/2022|          Desossador|\n",
            "|Piso de Veiculo -...|S62.2 Frat do Pri...| Transporte Rodovi...|                  Pa|  Não|           São Luís|             Fratura|                Dedo|Masculino|       Típico|        não consta|            Maranhão|                0000/00|   20/02/2022|     14/03/1981|      03/03/2022|Motorista de Cami...|\n",
            "|Substancia Quimic...|T30.0 Queim Parte...| Fabricacao de Adu...|                  Pa|  Não|           Batatais|Queimadura Quimic...|Face, Partes Mult...|Masculino|       Típico|          Maranhão|           São Paulo|                0000/00|   24/02/2022|     08/05/1996|      03/03/2022|Oper. de Prod. (Q...|\n",
            "|Superficie e Estr...|S61.0 Ferim de De...| Atividades de Ate...|                  Pa|  Não|         SantarémPa|Corte, Laceracao,...|                Dedo| Feminino|       Típico|              Acre|                Pará|                0000/00|   02/03/2022|     18/09/1964|      03/03/2022|          não consta|\n",
            "|Impacto de Pes. C...|S61.1 Ferim de De...| Manutencao e Repa...|                  Pa|  Não|          São Paulo|Corte, Laceracao,...|                Dedo|Masculino|       Típico|          Maranhão|           São Paulo|                0000/00|   02/03/2022|     09/07/1964|      03/03/2022|Mec. Manut. Aeron...|\n",
            "|Correia - Disposi...|S68.1 Amput Traum...| Fabricacao de Pro...|                  Pa|  Não|      Prudentópolis|Amputacao ou Enuc...|                Dedo|Masculino|       Típico|           Roraima|              Paraná|                0000/00|   02/03/2022|     13/11/1971|      03/03/2022|Oleiro (Fabricaçã...|\n",
            "+--------------------+--------------------+---------------------+--------------------+-----+-------------------+--------------------+--------------------+---------+-------------+------------------+--------------------+-----------------------+-------------+---------------+----------------+--------------------+\n",
            "only showing top 20 rows\n",
            "\n"
          ]
        }
      ]
    },
    {
      "cell_type": "code",
      "source": [
        "from pyspark.sql.window import Window"
      ],
      "metadata": {
        "id": "_Y9cfWyiUb8k"
      },
      "execution_count": null,
      "outputs": []
    },
    {
      "cell_type": "code",
      "source": [
        "# o código abaixo cria uma partição sobre o dataframe\n",
        "w0 = Window.partitionBy(F.col('natureza_lesao')).orderBy(F.col('ocupacao'))"
      ],
      "metadata": {
        "id": "Izot1QddajTP"
      },
      "execution_count": null,
      "outputs": []
    },
    {
      "cell_type": "code",
      "source": [
        "#RANK\n",
        "df_rank = df_tratado.withColumn('rank', F.rank().over(w0))"
      ],
      "metadata": {
        "id": "OPl40JkH73Yq"
      },
      "execution_count": null,
      "outputs": []
    },
    {
      "cell_type": "code",
      "source": [
        "#DENSE_RANK\n",
        "df_dense = df_rank.withColumn('dense_rank', F.dense_rank().over(w0))"
      ],
      "metadata": {
        "id": "3yyIr-Qc9IQk"
      },
      "execution_count": null,
      "outputs": []
    },
    {
      "cell_type": "code",
      "source": [
        "df_dense.select(F.col('natureza_lesao'), F.col('ocupacao'), F.col('dense_rank'), F.col('rank')).show()"
      ],
      "metadata": {
        "colab": {
          "base_uri": "https://localhost:8080/"
        },
        "id": "YAsG-V_Qb60n",
        "outputId": "e987d97e-c1c5-46b0-e5f3-a971ba731419"
      },
      "execution_count": null,
      "outputs": [
        {
          "output_type": "stream",
          "name": "stdout",
          "text": [
            "+--------------------+--------------------+----------+----+\n",
            "|      natureza_lesao|            ocupacao|dense_rank|rank|\n",
            "+--------------------+--------------------+----------+----+\n",
            "|Amputacao ou Enuc...|            Abatedor|         1|   1|\n",
            "|Amputacao ou Enuc...|            Abatedor|         1|   1|\n",
            "|Amputacao ou Enuc...|       Administrador|         2|   3|\n",
            "|Amputacao ou Enuc...|Ajudante de Motor...|         3|   4|\n",
            "|Amputacao ou Enuc...|Ajudante de Motor...|         3|   4|\n",
            "|Amputacao ou Enuc...|Ajudante de Motor...|         3|   4|\n",
            "|Amputacao ou Enuc...|Ajudante de Motor...|         3|   4|\n",
            "|Amputacao ou Enuc...|Ajudante de Motor...|         3|   4|\n",
            "|Amputacao ou Enuc...|Ajudante de Motor...|         3|   4|\n",
            "|Amputacao ou Enuc...|Ajudante de Motor...|         3|   4|\n",
            "|Amputacao ou Enuc...|     Ajust. Mecânico|         4|  11|\n",
            "|Amputacao ou Enuc...|     Ajust. Mecânico|         4|  11|\n",
            "|Amputacao ou Enuc...|     Ajust. Mecânico|         4|  11|\n",
            "|Amputacao ou Enuc...|     Ajust. Mecânico|         4|  11|\n",
            "|Amputacao ou Enuc...|     Ajust. Mecânico|         4|  11|\n",
            "|Amputacao ou Enuc...|Ajust. Mecânico e...|         5|  16|\n",
            "|Amputacao ou Enuc...|Alimentador de Li...|         6|  17|\n",
            "|Amputacao ou Enuc...|Alimentador de Li...|         6|  17|\n",
            "|Amputacao ou Enuc...|Alimentador de Li...|         6|  17|\n",
            "|Amputacao ou Enuc...|Alimentador de Li...|         6|  17|\n",
            "+--------------------+--------------------+----------+----+\n",
            "only showing top 20 rows\n",
            "\n"
          ]
        }
      ]
    },
    {
      "cell_type": "markdown",
      "source": [
        "Acima, foram usadas 2 window functions para criar um dense_rank e um rank das ocupações particionadas pela natureza da lesao, um analista pode ser capaz de tirar dessas funções uma ideia da correlação entre a natureza de cada lesão e a ocupação da pessoa lesionada, mas mais informações certamente tornarão esse quadro mais claro."
      ],
      "metadata": {
        "id": "pYPzFUP5c2YJ"
      }
    },
    {
      "cell_type": "markdown",
      "source": [
        "## 5 insights utilizando SparkSQL"
      ],
      "metadata": {
        "id": "XY9VBSfkPaML"
      }
    },
    {
      "cell_type": "code",
      "source": [
        "df_tratado.write.saveAsTable('inss')"
      ],
      "metadata": {
        "id": "MO5sAn-ESS0q"
      },
      "execution_count": null,
      "outputs": []
    },
    {
      "cell_type": "code",
      "source": [
        "spark.sql('show tables').show()"
      ],
      "metadata": {
        "colab": {
          "base_uri": "https://localhost:8080/"
        },
        "id": "tbJ2cgGeScM0",
        "outputId": "06b2ec83-7fba-4392-c9e0-29bd871eb548"
      },
      "execution_count": null,
      "outputs": [
        {
          "output_type": "stream",
          "name": "stdout",
          "text": [
            "+---------+---------+-----------+\n",
            "|namespace|tableName|isTemporary|\n",
            "+---------+---------+-----------+\n",
            "|  default|     inss|      false|\n",
            "+---------+---------+-----------+\n",
            "\n"
          ]
        }
      ]
    },
    {
      "cell_type": "code",
      "source": [
        "spark.sql('select * from inss').show()"
      ],
      "metadata": {
        "colab": {
          "base_uri": "https://localhost:8080/"
        },
        "id": "7nKlEv-MSg5o",
        "outputId": "b8c5df16-db39-40aa-b1b2-b7a597336b2d"
      },
      "execution_count": null,
      "outputs": [
        {
          "output_type": "stream",
          "name": "stdout",
          "text": [
            "+--------------------+--------------------+---------------------+--------------------+-----+-------------------+--------------------+--------------------+---------+-------------+------------------+--------------------+-----------------------+-------------+---------------+----------------+--------------------+\n",
            "|   causador_acidente|              CID-10|atividades_empregador|especie_do_beneficio|obito|municipio_empregado|      natureza_lesao|parte_corpo_atingida|     sexo|tipo_acidente|municipio_acidente|municipio_empregador|data_despacho_beneficio|data_acidente|data_nascimento|data_emissao_CAT|            ocupacao|\n",
            "+--------------------+--------------------+---------------------+--------------------+-----+-------------------+--------------------+--------------------+---------+-------------+------------------+--------------------+-----------------------+-------------+---------------+----------------+--------------------+\n",
            "|Chao - Superficie...|S63.3 Ruptura Tra...| Fabricacao de Cha...|                  Pa|  Não|      Caxias do Sul|             Luxacao|               Punho| Feminino|       Típico|        não consta|      Santa Catarina|                0000/00|   22/02/2022|     12/09/1966|      01/03/2022|    Zelador Edifício|\n",
            "|Metal - Inclui Li...|S00.0 Traum Super...| Reforma de Pneuma...|                  Pa|  Não|           ToledoPr|Corte, Laceracao,...|         Cabeca, Nic|Masculino|       Típico|           Roraima|              Paraná|                0000/00|   28/02/2022|     07/05/1994|      01/03/2022|Alimentador de Li...|\n",
            "|Impacto Sofrido p...|S82.2 Frat da Dia...| Instalacoes Eletr...|                  Pa|  Não|      Santa MariaRs|             Fratura|Perna (Entre O To...|Masculino|       Típico|        não consta|   Rio Grande do Sul|                0000/00|   21/02/2022|     12/01/1994|      02/03/2022|Mont. Equip. Elét...|\n",
            "|Ferramenta, Maqui...|M62.6 Distensao M...| Representantes Co...|                  Pa|  Não|            Caçador|   Distensao, Torcao|Braco (Entre O Pu...|Masculino|       Típico|        não consta|      Santa Catarina|                0000/00|   28/02/2022|     14/10/1993|      02/03/2022|Mec. Veículos Aut...|\n",
            "|Substancia Quimic...|T14.4 Traum de Ne...| Restaurantes e Ou...|                  Pa|  Não|            Limeira|Contusao, Esmagam...|Braco (Entre O Pu...|Masculino|       Típico|          Maranhão|           São Paulo|                0000/00|   25/02/2022|     20/06/1979|      02/03/2022|              Garçom|\n",
            "|Impacto de Pes. C...|          não consta| Transporte Rodovi...|                  Pa|  Não|    Moji das Cruzes|             Luxacao|              Joelho|Masculino|       Típico|          Maranhão|           São Paulo|                0000/00|   07/02/2022|     29/10/1969|      02/03/2022|           Garagista|\n",
            "|Madeira (Toro, Ma...|S62.6 Frat de Out...| Aluguel de Maquin...|                  Pa|  Não|          Araripina|             Fratura|                Dedo|Masculino|       Típico|              Pará|          Pernambuco|                0000/00|   28/02/2022|     19/12/1984|      02/03/2022|Alimentador de Li...|\n",
            "|Impacto de Pes. C...|Z20.9 Contato Exp...| Atividades de Ate...|                  Pa|  Não| Coronel Fabriciano|Escoriacao, Abras...|                Dedo| Feminino|       Típico|          Rondônia|        Minas Gerais|                0000/00|   21/02/2022|     23/08/1992|      02/03/2022|  Tec. de Enfermagem|\n",
            "|Ataque de Ser Viv...|   Z73.0 Esgotamento| Bancos Multiplos,...|                  Pa|  Não|             Osasco|         Doenca, Nic|     Sistema Nervoso|Masculino|       Doença|          Maranhão|           São Paulo|                0000/00|   24/02/2022|     08/09/1995|      02/03/2022|         Caixa Banco|\n",
            "|Impacto de Pes. C...|S86.0 Traum do Te...| Transporte Rodovi...|                  Pa|  Não|           Contagem|             Fratura|Articulacao do To...|Masculino|       Típico|          Rondônia|        Minas Gerais|                0000/00|   28/02/2022|     25/07/1952|      02/03/2022|Motorista de Cami...|\n",
            "|Motocicleta, Moto...|S93.0 Luxacao da ...| Suporte Tecnico, ...|                  Pa|  Não|Santana de Parnaíba|             Fratura|Perna (Entre O To...|Masculino|      Trajeto|          Maranhão|           São Paulo|                0000/00|   25/02/2022|     14/09/1994|      02/03/2022|Tec. em Manut. de...|\n",
            "|Queda de Pes. em ...|M54.5 Dor Lombar ...| Atividades de Ate...|                  Pa|  Não|      Caxias do Sul|  Outras Lesoes, Nic|         Tronco, Nic| Feminino|       Típico|        não consta|   Rio Grande do Sul|                0000/00|   27/02/2022|     13/10/1991|      02/03/2022|Cozinhador (Conse...|\n",
            "|Veiculo Rodoviari...|S41.1 Ferim do Braco| Telecomunicacoes ...|                  Pa|  Não|              Timbó|Escoriacao, Abras...|Partes Multiplas ...|Masculino|      Trajeto|        não consta|      Santa Catarina|                0000/00|   02/03/2022|     18/06/1985|      02/03/2022|Administrador de ...|\n",
            "|Rua e Estrada - S...|S42.2 Frat da Ext...| Instalacoes Hidra...|                  Pa|  Não|          São Paulo|             Fratura|         Tronco, Nic|Masculino|      Trajeto|          Maranhão|           São Paulo|                0000/00|   01/03/2022|     26/01/1999|      02/03/2022|Mec. Manut. Insta...|\n",
            "|Impacto de Pes. C...|S91.3 Ferim de Ou...| Abate de Reses, E...|                  Pa|  Não|    Barra do Garças|      Lesao Imediata| Pe (Exceto Artelhos|Masculino|       Típico|        não consta|         Mato Grosso|                0000/00|   01/03/2022|     30/07/1993|      03/03/2022|          Desossador|\n",
            "|Piso de Veiculo -...|S62.2 Frat do Pri...| Transporte Rodovi...|                  Pa|  Não|           São Luís|             Fratura|                Dedo|Masculino|       Típico|        não consta|            Maranhão|                0000/00|   20/02/2022|     14/03/1981|      03/03/2022|Motorista de Cami...|\n",
            "|Substancia Quimic...|T30.0 Queim Parte...| Fabricacao de Adu...|                  Pa|  Não|           Batatais|Queimadura Quimic...|Face, Partes Mult...|Masculino|       Típico|          Maranhão|           São Paulo|                0000/00|   24/02/2022|     08/05/1996|      03/03/2022|Oper. de Prod. (Q...|\n",
            "|Superficie e Estr...|S61.0 Ferim de De...| Atividades de Ate...|                  Pa|  Não|         SantarémPa|Corte, Laceracao,...|                Dedo| Feminino|       Típico|              Acre|                Pará|                0000/00|   02/03/2022|     18/09/1964|      03/03/2022|          não consta|\n",
            "|Impacto de Pes. C...|S61.1 Ferim de De...| Manutencao e Repa...|                  Pa|  Não|          São Paulo|Corte, Laceracao,...|                Dedo|Masculino|       Típico|          Maranhão|           São Paulo|                0000/00|   02/03/2022|     09/07/1964|      03/03/2022|Mec. Manut. Aeron...|\n",
            "|Correia - Disposi...|S68.1 Amput Traum...| Fabricacao de Pro...|                  Pa|  Não|      Prudentópolis|Amputacao ou Enuc...|                Dedo|Masculino|       Típico|           Roraima|              Paraná|                0000/00|   02/03/2022|     13/11/1971|      03/03/2022|Oleiro (Fabricaçã...|\n",
            "+--------------------+--------------------+---------------------+--------------------+-----+-------------------+--------------------+--------------------+---------+-------------+------------------+--------------------+-----------------------+-------------+---------------+----------------+--------------------+\n",
            "only showing top 20 rows\n",
            "\n"
          ]
        }
      ]
    },
    {
      "cell_type": "markdown",
      "source": [
        "### 1) tipos de lesão"
      ],
      "metadata": {
        "id": "0gNA0RkbSvrc"
      }
    },
    {
      "cell_type": "code",
      "source": [
        "spark.sql('SELECT DISTINCT natureza_lesao FROM inss').show(truncate=False);"
      ],
      "metadata": {
        "colab": {
          "base_uri": "https://localhost:8080/"
        },
        "id": "Wzur_6h1QNlM",
        "outputId": "dc32258b-60c9-42f7-9be3-c480144a4d65"
      },
      "execution_count": null,
      "outputs": [
        {
          "output_type": "stream",
          "name": "stdout",
          "text": [
            "+-------------------------------------------+\n",
            "|natureza_lesao                             |\n",
            "+-------------------------------------------+\n",
            "|Queimadura Quimica (Lesao de Tecido Provoca|\n",
            "|Perda ou Diminuicao Mediatas de Sentido (Au|\n",
            "|Efeito de Radiacao (Imediato) - Queimadura |\n",
            "|Amputacao ou Enucleacao                    |\n",
            "|Queimadura ou Escaldadura - Efeito de Tempe|\n",
            "|Pneumoconiose (Silicose, Asbestose, Etc.)  |\n",
            "|Escoriacao, Abrasao (Ferimento Superficial)|\n",
            "|Inflamacao de Articulacao, Tendao ou Muscul|\n",
            "|Outras Lesoes, Nic                         |\n",
            "|Concussao Cerebral                         |\n",
            "|Contusao, Esmagamento (Superficie Cutanea I|\n",
            "|Intermacao, Insolacao, Caibra, Exaustao e O|\n",
            "|Pneumoconiose (Silicose, Asbestose, Etc.   |\n",
            "|Lesao Imediata, Nic                        |\n",
            "|Efeito de Radiacao (Mediato - Queimadura D |\n",
            "|Perda ou Diminuicao de Sentido (Audicao, Vi|\n",
            "|Doenca Contagiosa ou Infecciosa (Tuberculos|\n",
            "|Congelamento, Geladura e Outros Efeitos Da |\n",
            "|Asfixia, Estrangulamento, Afogamento       |\n",
            "|Doenca, Nic                                |\n",
            "+-------------------------------------------+\n",
            "only showing top 20 rows\n",
            "\n"
          ]
        }
      ]
    },
    {
      "cell_type": "markdown",
      "source": [
        "### 2) Informações sobre as pessoas com a ocupação \"Desossador\""
      ],
      "metadata": {
        "id": "yfGDIfDRTn00"
      }
    },
    {
      "cell_type": "code",
      "source": [
        "spark.sql('SELECT * FROM inss WHERE ocupacao = \"Desossador\"').show()"
      ],
      "metadata": {
        "colab": {
          "base_uri": "https://localhost:8080/"
        },
        "id": "JG11LAPnQNez",
        "outputId": "d89227f8-f6f3-4b10-f5f7-5bf736c0a2ab"
      },
      "execution_count": null,
      "outputs": [
        {
          "output_type": "stream",
          "name": "stdout",
          "text": [
            "+--------------------+--------------------+---------------------+--------------------+-----+--------------------+--------------------+--------------------+---------+-------------+------------------+--------------------+-----------------------+-------------+---------------+----------------+----------+\n",
            "|   causador_acidente|              CID-10|atividades_empregador|especie_do_beneficio|obito| municipio_empregado|      natureza_lesao|parte_corpo_atingida|     sexo|tipo_acidente|municipio_acidente|municipio_empregador|data_despacho_beneficio|data_acidente|data_nascimento|data_emissao_CAT|  ocupacao|\n",
            "+--------------------+--------------------+---------------------+--------------------+-----+--------------------+--------------------+--------------------+---------+-------------+------------------+--------------------+-----------------------+-------------+---------------+----------------+----------+\n",
            "|Impacto de Pes. C...|S91.3 Ferim de Ou...| Abate de Reses, E...|                  Pa|  Não|     Barra do Garças|      Lesao Imediata| Pe (Exceto Artelhos|Masculino|       Típico|        não consta|         Mato Grosso|                0000/00|   01/03/2022|     30/07/1993|      03/03/2022|Desossador|\n",
            "|Temperatura Muito...|T30.2 Queim de 2....| Abate de Reses, E...|                  Pa|  Não|             Itajubá|Queimadura ou Esc...|Braco (Acima do C...|Masculino|       Típico|          Rondônia|        Minas Gerais|                0000/00|   09/06/2022|     29/12/1993|      10/06/2022|Desossador|\n",
            "|Atrito ou Abrasao...|S61.0 Ferim de De...| Comercio Varejist...|                  Pa|  Não|            Quilombo|Corte, Laceracao,...|                Dedo|Masculino|       Típico|          Maranhão|           São Paulo|                0000/00|   16/03/2022|     13/09/1995|      22/03/2022|Desossador|\n",
            "|Faca, Facao- Ferr...|          não consta| Abate de Reses, E...|                  Pa|  Não|             Itajubá|Corte, Laceracao,...|               Punho|Masculino|       Típico|          Rondônia|        Minas Gerais|                0000/00|   25/03/2022|     04/12/1982|      30/03/2022|Desossador|\n",
            "|Metal - Inclui Li...|S61.1 Ferim de De...| Abate de Suinos, ...|                  Pa|  Não|           Barbacena|      Lesao Imediata|Mao (Exceto Punho...|Masculino|       Típico|          Rondônia|        Minas Gerais|                0000/00|   08/03/2022|     09/03/1984|      08/03/2022|Desossador|\n",
            "|Impacto de Pes. C...|S61.0 Ferim de De...| Abate de Reses, E...|                  Pa|  Não|  Água Azul do Norte|Corte, Laceracao,...|                Dedo|Masculino|       Típico|              Acre|                Pará|                0000/00|   25/06/2022|     25/09/1990|      27/06/2022|Desossador|\n",
            "|Temperatura Muito...|T30.2 Queim de 2....| Abate de Reses, E...|                  Pa|  Não|             Itajubá|Queimadura ou Esc...|Braco (Acima do C...|Masculino|       Típico|          Rondônia|        Minas Gerais|                0000/00|   09/06/2022|     29/12/1993|      10/06/2022|Desossador|\n",
            "|Agente do Acident...|       M79.1 Mialgia| Abate de Suinos, ...|                  Pa|  Não|São Sebastião do Caí|Inflamacao de Art...|Membros Superiore...| Feminino|       Doença|        não consta|   Rio Grande do Sul|                0000/00|   13/10/2022|     21/07/1974|      13/10/2022|Desossador|\n",
            "|Caixa, Engradado,...|S62.6 Frat de Out...| Abate de Suinos, ...|                  Pa|  Não|    São Luiz Gonzaga|             Fratura|                Dedo| Feminino|       Típico|        não consta|   Rio Grande do Sul|                0000/00|   08/06/2022|     17/03/1980|      09/06/2022|Desossador|\n",
            "|     Serra - Maquina|S61.1 Ferim de De...| Fabricacao de Pro...|                  Pa|  Não|           Canoinhas|Corte, Laceracao,...|                Dedo|Masculino|       Típico|        não consta|      Santa Catarina|                0000/00|   21/06/2022|     04/06/1975|      22/06/2022|Desossador|\n",
            "|Impacto Sofrido p...|          não consta| Abate de Reses, E...|                  Pa|  Não|            Xinguara|Corte, Laceracao,...|Antebraco (Entre ...|Masculino|       Típico|              Acre|                Pará|                0000/00|   23/03/2022|     23/06/1987|      24/03/2022|Desossador|\n",
            "|Faca, Facao- Ferr...|S31.1 Ferim da Pa...| Comercio Varejist...|                  Pa|  Não|              Manaus|      Lesao Imediata|Abdome (Inclusive...|Masculino|       Típico|        não consta|            Amazonas|                0000/00|   24/06/2022|     05/05/1984|      28/06/2022|Desossador|\n",
            "|Reacao do Corpo a...|S41.1 Ferim do Braco| Abate de Reses, E...|                  Pa|  Não|  São Félix do Xingu|Corte, Laceracao,...|Antebraco (Entre ...|Masculino|       Típico|              Acre|                Pará|                0000/00|   18/03/2022|     02/08/1995|      21/03/2022|Desossador|\n",
            "|Faca, Facao- Ferr...|S41.1 Ferim do Braco| Fabricacao de Pro...|                  Pa|  Não| Santana do Araguaia|Corte, Laceracao,...|Braco (Entre O Pu...|Masculino|       Típico|          Rondônia|        Minas Gerais|                0000/00|   31/05/2022|     20/04/1993|      03/06/2022|Desossador|\n",
            "|Faca, Facao- Ferr...|S61.0 Ferim de De...| Comercio Varejist...|                  Pa|  Não|              Manaus|      Lesao Imediata|                Dedo|Masculino|       Típico|        não consta|            Amazonas|                0000/00|   28/09/2022|     01/09/1995|      01/10/2022|Desossador|\n",
            "|Impacto de Pes. C...|S62.5 Frat do Pol...| Servicos Combinad...|                  Pa|  Não| Presidente Prudente|             Fratura|                Dedo|Masculino|       Típico|          Maranhão|           São Paulo|                0000/00|   02/06/2022|     15/03/1993|      06/06/2022|Desossador|\n",
            "|Serra- Ferramenta...|S61.0 Ferim de De...| Comercio Varejist...|                  Pa|  Não|          TrindadeGo|Corte, Laceracao,...|                Dedo|Masculino|       Típico|        não consta|               Goiás|                0000/00|   30/09/2022|     07/05/1997|      03/10/2022|Desossador|\n",
            "|Impacto de Pes. C...|S50.8 Outr Traum ...| Abate de Suinos, ...|                  Pa|  Não|  São Miguel D'Oeste|Corte, Laceracao,...|Antebraco (Entre ...|Masculino|       Típico|        não consta|      Santa Catarina|                0000/00|   09/03/2022|     08/03/2000|      09/03/2022|Desossador|\n",
            "|Queda de Pes. com...|V28.0 Condutor Ac...| Abate de Reses, E...|                  Pa|  Não|          Diamantino|Escoriacao, Abras...|Perna (Do Tornoze...|Masculino|      Trajeto|        não consta|         Mato Grosso|                0000/00|   06/06/2022|     09/07/1997|      23/06/2022|Desossador|\n",
            "|Impacto Sofrido p...|S61.1 Ferim de De...| Abate de Reses, E...|                  Pa|  Não|    Lençóis Paulista|Corte, Laceracao,...|Mao (Exceto Punho...|Masculino|       Típico|          Maranhão|           São Paulo|                0000/00|   05/10/2022|     03/03/1999|      07/10/2022|Desossador|\n",
            "+--------------------+--------------------+---------------------+--------------------+-----+--------------------+--------------------+--------------------+---------+-------------+------------------+--------------------+-----------------------+-------------+---------------+----------------+----------+\n",
            "only showing top 20 rows\n",
            "\n"
          ]
        }
      ]
    },
    {
      "cell_type": "markdown",
      "source": [
        "### 3) Lista de lugares lesionados"
      ],
      "metadata": {
        "id": "_PmzdoY-Twas"
      }
    },
    {
      "cell_type": "code",
      "source": [
        "spark.sql('SELECT DISTINCT parte_corpo_atingida FROM inss').show(truncate=False);"
      ],
      "metadata": {
        "colab": {
          "base_uri": "https://localhost:8080/"
        },
        "id": "nZ07xMBqTkXc",
        "outputId": "48ade1b7-5562-4270-8af6-b3bb00c45c2c"
      },
      "execution_count": null,
      "outputs": [
        {
          "output_type": "stream",
          "name": "stdout",
          "text": [
            "+---------------------------------------------+\n",
            "|parte_corpo_atingida                         |\n",
            "+---------------------------------------------+\n",
            "|Aparelho Circulatorio                        |\n",
            "|Membros Inferiores, Nic                      |\n",
            "|Partes Multiplas - Aplica-Se Quando Mais de U|\n",
            "|Membros Superiores, Nic                      |\n",
            "|Aparelho Genito-Urinario                     |\n",
            "|Pe (Exceto Artelhos)                         |\n",
            "|Antebraco (Entre O Punho e O Cotovelo)       |\n",
            "|Abdome (Inclusive Orgaos Internos            |\n",
            "|Mao (Exceto Punho ou Dedos                   |\n",
            "|Ouvido (Externo, Medio, Interno, Audicao e Eq|\n",
            "|Torax (Inclusive Orgaos Internos)            |\n",
            "|Olho (Inclusive Nervo Otico e Visao          |\n",
            "|Ombro                                        |\n",
            "|Perna (Do Tornozelo, Exclusive, ao Joelho, Ex|\n",
            "|Olho (Inclusive Nervo Otico e Visao)         |\n",
            "|Joelho                                       |\n",
            "|Cranio (Inclusive Encefalo)                  |\n",
            "|Articulacao do Tornozelo                     |\n",
            "|Cotovelo                                     |\n",
            "|Coxa                                         |\n",
            "+---------------------------------------------+\n",
            "only showing top 20 rows\n",
            "\n"
          ]
        }
      ]
    },
    {
      "cell_type": "markdown",
      "source": [
        "### 4) Tipos de acidente"
      ],
      "metadata": {
        "id": "5ddxdb9VUXDt"
      }
    },
    {
      "cell_type": "code",
      "source": [
        "spark.sql('SELECT DISTINCT tipo_acidente FROM inss').show(truncate=False);"
      ],
      "metadata": {
        "colab": {
          "base_uri": "https://localhost:8080/"
        },
        "id": "AGNPaHFaTZK7",
        "outputId": "442aaa2f-1259-4297-e052-a3d47503deca"
      },
      "execution_count": null,
      "outputs": [
        {
          "output_type": "stream",
          "name": "stdout",
          "text": [
            "+-------------+\n",
            "|tipo_acidente|\n",
            "+-------------+\n",
            "|Trajeto      |\n",
            "|Doença       |\n",
            "|Típico       |\n",
            "|não consta   |\n",
            "+-------------+\n",
            "\n"
          ]
        }
      ]
    },
    {
      "cell_type": "markdown",
      "source": [
        "### 5) Os municípios onde ocorreram os acidentes"
      ],
      "metadata": {
        "id": "YPkeQx-aUjZ9"
      }
    },
    {
      "cell_type": "code",
      "source": [
        "spark.sql('SELECT DISTINCT municipio_acidente FROM inss').show(truncate=False);"
      ],
      "metadata": {
        "colab": {
          "base_uri": "https://localhost:8080/"
        },
        "id": "MV3H0QfzQNRY",
        "outputId": "b656cb10-51f8-48db-eb25-f6c7f0f3cc76"
      },
      "execution_count": null,
      "outputs": [
        {
          "output_type": "stream",
          "name": "stdout",
          "text": [
            "+------------------+\n",
            "|municipio_acidente|\n",
            "+------------------+\n",
            "|Ceará             |\n",
            "|Piauí             |\n",
            "|Alagoas           |\n",
            "|Roraima           |\n",
            "|Pernambuco        |\n",
            "|Amazonas          |\n",
            "|Acre              |\n",
            "|Sergipe           |\n",
            "|Rio Grande Norte  |\n",
            "|Rondônia          |\n",
            "|Maranhão          |\n",
            "|Tocantins         |\n",
            "|Paraíba           |\n",
            "|Pará              |\n",
            "|Amapá             |\n",
            "|não consta        |\n",
            "+------------------+\n",
            "\n"
          ]
        }
      ]
    },
    {
      "cell_type": "markdown",
      "source": [
        "# Upload do dataset tratado"
      ],
      "metadata": {
        "id": "uCeXsSsEhLiz"
      }
    },
    {
      "cell_type": "code",
      "source": [
        "# salvando localmente o df_tratado do pyspark\n",
        "df_tratado.write.format('csv').save('/content/temporário', header=True)"
      ],
      "metadata": {
        "id": "xGT5dc5utsFp"
      },
      "execution_count": null,
      "outputs": []
    },
    {
      "cell_type": "code",
      "source": [
        "base_dados_tratada = pd.read_csv('/content/temporário/INSS_base_dados_tratada.csv')"
      ],
      "metadata": {
        "id": "4avSo--euKbZ"
      },
      "execution_count": null,
      "outputs": []
    },
    {
      "cell_type": "markdown",
      "source": [
        "## Para a gcp"
      ],
      "metadata": {
        "id": "lqgF3QcMhlNo"
      }
    },
    {
      "cell_type": "code",
      "source": [
        "# FAZER O ACESSO A BUCKET\n",
        "client = storage.Client()\n",
        "\n",
        "# CRIAR UMA VARIÁVEL PARA RECEBER O NOME DA BUCKET\n",
        "bucket = client.get_bucket('bc_26_jose_datasets')\n",
        "\n",
        "# enviar o csv criado com o dataframe tratado para a bucket\n",
        "# além de ser renomeado manualmente ele foi removido da pasta \"/content/temporário\", por isso esse caminho não consta no código\n",
        "blob = bucket.blob('INSS_base_dados_tratada.csv')\n",
        "blob.upload_from_filename('INSS_base_dados_tratada.csv')"
      ],
      "metadata": {
        "id": "coJX-QzShhrw"
      },
      "execution_count": null,
      "outputs": []
    },
    {
      "cell_type": "markdown",
      "source": [
        "## Para o mongoDB"
      ],
      "metadata": {
        "id": "9du6kdqKif7i"
      }
    },
    {
      "cell_type": "code",
      "execution_count": null,
      "metadata": {
        "id": "WtaL6enkkMdz"
      },
      "outputs": [],
      "source": [
        "# conector do Mongo Atlas\n",
        "uri = \"mongodb+srv://jose-soulcode.hzghbxc.mongodb.net/?authSource=%24external&authMechanism=MONGODB-X509&retryWrites=true&w=majority\"\n",
        "client = MongoClient(uri,\n",
        "                     tls=True,\n",
        "                     tlsCertificateKeyFile='/content/X509-cert-5657352609111553935.pem')"
      ]
    },
    {
      "cell_type": "code",
      "source": [
        "# criação de uma nova coleção\n",
        "dbt = client['tratado']\n",
        "colecaot = dbt['base_tratada']"
      ],
      "metadata": {
        "id": "pWlHov89jmed"
      },
      "execution_count": null,
      "outputs": []
    },
    {
      "cell_type": "code",
      "source": [
        "# verificando a conexão por meio da quantidade de documentos da coleção\n",
        "doc_count = colecaot.count_documents({})\n",
        "print(doc_count)"
      ],
      "metadata": {
        "colab": {
          "base_uri": "https://localhost:8080/"
        },
        "outputId": "3bdeef0b-8299-46f6-8bb6-644e7407bcaa",
        "id": "YNlfUS0PkMd0"
      },
      "execution_count": null,
      "outputs": [
        {
          "output_type": "stream",
          "name": "stdout",
          "text": [
            "0\n"
          ]
        }
      ]
    },
    {
      "cell_type": "code",
      "source": [
        "# inserção do DF pandas com o dataframe tratado, para o mongoDB, em foma de dicionário, \n",
        "# assim como foi feito o upload dos dataframes com os dados originais\n",
        "# o DF estava grande demais para ser enviado para o Mongo então será enviado em pedaços (\"chunks\")\n",
        "chunk_size = 1000\n",
        "# definido o tamanho do chunk, calcula-se a quantidade de chunks\n",
        "num_chunks = base_dados_tratada.shape[0] // chunk_size + 1\n",
        "\n",
        "# depois itera sobre os chunks\n",
        "for i in range(num_chunks):\n",
        "    # e cria um .loc em cima dele\n",
        "    chunk = base_dados_tratada.loc[i*chunk_size:(i+1)*chunk_size-1]\n",
        "\n",
        "    # aqui converte-se cada chunk para uma lista de dicionários\n",
        "    chunk_dict = chunk.to_dict('records')\n",
        "\n",
        "    # e aqui eles são inseridos no MongoDB\n",
        "    colecaot.insert_many(chunk_dict)"
      ],
      "metadata": {
        "id": "oyiq4uZXjmee"
      },
      "execution_count": null,
      "outputs": []
    },
    {
      "cell_type": "code",
      "source": [
        "# conferindo que entrou\n",
        "doc_count = colecaot.count_documents({})\n",
        "linhas_df_tratado = base_dados_tratada.shape[0]\n",
        "if doc_count == linhas_df_tratado:\n",
        "  print(f'o documento foi inserido com êxito, contendo {doc_count} entradas')\n",
        "else:\n",
        "  print(f'nem todas as linhas do Dataframe foram carregadas, apenas {doc_count}')"
      ],
      "metadata": {
        "colab": {
          "base_uri": "https://localhost:8080/"
        },
        "id": "7eJIT1fLjmef",
        "outputId": "5fba0644-0198-4dc0-ef63-e876f1314cc0"
      },
      "execution_count": null,
      "outputs": [
        {
          "output_type": "stream",
          "name": "stdout",
          "text": [
            "o documento foi inserido com êxito, contendo 175611 entradas\n"
          ]
        }
      ]
    },
    {
      "cell_type": "markdown",
      "source": [
        "## Para o servidor MySQL"
      ],
      "metadata": {
        "id": "_22G6NjMnqK7"
      }
    },
    {
      "cell_type": "code",
      "execution_count": null,
      "metadata": {
        "colab": {
          "base_uri": "https://localhost:8080/"
        },
        "id": "H3T4ecBDcDWI",
        "outputId": "310bd16a-3611-46f2-d659-53019360d063"
      },
      "outputs": [
        {
          "output_type": "stream",
          "name": "stdout",
          "text": [
            "Looking in indexes: https://pypi.org/simple, https://us-python.pkg.dev/colab-wheels/public/simple/\n",
            "Collecting mysql-connector-python\n",
            "  Downloading mysql_connector_python-8.0.31-cp38-cp38-manylinux1_x86_64.whl (23.5 MB)\n",
            "\u001b[2K     \u001b[90m━━━━━━━━━━━━━━━━━━━━━━━━━━━━━━━━━━━━━━━━\u001b[0m \u001b[32m23.5/23.5 MB\u001b[0m \u001b[31m45.9 MB/s\u001b[0m eta \u001b[36m0:00:00\u001b[0m\n",
            "\u001b[?25hRequirement already satisfied: protobuf<=3.20.1,>=3.11.0 in /usr/local/lib/python3.8/dist-packages (from mysql-connector-python) (3.19.6)\n",
            "Installing collected packages: mysql-connector-python\n",
            "Successfully installed mysql-connector-python-8.0.31\n"
          ]
        }
      ],
      "source": [
        "!pip install mysql-connector-python"
      ]
    },
    {
      "cell_type": "code",
      "source": [
        "import mysql.connector\n",
        "from mysql.connector import Error"
      ],
      "metadata": {
        "id": "zKCDp4cdcgIh"
      },
      "execution_count": null,
      "outputs": []
    },
    {
      "cell_type": "code",
      "source": [
        "# FUNÇÃO PARA CONECTAR AO BANCO DE DADOS SQL\n",
        "def conexao_db(servidor, usuario, senha, nome_do_banco):\n",
        "  conexao = None\n",
        "  try:\n",
        "    conexao = mysql.connector.connect(host=servidor, user=usuario, passwd=senha, database=nome_do_banco)\n",
        "    print(f'Conectado ao banco {nome_do_banco} com êxito')\n",
        "  except:\n",
        "    print(f'Erro ao conectar ao banco {nome_do_banco}')\n",
        "  \n",
        "  return conexao"
      ],
      "metadata": {
        "id": "MB73R-L4cvoM"
      },
      "execution_count": null,
      "outputs": []
    },
    {
      "cell_type": "code",
      "source": [
        "# o código abaixo usará a função acima para conectar com minha instância rodando um servidor mySQL\n",
        "# a database \"inss já foi criada lá com esse propósito\"\n",
        "conexao = conexao_db('34.83.42.34', 'root', 'root', 'inss')"
      ],
      "metadata": {
        "colab": {
          "base_uri": "https://localhost:8080/"
        },
        "id": "ZXlscr23flto",
        "outputId": "d7082092-d14f-48f6-cae5-8e3d1c09a233"
      },
      "execution_count": null,
      "outputs": [
        {
          "output_type": "stream",
          "name": "stdout",
          "text": [
            "Erro ao conectar ao banco projeto_final_data_search\n"
          ]
        }
      ]
    },
    {
      "cell_type": "code",
      "source": [
        "#criação do cursos\n",
        "cursor = conexao.cursor()\n",
        "\n",
        "# carregar o arquivo csv para a mesa inss da database no MySQL\n",
        "query = \"LOAD DATA INFILE 'INSS_base_dados_tratada.csv' INTO TABLE inss\"\n",
        "cursor.execute(query)\n",
        "\n",
        "# Commit em cima das mudanças\n",
        "conexao.commit()\n",
        "\n",
        "# fechamento do cursor e da conexao\n",
        "cursor.close()\n",
        "conexao.close()\n",
        "#tentar fazer esse código funcionar"
      ],
      "metadata": {
        "id": "xadXRphbOy_z"
      },
      "execution_count": null,
      "outputs": []
    }
  ]
}